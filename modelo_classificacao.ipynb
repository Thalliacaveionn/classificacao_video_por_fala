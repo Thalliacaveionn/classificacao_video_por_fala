{
  "nbformat": 4,
  "nbformat_minor": 0,
  "metadata": {
    "colab": {
      "provenance": [],
      "collapsed_sections": [],
      "authorship_tag": "ABX9TyOCS3HI2hk/ZflpRARFeKnp",
      "include_colab_link": true
    },
    "kernelspec": {
      "name": "python3",
      "display_name": "Python 3"
    },
    "language_info": {
      "name": "python"
    }
  },
  "cells": [
    {
      "cell_type": "markdown",
      "metadata": {
        "id": "view-in-github",
        "colab_type": "text"
      },
      "source": [
        "<a href=\"https://colab.research.google.com/github/Thalliacaveionn/classificacao_video_por_fala/blob/main/modelo_classificacao.ipynb\" target=\"_parent\"><img src=\"https://colab.research.google.com/assets/colab-badge.svg\" alt=\"Open In Colab\"/></a>"
      ]
    },
    {
      "cell_type": "markdown",
      "source": [
        "#Classificação de vídeos **com fala**, **sem fala**, **misto** e com **ruidos**"
      ],
      "metadata": {
        "id": "QCsV8NEtfb2K"
      }
    },
    {
      "cell_type": "markdown",
      "source": [
        "##Importando as bibliotecas necessárias"
      ],
      "metadata": {
        "id": "dELNCXoIU7_g"
      }
    },
    {
      "cell_type": "code",
      "source": [
        "from google.colab import drive\n",
        "drive.mount('/content/drive')\n",
        "\n",
        "import os\n",
        "import pathlib\n",
        "from datetime import datetime\n",
        "import warnings\n",
        "warnings.filterwarnings('ignore')\n",
        "import matplotlib.pyplot as plt\n",
        "import numpy as np\n",
        "import pandas as pd\n",
        "import librosa\n",
        "import librosa.display as ld\n",
        "from IPython.display import Audio\n",
        "from tqdm import tqdm\n",
        "import tensorflow\n",
        "print('Versão Tensorflow: ', tensorflow.__version__)\n",
        "from sklearn.preprocessing import LabelEncoder\n",
        "from tensorflow.keras.models import Sequential\n",
        "from tensorflow.keras.utils import to_categorical\n",
        "from tensorflow.keras.callbacks import ModelCheckpoint\n",
        "from tensorflow.keras.layers import Activation, Conv1D, Dense, Dropout, Flatten, MaxPooling1D\n",
        "from sklearn.metrics import confusion_matrix, classification_report\n",
        "from sklearn.model_selection import train_test_split\n",
        "import seaborn as sns\n",
        "sns.set()"
      ],
      "metadata": {
        "colab": {
          "base_uri": "https://localhost:8080/"
        },
        "id": "53xB7ScDQoUV",
        "outputId": "c9a2367f-13cf-4857-f25b-87e36cef779b"
      },
      "execution_count": null,
      "outputs": [
        {
          "output_type": "stream",
          "name": "stdout",
          "text": [
            "Mounted at /content/drive\n",
            "Versão Tensorflow:  2.9.2\n"
          ]
        }
      ]
    },
    {
      "cell_type": "markdown",
      "source": [
        "##Base de dados é de autoria própria\n"
      ],
      "metadata": {
        "id": "pEDHLtgRgsLE"
      }
    },
    {
      "cell_type": "markdown",
      "source": [
        "*   Este conjunto de dados contém 587 trechos de vídeo em formato .wmv que posteriormente serão transformados em formato .wav para estudo do som, o conjunto está divido em 6 classes:\n",
        "  1. Com fala (classificado por 1)\n",
        "  2. Sem fala (classificado por 0\n",
        "  3. Misto (classificado por 2)\n",
        "  4. Sem fala e ruídos (classificado por 3)\n",
        "  5. Com fala e ruídos (classificado por 4)\n",
        "  6. Misto e ruídos (classificado por 5) \n",
        "\n",
        "O nome do arquivo de vídeo tem o seguinte formato (trecho)-(video_id)-(start)-(end)-(class_id).wav\n",
        "\n",
        "\n",
        "\n",
        "*   Trecho - nome do trecho de cada vídeo levando em conta o vídeo original\n",
        "*   Video_id - id do vídeo original\n",
        "*   Star - minutagem inical do trecho levando em conta a minutagem do vídeo original\n",
        "*   End - minutagem final do trecho levando em conta a minutagem do vídeo original\n",
        "*   Class_id - id de classificação do trecho"
      ],
      "metadata": {
        "id": "P4Pz2ditOZzE"
      }
    },
    {
      "cell_type": "markdown",
      "source": [
        "Meta dados\n",
        "Os arquivos .wav estão na pasta /videos no google drive"
      ],
      "metadata": {
        "id": "oi_MJ8NLoAUv"
      }
    },
    {
      "cell_type": "code",
      "source": [
        "nome_list = []\n",
        "video_id = []\n",
        "start_list = []\n",
        "end_list = []\n",
        "class_id = []\n",
        "full_path = []\n",
        "\n",
        "caminho = '/content/drive/My Drive/UTFPR/videos/base_toda_ruidos_classe_unica/'\n",
        "\n",
        "for root, dirs, files in os.walk(caminho):\n",
        "  for file in files:\n",
        "    try:\n",
        "      nome = int(file.split('-')[0])\n",
        "      video = int(file.split('-')[1])\n",
        "      start = int(file.split('-')[2])\n",
        "      end = int(file.split('-')[3])\n",
        "      classe = file.split('-')[4]\n",
        "      classe= int(classe.split('.')[0])\n",
        "\n",
        "      nome_list.append(nome)\n",
        "      video_id.append(video)\n",
        "      start_list.append(start)\n",
        "      end_list.append(end)\n",
        "      class_id.append(classe)\n",
        "\n",
        "      full_path.append((root, file))\n",
        "    except ValueError:\n",
        "      continue\n",
        "\n",
        "print(nome_list)\n",
        "print(video_id)\n",
        "print(start_list)\n",
        "print(end_list)\n",
        "print(class_id)\n",
        "print(full_path)"
      ],
      "metadata": {
        "colab": {
          "base_uri": "https://localhost:8080/"
        },
        "id": "sovQoe_VoB1R",
        "outputId": "4b90d745-7d50-45bf-ba5a-ff7682d3d188"
      },
      "execution_count": null,
      "outputs": [
        {
          "output_type": "stream",
          "name": "stdout",
          "text": [
            "[1, 1, 1, 1, 1, 1, 1, 1, 1, 2, 2, 2, 2, 2, 2, 2, 2, 2, 3, 3, 3, 3, 3, 3, 3, 3, 3, 4, 4, 4, 4, 4, 4, 4, 4, 4, 5, 5, 5, 5, 5, 5, 5, 5, 5, 6, 6, 6, 6, 6, 6, 6, 6, 6, 7, 7, 7, 7, 7, 7, 7, 7, 8, 7, 8, 8, 8, 8, 8, 8, 29, 28, 27, 26, 8, 8, 9, 9, 9, 9, 9, 9, 9, 9, 9, 10, 10, 10, 10, 10, 10, 10, 10, 11, 11, 11, 11, 11, 11, 11, 11, 12, 12, 12, 12, 12, 12, 12, 13, 13, 13, 13, 13, 13, 13, 14, 14, 14, 14, 14, 14, 15, 15, 15, 15, 15, 15, 16, 16, 16, 16, 16, 16, 17, 17, 17, 17, 17, 17, 18, 18, 18, 18, 18, 18, 19, 19, 19, 19, 19, 20, 20, 21, 21, 22, 22, 23, 23, 24, 25, 1, 1, 2, 2, 3, 3, 4, 4, 5, 5, 6, 6, 7, 7, 8, 8, 9, 9, 10, 10, 11, 11, 12, 12, 13, 13, 14, 14, 15, 15, 16, 16, 1, 1, 1, 2, 2, 2, 3, 3, 3, 4, 4, 4, 5, 5, 5, 6, 6, 6, 7, 7, 7, 8, 8, 9, 9, 10, 10, 11, 11, 12, 13, 14, 15, 16, 17, 18, 19, 20, 21, 22, 1, 1, 2, 2, 3, 3, 4, 4, 5, 5, 6, 6, 7, 7, 8, 8, 9, 10, 10, 11, 11, 12, 12, 13, 13, 14, 14, 9, 1, 2, 3, 4, 5, 6, 1, 2, 3, 4, 5, 6, 7, 8, 9, 10, 11, 12, 13, 1, 1, 1, 1, 2, 2, 2, 2, 3, 3, 3, 3, 4, 4, 4, 4, 5, 5, 5, 5, 6, 6, 6, 6, 7, 7, 7, 7, 8, 8, 8, 8, 9, 9, 9, 9, 10, 10, 10, 10, 11, 11, 11, 11, 12, 12, 12, 12, 13, 13, 13, 13, 14, 14, 14, 15, 15, 15, 15, 16, 16, 16, 17, 17, 17, 17, 18, 18, 18, 14, 1, 1, 2, 2, 3, 3, 4, 4, 5, 5, 6, 6, 7, 7, 8, 8, 9, 9, 10, 10, 11, 11, 12, 12, 13, 13, 14, 14, 15, 15, 16, 16, 17, 18, 1, 2, 3, 4, 5, 6, 7, 8, 9, 10, 11, 12, 13, 14, 15, 16, 1, 2, 3, 4, 5, 6, 7, 8, 9, 10, 11, 12, 13, 14, 15, 16, 1, 2, 3, 4, 5, 6, 7, 9, 10, 11, 12, 13, 14, 15, 16, 8, 1, 2, 3, 4, 5, 6, 7, 8, 9, 10, 11, 12, 13, 14, 15, 16, 1, 1, 1, 1, 1, 2, 2, 2, 2, 2, 3, 3, 3, 3, 3, 4, 4, 4, 4, 4, 5, 5, 5, 5, 5, 6, 6, 6, 6, 6, 7, 7, 7, 7, 7, 8, 8, 8, 8, 8, 9, 9, 9, 9, 9, 10, 10, 10, 10, 10, 11, 11, 11, 11, 11, 12, 12, 12, 12, 12, 13, 13, 13, 13, 13, 14, 14, 14, 14, 14, 15, 15, 15, 15, 15, 16, 16, 16, 16, 16, 17, 17, 17, 17, 17, 18, 18, 18, 18, 18, 19, 19, 19, 19, 19, 20, 20, 20, 20, 20, 21, 21, 21, 21, 21, 22, 22, 22, 22, 22, 23, 23, 23, 23, 23, 24, 24, 24, 24, 24, 1, 1, 1, 1, 1, 2, 2, 2, 2, 2, 3, 3, 3, 3, 3, 4, 4, 4, 4, 4]\n",
            "[1, 2, 3, 4, 5, 6, 7, 8, 9, 1, 2, 3, 4, 5, 6, 7, 8, 9, 1, 2, 3, 4, 5, 6, 7, 8, 9, 1, 2, 3, 4, 5, 6, 7, 8, 9, 1, 2, 3, 5, 4, 6, 7, 8, 9, 1, 2, 3, 4, 5, 6, 7, 9, 8, 1, 2, 4, 3, 5, 6, 7, 8, 1, 9, 2, 3, 4, 5, 6, 8, 8, 8, 8, 8, 7, 9, 1, 2, 3, 4, 5, 6, 7, 8, 9, 1, 2, 3, 4, 5, 7, 8, 9, 1, 2, 3, 4, 5, 7, 8, 9, 1, 3, 4, 5, 7, 8, 9, 1, 3, 4, 5, 7, 8, 9, 3, 4, 5, 7, 8, 9, 3, 4, 5, 7, 8, 9, 3, 4, 5, 7, 8, 9, 3, 4, 5, 7, 8, 9, 3, 4, 5, 7, 8, 9, 3, 4, 5, 8, 9, 5, 8, 5, 8, 5, 8, 5, 8, 8, 8, 10, 11, 10, 11, 10, 11, 10, 11, 10, 11, 10, 11, 10, 11, 10, 11, 10, 11, 10, 11, 10, 11, 10, 11, 10, 11, 10, 11, 10, 11, 10, 11, 12, 13, 14, 12, 13, 14, 12, 13, 14, 12, 13, 14, 12, 13, 14, 12, 13, 14, 12, 13, 14, 12, 13, 12, 13, 12, 13, 12, 13, 12, 12, 12, 12, 12, 12, 12, 12, 12, 12, 12, 15, 16, 15, 16, 15, 16, 15, 16, 15, 16, 15, 16, 15, 16, 15, 16, 16, 15, 16, 15, 16, 15, 16, 15, 16, 15, 16, 15, 17, 17, 17, 17, 17, 17, 18, 18, 18, 18, 18, 18, 18, 18, 18, 18, 18, 18, 18, 19, 20, 21, 22, 19, 20, 21, 22, 19, 20, 21, 22, 19, 20, 21, 22, 19, 20, 21, 22, 19, 20, 21, 22, 19, 20, 21, 22, 19, 20, 21, 22, 19, 20, 21, 22, 19, 20, 21, 22, 19, 20, 21, 22, 19, 20, 21, 22, 19, 20, 21, 22, 19, 20, 22, 19, 20, 21, 22, 19, 21, 22, 19, 20, 21, 22, 20, 21, 22, 21, 23, 24, 23, 24, 23, 24, 23, 24, 23, 24, 23, 24, 23, 24, 23, 24, 23, 24, 23, 24, 23, 24, 23, 24, 23, 24, 23, 24, 23, 24, 23, 24, 23, 23, 25, 25, 25, 25, 25, 25, 25, 25, 25, 25, 25, 25, 25, 25, 25, 25, 26, 26, 26, 26, 26, 26, 26, 26, 26, 26, 26, 26, 26, 26, 26, 26, 27, 27, 27, 27, 27, 27, 27, 27, 27, 27, 27, 27, 27, 27, 27, 27, 28, 28, 28, 28, 28, 28, 28, 28, 28, 28, 28, 28, 28, 28, 28, 28, 29, 30, 31, 32, 33, 29, 30, 31, 32, 33, 29, 30, 31, 32, 33, 29, 30, 31, 32, 33, 29, 30, 31, 32, 33, 29, 30, 31, 32, 33, 29, 30, 31, 32, 33, 29, 30, 31, 32, 33, 29, 30, 31, 32, 33, 29, 30, 31, 32, 33, 29, 30, 31, 32, 33, 29, 30, 31, 32, 33, 29, 30, 31, 32, 33, 29, 30, 31, 32, 33, 29, 30, 31, 32, 33, 29, 30, 31, 32, 33, 29, 30, 31, 32, 33, 29, 30, 31, 32, 33, 29, 30, 31, 32, 33, 29, 30, 31, 32, 33, 29, 30, 31, 32, 33, 29, 30, 31, 32, 33, 29, 30, 31, 32, 33, 29, 30, 31, 32, 33, 34, 35, 36, 37, 38, 34, 35, 36, 37, 38, 34, 35, 36, 37, 38, 34, 35, 36, 37, 38]\n",
            "[0, 0, 0, 0, 0, 0, 119, 5, 0, 106, 116, 416, 1014, 14, 707, 429, 315, 516, 303, 228, 805, 1415, 505, 1125, 1020, 624, 1018, 615, 512, 1429, 2023, 1022, 2322, 1409, 714, 1718, 1000, 718, 1617, 1518, 2811, 3009, 1814, 803, 2124, 1429, 1319, 2024, 2903, 1601, 4023, 2029, 2822, 1411, 1800, 1625, 3304, 2406, 1923, 4911, 2510, 1910, 1820, 3318, 1713, 2716, 3323, 2506, 10205, 2204, 12818, 12311, 11915, 11823, 2807, 3813, 2110, 1909, 3114, 3501, 2718, 10415, 3227, 2228, 4322, 2425, 2402, 3506, 4218, 2803, 3621, 2419, 4411, 2528, 2615, 3729, 4702, 2925, 4111, 2928, 4504, 2624, 4012, 5406, 3711, 4225, 3514, 4523, 2722, 4415, 10208, 4216, 4528, 4015, 4827, 4706, 10800, 4901, 4805, 4200, 5518, 5115, 11119, 5314, 5200, 4219, 5917, 5807, 11213, 10021, 5411, 4614, 10625, 10205, 11613, 10224, 5906, 5206, 11027, 10419, 12114, 10320, 10123, 5807, 11908, 10809, 12619, 10906, 5825, 12422, 10920, 10118, 11117, 10601, 11213, 10813, 11422, 11303, 11409, 11526, 0, 0, 215, 208, 721, 328, 1119, 620, 1623, 1110, 2310, 1514, 2626, 1913, 3116, 2607, 4000, 2905, 4626, 3411, 5209, 3801, 5625, 4417, 10509, 4701, 11317, 5111, 12120, 5600, 12704, 5924, 0, 0, 114, 118, 101, 406, 510, 315, 925, 828, 801, 617, 1004, 922, 1505, 1715, 1209, 1818, 2121, 1502, 2517, 2605, 1725, 3115, 2009, 3605, 2602, 4121, 2814, 4327, 4903, 5410, 5720, 10010, 10417, 11004, 11508, 11716, 12024, 12505, 415, 0, 1107, 1301, 1529, 1804, 2208, 2405, 2521, 2822, 2915, 3117, 3612, 3718, 3912, 4527, 4921, 4522, 5510, 4814, 5721, 5302, 10714, 10005, 11400, 10606, 11910, 4212, 0, 904, 1601, 2617, 3809, 5400, 0, 726, 1411, 1920, 3101, 3608, 4422, 522, 5726, 10327, 10913, 11511, 12111, 119, 119, 119, 119, 429, 429, 429, 429, 1020, 1020, 1020, 1020, 1409, 1409, 1409, 1409, 1814, 1814, 1814, 1814, 2029, 2029, 2029, 2029, 2510, 2510, 2510, 2510, 2807, 2807, 2807, 2807, 3621, 3227, 3227, 3227, 4111, 3621, 3621, 3621, 4225, 4111, 4111, 4111, 4528, 4225, 4225, 4225, 4805, 4528, 4528, 4528, 5200, 4805, 4805, 5411, 5200, 5200, 5200, 5906, 5411, 5411, 10123, 5906, 5906, 5906, 10123, 10123, 10123, 4805, 119, 0, 429, 208, 1020, 328, 1409, 620, 1814, 1110, 2029, 1514, 2510, 1913, 2807, 2607, 3227, 2905, 3621, 3411, 4111, 3801, 4225, 4417, 4528, 4701, 4805, 5111, 5200, 5600, 5411, 5924, 5906, 10123, 0, 208, 328, 620, 1110, 1514, 1913, 2607, 2905, 3411, 3801, 4417, 4701, 5111, 5600, 5924, 0, 208, 328, 620, 1110, 1514, 1913, 2607, 2905, 3411, 3801, 4417, 4701, 5111, 5600, 5924, 0, 208, 328, 620, 1110, 1514, 1913, 2905, 3411, 3801, 4417, 4701, 5111, 5600, 5924, 2607, 0, 208, 328, 620, 1110, 1514, 1913, 2607, 2905, 3411, 3801, 4417, 4701, 5111, 5600, 5924, 14, 14, 14, 14, 14, 505, 505, 505, 505, 505, 1022, 1022, 1022, 1022, 1022, 1518, 1518, 1518, 1518, 1518, 1601, 1601, 1601, 1601, 1601, 1923, 1923, 1923, 1923, 1923, 2506, 2506, 2506, 2506, 2506, 2718, 2718, 2718, 2718, 2718, 2803, 2803, 2803, 2803, 2803, 2925, 2925, 2925, 2925, 2925, 3711, 3711, 3711, 3711, 3711, 4216, 4216, 4216, 4216, 4216, 4901, 4901, 4901, 4901, 4901, 5314, 5314, 5314, 5314, 5314, 10021, 10021, 10021, 10021, 10021, 10224, 10224, 10224, 10224, 10224, 10320, 10320, 10320, 10320, 10320, 10906, 10906, 10906, 10906, 10906, 10920, 10920, 10920, 10920, 10920, 11117, 11117, 11117, 11117, 11117, 11213, 11213, 11213, 11213, 11213, 11422, 11422, 11422, 11422, 11422, 12504, 12504, 12504, 12504, 12504, 12904, 12904, 12904, 12904, 12904, 0, 0, 0, 0, 0, 721, 721, 721, 721, 721, 1623, 1623, 1623, 1623, 1623, 2626, 2626, 2626, 2626, 2626]\n",
            "[106, 116, 416, 1014, 14, 707, 429, 315, 516, 303, 228, 805, 1415, 505, 1125, 1020, 624, 1018, 615, 512, 1429, 2023, 1022, 2322, 1409, 714, 1718, 1000, 718, 1617, 2811, 1518, 3009, 1814, 803, 2124, 1429, 1319, 2024, 1601, 2903, 4023, 2029, 1411, 2822, 1800, 1625, 2406, 3304, 1923, 4911, 2510, 3318, 1910, 1820, 11713, 3323, 2716, 2506, 10205, 2807, 2204, 2110, 3813, 1909, 3114, 3501, 2718, 10415, 2228, 13100, 12818, 12311, 11915, 3227, 4322, 2425, 2402, 3506, 4218, 2803, 10911, 3621, 2419, 4411, 2528, 2615, 3729, 4702, 2925, 4111, 2928, 4504, 2624, 2702, 4012, 5406, 3711, 4225, 3514, 4523, 2722, 4415, 10208, 4216, 4528, 4015, 4827, 2908, 4706, 10800, 4901, 4805, 4200, 5518, 5115, 11119, 5314, 5200, 4219, 5917, 5807, 11213, 10021, 5411, 4614, 10625, 10205, 11613, 10224, 5906, 5206, 11027, 10419, 12114, 10320, 10123, 5807, 11908, 10809, 12619, 10906, 10414, 5825, 12422, 10901, 13020, 10920, 10118, 13100, 11117, 10601, 11213, 10813, 11422, 11303, 12504, 11409, 11526, 11823, 215, 208, 721, 328, 1119, 620, 1623, 1110, 2310, 1514, 2626, 1913, 3116, 2607, 4000, 2905, 4626, 3411, 5209, 3801, 5625, 4417, 10509, 4701, 11317, 5111, 12120, 5600, 12704, 5924, 13100, 10414, 118, 101, 406, 510, 315, 617, 828, 801, 1505, 1104, 922, 925, 1715, 1209, 1818, 2121, 1502, 2517, 2605, 1725, 2703, 3115, 2009, 3605, 2602, 4121, 2814, 4327, 2926, 4903, 5410, 5720, 10010, 10417, 11004, 11508, 11716, 12024, 12505, 13100, 1107, 1301, 1529, 1804, 2208, 2405, 2521, 2822, 2915, 3117, 3612, 3718, 3912, 4527, 4212, 4911, 5510, 4814, 5721, 5302, 10714, 10005, 11400, 10606, 11910, 10901, 13021, 4512, 904, 1601, 2617, 3809, 5400, 10911, 726, 1411, 1920, 3101, 3608, 4422, 5222, 5726, 10327, 10913, 11511, 12111, 13100, 429, 429, 429, 429, 1020, 1020, 1020, 1020, 1409, 1409, 1409, 1409, 1814, 1814, 1804, 1814, 2029, 2029, 2029, 2029, 2510, 2510, 2510, 2510, 2807, 2807, 2807, 2807, 3227, 3227, 3227, 3227, 4111, 3621, 3621, 3621, 4225, 4111, 4111, 4111, 4528, 4225, 4225, 4225, 4805, 4528, 4528, 4528, 5200, 4805, 4805, 4805, 5411, 5200, 5200, 5906, 5411, 5411, 5411, 10123, 5906, 5906, 10414, 10123, 10123, 10123, 10414, 10414, 10414, 5200, 429, 208, 1020, 328, 1409, 620, 1814, 1110, 2029, 1514, 2510, 1913, 2807, 2607, 3227, 2905, 3621, 3411, 4111, 3801, 4225, 4417, 4528, 4701, 4805, 5111, 5200, 5600, 5411, 5924, 5906, 10414, 10123, 10414, 208, 328, 620, 1110, 1514, 1913, 2607, 2905, 3411, 3801, 4417, 4701, 5111, 5600, 5924, 10414, 208, 328, 620, 1110, 1514, 1913, 2607, 2905, 3411, 3801, 4417, 4701, 5111, 5600, 5924, 10414, 208, 328, 620, 1110, 1514, 1913, 2607, 3411, 3801, 4417, 4701, 5111, 5600, 5924, 10414, 2905, 208, 328, 620, 1110, 1514, 1913, 2607, 2905, 34411, 3801, 4417, 4701, 5111, 5600, 5924, 10414, 505, 505, 505, 505, 505, 1022, 1022, 1022, 1022, 1022, 1518, 1518, 1518, 1518, 1518, 1601, 1601, 1601, 1601, 1601, 1923, 1923, 1923, 1923, 1923, 2506, 2506, 2506, 2506, 2506, 2718, 2718, 2718, 2718, 2718, 2803, 2803, 2803, 2803, 2803, 2925, 2925, 2925, 2925, 2925, 3711, 3711, 3711, 3711, 3711, 4216, 4216, 4216, 4216, 4216, 4901, 4901, 4901, 4901, 4901, 5314, 5314, 5314, 5314, 5314, 10021, 10021, 10021, 10021, 10021, 10224, 10224, 10224, 10224, 10224, 10320, 10320, 10320, 10320, 10320, 10906, 10906, 10906, 10906, 10906, 10920, 10920, 10920, 10920, 10920, 11117, 11117, 11117, 11117, 11117, 11213, 12113, 11213, 11213, 11213, 11422, 11422, 11422, 11422, 11422, 12504, 12504, 12504, 12504, 12504, 12904, 12904, 12904, 12904, 12904, 13029, 13029, 13029, 13029, 13029, 721, 721, 721, 721, 721, 1623, 1623, 1623, 1623, 1623, 2626, 2626, 2626, 2626, 2626, 3600, 3600, 3600, 3600, 3600]\n",
            "[0, 0, 0, 0, 0, 0, 1, 1, 0, 1, 1, 1, 1, 1, 1, 0, 0, 1, 0, 0, 0, 0, 0, 0, 1, 1, 0, 1, 1, 1, 1, 1, 1, 0, 0, 1, 0, 0, 0, 0, 0, 0, 1, 1, 0, 1, 1, 1, 1, 1, 1, 0, 1, 0, 0, 0, 0, 0, 0, 0, 1, 1, 1, 0, 1, 1, 1, 1, 1, 0, 1, 0, 1, 0, 0, 1, 0, 0, 0, 0, 0, 0, 1, 1, 0, 1, 1, 1, 1, 1, 0, 0, 1, 0, 0, 0, 0, 0, 1, 1, 0, 1, 1, 1, 1, 0, 0, 1, 0, 0, 0, 0, 1, 1, 0, 1, 1, 1, 0, 0, 1, 0, 0, 0, 1, 1, 0, 1, 1, 1, 0, 0, 1, 0, 0, 0, 1, 1, 0, 1, 1, 1, 0, 0, 1, 0, 0, 0, 1, 0, 1, 0, 0, 1, 1, 0, 0, 1, 0, 1, 1, 2, 2, 1, 2, 2, 1, 2, 2, 1, 2, 2, 2, 2, 2, 2, 2, 2, 2, 2, 2, 2, 2, 2, 1, 2, 2, 2, 2, 2, 2, 2, 1, 0, 2, 2, 1, 1, 1, 2, 2, 1, 1, 2, 2, 2, 1, 1, 0, 2, 2, 1, 2, 2, 1, 2, 2, 2, 1, 1, 0, 2, 2, 1, 1, 2, 2, 2, 1, 1, 2, 2, 2, 2, 2, 2, 2, 2, 2, 1, 2, 1, 2, 2, 2, 2, 1, 2, 2, 2, 1, 2, 2, 2, 1, 2, 2, 2, 2, 2, 2, 2, 2, 2, 2, 2, 2, 2, 2, 2, 2, 2, 2, 2, 2, 2, 2, 2, 2, 4, 4, 4, 4, 3, 3, 3, 3, 4, 4, 4, 4, 3, 3, 3, 3, 4, 4, 4, 4, 3, 3, 3, 3, 4, 4, 4, 4, 3, 3, 3, 3, 3, 4, 4, 4, 4, 3, 3, 3, 3, 4, 4, 4, 4, 3, 3, 3, 3, 4, 4, 4, 4, 3, 3, 3, 4, 4, 4, 4, 3, 3, 3, 4, 4, 4, 3, 3, 3, 3, 4, 5, 3, 5, 4, 5, 3, 5, 4, 5, 3, 5, 4, 5, 3, 5, 4, 5, 3, 5, 4, 5, 3, 5, 4, 5, 3, 5, 4, 5, 3, 5, 4, 3, 5, 5, 5, 5, 5, 5, 5, 5, 5, 5, 5, 5, 5, 5, 5, 5, 5, 5, 5, 5, 5, 5, 5, 5, 5, 5, 5, 5, 5, 5, 5, 5, 5, 5, 5, 5, 5, 5, 5, 5, 5, 5, 5, 5, 5, 5, 5, 5, 5, 5, 5, 5, 5, 5, 5, 5, 5, 5, 5, 5, 5, 5, 5, 5, 4, 4, 4, 4, 4, 3, 3, 3, 3, 3, 4, 4, 4, 4, 4, 3, 3, 3, 3, 3, 4, 4, 4, 4, 4, 3, 3, 3, 3, 3, 4, 4, 4, 4, 4, 3, 3, 3, 3, 3, 4, 4, 4, 4, 4, 3, 3, 3, 3, 3, 4, 4, 4, 4, 4, 3, 3, 3, 3, 3, 4, 4, 4, 4, 4, 3, 3, 3, 3, 3, 4, 4, 4, 4, 4, 3, 3, 3, 3, 3, 4, 4, 4, 4, 4, 3, 3, 3, 3, 3, 4, 4, 4, 4, 4, 3, 3, 3, 3, 3, 4, 4, 4, 4, 4, 3, 3, 3, 3, 3, 4, 4, 4, 4, 4, 3, 3, 3, 3, 3, 5, 5, 5, 5, 5, 5, 5, 5, 5, 5, 5, 5, 5, 5, 5, 5, 5, 5, 5, 5]\n",
            "[('/content/drive/My Drive/UTFPR/videos/base_toda_ruidos_classe_unica/', '001-001-000000-000106-0.wav'), ('/content/drive/My Drive/UTFPR/videos/base_toda_ruidos_classe_unica/', '001-002-000000-000116-0.wav'), ('/content/drive/My Drive/UTFPR/videos/base_toda_ruidos_classe_unica/', '001-003-000000-000416-0.wav'), ('/content/drive/My Drive/UTFPR/videos/base_toda_ruidos_classe_unica/', '001-004-000000-001014-0.wav'), ('/content/drive/My Drive/UTFPR/videos/base_toda_ruidos_classe_unica/', '001-005-000000-000014-0.wav'), ('/content/drive/My Drive/UTFPR/videos/base_toda_ruidos_classe_unica/', '001-006-000000-000707-0.wav'), ('/content/drive/My Drive/UTFPR/videos/base_toda_ruidos_classe_unica/', '001-007-000119-000429-1.wav'), ('/content/drive/My Drive/UTFPR/videos/base_toda_ruidos_classe_unica/', '001-008-000005-000315-1.wav'), ('/content/drive/My Drive/UTFPR/videos/base_toda_ruidos_classe_unica/', '001-009-000000-000516-0.wav'), ('/content/drive/My Drive/UTFPR/videos/base_toda_ruidos_classe_unica/', '002-001-000106-000303-1.wav'), ('/content/drive/My Drive/UTFPR/videos/base_toda_ruidos_classe_unica/', '002-002-000116-000228-1.wav'), ('/content/drive/My Drive/UTFPR/videos/base_toda_ruidos_classe_unica/', '002-003-000416-000805-1.wav'), ('/content/drive/My Drive/UTFPR/videos/base_toda_ruidos_classe_unica/', '002-004-001014-001415-1.wav'), ('/content/drive/My Drive/UTFPR/videos/base_toda_ruidos_classe_unica/', '002-005-000014-000505-1.wav'), ('/content/drive/My Drive/UTFPR/videos/base_toda_ruidos_classe_unica/', '002-006-000707-001125-1.wav'), ('/content/drive/My Drive/UTFPR/videos/base_toda_ruidos_classe_unica/', '002-007-000429-001020-0.wav'), ('/content/drive/My Drive/UTFPR/videos/base_toda_ruidos_classe_unica/', '002-008-000315-000624-0.wav'), ('/content/drive/My Drive/UTFPR/videos/base_toda_ruidos_classe_unica/', '002-009-000516-001018-1.wav'), ('/content/drive/My Drive/UTFPR/videos/base_toda_ruidos_classe_unica/', '003-001-000303-000615-0.wav'), ('/content/drive/My Drive/UTFPR/videos/base_toda_ruidos_classe_unica/', '003-002-000228-000512-0.wav'), ('/content/drive/My Drive/UTFPR/videos/base_toda_ruidos_classe_unica/', '003-003-000805-001429-0.wav'), ('/content/drive/My Drive/UTFPR/videos/base_toda_ruidos_classe_unica/', '003-004-001415-002023-0.wav'), ('/content/drive/My Drive/UTFPR/videos/base_toda_ruidos_classe_unica/', '003-005-000505-001022-0.wav'), ('/content/drive/My Drive/UTFPR/videos/base_toda_ruidos_classe_unica/', '003-006-001125-002322-0.wav'), ('/content/drive/My Drive/UTFPR/videos/base_toda_ruidos_classe_unica/', '003-007-001020-001409-1.wav'), ('/content/drive/My Drive/UTFPR/videos/base_toda_ruidos_classe_unica/', '003-008-000624-000714-1.wav'), ('/content/drive/My Drive/UTFPR/videos/base_toda_ruidos_classe_unica/', '003-009-001018-001718-0.wav'), ('/content/drive/My Drive/UTFPR/videos/base_toda_ruidos_classe_unica/', '004-001-000615-001000-1.wav'), ('/content/drive/My Drive/UTFPR/videos/base_toda_ruidos_classe_unica/', '004-002-000512-000718-1.wav'), ('/content/drive/My Drive/UTFPR/videos/base_toda_ruidos_classe_unica/', '004-003-001429-001617-1.wav'), ('/content/drive/My Drive/UTFPR/videos/base_toda_ruidos_classe_unica/', '004-004-002023-002811-1.wav'), ('/content/drive/My Drive/UTFPR/videos/base_toda_ruidos_classe_unica/', '004-005-001022-001518-1.wav'), ('/content/drive/My Drive/UTFPR/videos/base_toda_ruidos_classe_unica/', '004-006-002322-003009-1.wav'), ('/content/drive/My Drive/UTFPR/videos/base_toda_ruidos_classe_unica/', '004-007-001409-001814-0.wav'), ('/content/drive/My Drive/UTFPR/videos/base_toda_ruidos_classe_unica/', '004-008-000714-000803-0.wav'), ('/content/drive/My Drive/UTFPR/videos/base_toda_ruidos_classe_unica/', '004-009-001718-002124-1.wav'), ('/content/drive/My Drive/UTFPR/videos/base_toda_ruidos_classe_unica/', '005-001-001000-001429-0.wav'), ('/content/drive/My Drive/UTFPR/videos/base_toda_ruidos_classe_unica/', '005-002-000718-001319-0.wav'), ('/content/drive/My Drive/UTFPR/videos/base_toda_ruidos_classe_unica/', '005-003-001617-002024-0.wav'), ('/content/drive/My Drive/UTFPR/videos/base_toda_ruidos_classe_unica/', '005-005-001518-001601-0.wav'), ('/content/drive/My Drive/UTFPR/videos/base_toda_ruidos_classe_unica/', '005-004-002811-002903-0.wav'), ('/content/drive/My Drive/UTFPR/videos/base_toda_ruidos_classe_unica/', '005-006-003009-004023-0.wav'), ('/content/drive/My Drive/UTFPR/videos/base_toda_ruidos_classe_unica/', '005-007-001814-002029-1.wav'), ('/content/drive/My Drive/UTFPR/videos/base_toda_ruidos_classe_unica/', '005-008-000803-001411-1.wav'), ('/content/drive/My Drive/UTFPR/videos/base_toda_ruidos_classe_unica/', '005-009-002124-002822-0.wav'), ('/content/drive/My Drive/UTFPR/videos/base_toda_ruidos_classe_unica/', '006-001-001429-001800-1.wav'), ('/content/drive/My Drive/UTFPR/videos/base_toda_ruidos_classe_unica/', '006-002-001319-001625-1.wav'), ('/content/drive/My Drive/UTFPR/videos/base_toda_ruidos_classe_unica/', '006-003-002024-002406-1.wav'), ('/content/drive/My Drive/UTFPR/videos/base_toda_ruidos_classe_unica/', '006-004-002903-003304-1.wav'), ('/content/drive/My Drive/UTFPR/videos/base_toda_ruidos_classe_unica/', '006-005-001601-001923-1.wav'), ('/content/drive/My Drive/UTFPR/videos/base_toda_ruidos_classe_unica/', '006-006-004023-004911-1.wav'), ('/content/drive/My Drive/UTFPR/videos/base_toda_ruidos_classe_unica/', '006-007-002029-002510-0.wav'), ('/content/drive/My Drive/UTFPR/videos/base_toda_ruidos_classe_unica/', '006-009-002822-003318-1.wav'), ('/content/drive/My Drive/UTFPR/videos/base_toda_ruidos_classe_unica/', '006-008-001411-001910-0.wav'), ('/content/drive/My Drive/UTFPR/videos/base_toda_ruidos_classe_unica/', '007-001-001800-001820-0.wav'), ('/content/drive/My Drive/UTFPR/videos/base_toda_ruidos_classe_unica/', '007-002-001625-011713-0.wav'), ('/content/drive/My Drive/UTFPR/videos/base_toda_ruidos_classe_unica/', '007-004-003304-003323-0.wav'), ('/content/drive/My Drive/UTFPR/videos/base_toda_ruidos_classe_unica/', '007-003-002406-002716-0.wav'), ('/content/drive/My Drive/UTFPR/videos/base_toda_ruidos_classe_unica/', '007-005-001923-002506-0.wav'), ('/content/drive/My Drive/UTFPR/videos/base_toda_ruidos_classe_unica/', '007-006-004911-010205-0.wav'), ('/content/drive/My Drive/UTFPR/videos/base_toda_ruidos_classe_unica/', '007-007-002510-002807-1.wav'), ('/content/drive/My Drive/UTFPR/videos/base_toda_ruidos_classe_unica/', '007-008-001910-002204-1.wav'), ('/content/drive/My Drive/UTFPR/videos/base_toda_ruidos_classe_unica/', '008-001-001820-002110-1.wav'), ('/content/drive/My Drive/UTFPR/videos/base_toda_ruidos_classe_unica/', '007-009-003318-003813-0.wav'), ('/content/drive/My Drive/UTFPR/videos/base_toda_ruidos_classe_unica/', '008-002-001713-001909-1.wav'), ('/content/drive/My Drive/UTFPR/videos/base_toda_ruidos_classe_unica/', '008-003-002716-003114-1.wav'), ('/content/drive/My Drive/UTFPR/videos/base_toda_ruidos_classe_unica/', '008-004-003323-003501-1.wav'), ('/content/drive/My Drive/UTFPR/videos/base_toda_ruidos_classe_unica/', '008-005-002506-002718-1.wav'), ('/content/drive/My Drive/UTFPR/videos/base_toda_ruidos_classe_unica/', '008-006-010205-010415-1.wav'), ('/content/drive/My Drive/UTFPR/videos/base_toda_ruidos_classe_unica/', '008-008-002204-002228-0.wav'), ('/content/drive/My Drive/UTFPR/videos/base_toda_ruidos_classe_unica/', '029-008-012818-013100-1.wav'), ('/content/drive/My Drive/UTFPR/videos/base_toda_ruidos_classe_unica/', '028-008-012311-012818-0.wav'), ('/content/drive/My Drive/UTFPR/videos/base_toda_ruidos_classe_unica/', '027-008-011915-012311-1.wav'), ('/content/drive/My Drive/UTFPR/videos/base_toda_ruidos_classe_unica/', '026-008-011823-011915-0.wav'), ('/content/drive/My Drive/UTFPR/videos/base_toda_ruidos_classe_unica/', '008-007-002807-003227-0.wav'), ('/content/drive/My Drive/UTFPR/videos/base_toda_ruidos_classe_unica/', '008-009-003813-004322-1.wav'), ('/content/drive/My Drive/UTFPR/videos/base_toda_ruidos_classe_unica/', '009-001-002110-002425-0.wav'), ('/content/drive/My Drive/UTFPR/videos/base_toda_ruidos_classe_unica/', '009-002-001909-002402-0.wav'), ('/content/drive/My Drive/UTFPR/videos/base_toda_ruidos_classe_unica/', '009-003-003114-003506-0.wav'), ('/content/drive/My Drive/UTFPR/videos/base_toda_ruidos_classe_unica/', '009-004-003501-004218-0.wav'), ('/content/drive/My Drive/UTFPR/videos/base_toda_ruidos_classe_unica/', '009-005-002718-002803-0.wav'), ('/content/drive/My Drive/UTFPR/videos/base_toda_ruidos_classe_unica/', '009-006-010415-010911-0.wav'), ('/content/drive/My Drive/UTFPR/videos/base_toda_ruidos_classe_unica/', '009-007-003227-003621-1.wav'), ('/content/drive/My Drive/UTFPR/videos/base_toda_ruidos_classe_unica/', '009-008-002228-002419-1.wav'), ('/content/drive/My Drive/UTFPR/videos/base_toda_ruidos_classe_unica/', '009-009-004322-004411-0.wav'), ('/content/drive/My Drive/UTFPR/videos/base_toda_ruidos_classe_unica/', '010-001-002425-002528-1.wav'), ('/content/drive/My Drive/UTFPR/videos/base_toda_ruidos_classe_unica/', '010-002-002402-002615-1.wav'), ('/content/drive/My Drive/UTFPR/videos/base_toda_ruidos_classe_unica/', '010-003-003506-003729-1.wav'), ('/content/drive/My Drive/UTFPR/videos/base_toda_ruidos_classe_unica/', '010-004-004218-004702-1.wav'), ('/content/drive/My Drive/UTFPR/videos/base_toda_ruidos_classe_unica/', '010-005-002803-002925-1.wav'), ('/content/drive/My Drive/UTFPR/videos/base_toda_ruidos_classe_unica/', '010-007-003621-004111-0.wav'), ('/content/drive/My Drive/UTFPR/videos/base_toda_ruidos_classe_unica/', '010-008-002419-002928-0.wav'), ('/content/drive/My Drive/UTFPR/videos/base_toda_ruidos_classe_unica/', '010-009-004411-004504-1.wav'), ('/content/drive/My Drive/UTFPR/videos/base_toda_ruidos_classe_unica/', '011-001-002528-002624-0.wav'), ('/content/drive/My Drive/UTFPR/videos/base_toda_ruidos_classe_unica/', '011-002-002615-002702-0.wav'), ('/content/drive/My Drive/UTFPR/videos/base_toda_ruidos_classe_unica/', '011-003-003729-004012-0.wav'), ('/content/drive/My Drive/UTFPR/videos/base_toda_ruidos_classe_unica/', '011-004-004702-005406-0.wav'), ('/content/drive/My Drive/UTFPR/videos/base_toda_ruidos_classe_unica/', '011-005-002925-003711-0.wav'), ('/content/drive/My Drive/UTFPR/videos/base_toda_ruidos_classe_unica/', '011-007-004111-004225-1.wav'), ('/content/drive/My Drive/UTFPR/videos/base_toda_ruidos_classe_unica/', '011-008-002928-003514-1.wav'), ('/content/drive/My Drive/UTFPR/videos/base_toda_ruidos_classe_unica/', '011-009-004504-004523-0.wav'), ('/content/drive/My Drive/UTFPR/videos/base_toda_ruidos_classe_unica/', '012-001-002624-002722-1.wav'), ('/content/drive/My Drive/UTFPR/videos/base_toda_ruidos_classe_unica/', '012-003-004012-004415-1.wav'), ('/content/drive/My Drive/UTFPR/videos/base_toda_ruidos_classe_unica/', '012-004-005406-010208-1.wav'), ('/content/drive/My Drive/UTFPR/videos/base_toda_ruidos_classe_unica/', '012-005-003711-004216-1.wav'), ('/content/drive/My Drive/UTFPR/videos/base_toda_ruidos_classe_unica/', '012-007-004225-004528-0.wav'), ('/content/drive/My Drive/UTFPR/videos/base_toda_ruidos_classe_unica/', '012-008-003514-004015-0.wav'), ('/content/drive/My Drive/UTFPR/videos/base_toda_ruidos_classe_unica/', '012-009-004523-004827-1.wav'), ('/content/drive/My Drive/UTFPR/videos/base_toda_ruidos_classe_unica/', '013-001-002722-002908-0.wav'), ('/content/drive/My Drive/UTFPR/videos/base_toda_ruidos_classe_unica/', '013-003-004415-004706-0.wav'), ('/content/drive/My Drive/UTFPR/videos/base_toda_ruidos_classe_unica/', '013-004-010208-010800-0.wav'), ('/content/drive/My Drive/UTFPR/videos/base_toda_ruidos_classe_unica/', '013-005-004216-004901-0.wav'), ('/content/drive/My Drive/UTFPR/videos/base_toda_ruidos_classe_unica/', '013-007-004528-004805-1.wav'), ('/content/drive/My Drive/UTFPR/videos/base_toda_ruidos_classe_unica/', '013-008-004015-004200-1.wav'), ('/content/drive/My Drive/UTFPR/videos/base_toda_ruidos_classe_unica/', '013-009-004827-005518-0.wav'), ('/content/drive/My Drive/UTFPR/videos/base_toda_ruidos_classe_unica/', '014-003-004706-005115-1.wav'), ('/content/drive/My Drive/UTFPR/videos/base_toda_ruidos_classe_unica/', '014-004-010800-011119-1.wav'), ('/content/drive/My Drive/UTFPR/videos/base_toda_ruidos_classe_unica/', '014-005-004901-005314-1.wav'), ('/content/drive/My Drive/UTFPR/videos/base_toda_ruidos_classe_unica/', '014-007-004805-005200-0.wav'), ('/content/drive/My Drive/UTFPR/videos/base_toda_ruidos_classe_unica/', '014-008-004200-004219-0.wav'), ('/content/drive/My Drive/UTFPR/videos/base_toda_ruidos_classe_unica/', '014-009-005518-005917-1.wav'), ('/content/drive/My Drive/UTFPR/videos/base_toda_ruidos_classe_unica/', '015-003-005115-005807-0.wav'), ('/content/drive/My Drive/UTFPR/videos/base_toda_ruidos_classe_unica/', '015-004-011119-011213-0.wav'), ('/content/drive/My Drive/UTFPR/videos/base_toda_ruidos_classe_unica/', '015-005-005314-010021-0.wav'), ('/content/drive/My Drive/UTFPR/videos/base_toda_ruidos_classe_unica/', '015-007-005200-005411-1.wav'), ('/content/drive/My Drive/UTFPR/videos/base_toda_ruidos_classe_unica/', '015-008-004219-004614-1.wav'), ('/content/drive/My Drive/UTFPR/videos/base_toda_ruidos_classe_unica/', '015-009-005917-010625-0.wav'), ('/content/drive/My Drive/UTFPR/videos/base_toda_ruidos_classe_unica/', '016-003-005807-010205-1.wav'), ('/content/drive/My Drive/UTFPR/videos/base_toda_ruidos_classe_unica/', '016-004-011213-011613-1.wav'), ('/content/drive/My Drive/UTFPR/videos/base_toda_ruidos_classe_unica/', '016-005-010021-010224-1.wav'), ('/content/drive/My Drive/UTFPR/videos/base_toda_ruidos_classe_unica/', '016-007-005411-005906-0.wav'), ('/content/drive/My Drive/UTFPR/videos/base_toda_ruidos_classe_unica/', '016-008-004614-005206-0.wav'), ('/content/drive/My Drive/UTFPR/videos/base_toda_ruidos_classe_unica/', '016-009-010625-011027-1.wav'), ('/content/drive/My Drive/UTFPR/videos/base_toda_ruidos_classe_unica/', '017-003-010205-010419-0.wav'), ('/content/drive/My Drive/UTFPR/videos/base_toda_ruidos_classe_unica/', '017-004-011613-012114-0.wav'), ('/content/drive/My Drive/UTFPR/videos/base_toda_ruidos_classe_unica/', '017-005-010224-010320-0.wav'), ('/content/drive/My Drive/UTFPR/videos/base_toda_ruidos_classe_unica/', '017-007-005906-010123-1.wav'), ('/content/drive/My Drive/UTFPR/videos/base_toda_ruidos_classe_unica/', '017-008-005206-005807-1.wav'), ('/content/drive/My Drive/UTFPR/videos/base_toda_ruidos_classe_unica/', '017-009-011027-011908-0.wav'), ('/content/drive/My Drive/UTFPR/videos/base_toda_ruidos_classe_unica/', '018-003-010419-010809-1.wav'), ('/content/drive/My Drive/UTFPR/videos/base_toda_ruidos_classe_unica/', '018-004-012114-012619-1.wav'), ('/content/drive/My Drive/UTFPR/videos/base_toda_ruidos_classe_unica/', '018-005-010320-010906-1.wav'), ('/content/drive/My Drive/UTFPR/videos/base_toda_ruidos_classe_unica/', '018-007-010123-010414-0.wav'), ('/content/drive/My Drive/UTFPR/videos/base_toda_ruidos_classe_unica/', '018-008-005807-005825-0.wav'), ('/content/drive/My Drive/UTFPR/videos/base_toda_ruidos_classe_unica/', '018-009-011908-012422-1.wav'), ('/content/drive/My Drive/UTFPR/videos/base_toda_ruidos_classe_unica/', '019-003-010809-010901-0.wav'), ('/content/drive/My Drive/UTFPR/videos/base_toda_ruidos_classe_unica/', '019-004-012619-013020-0.wav'), ('/content/drive/My Drive/UTFPR/videos/base_toda_ruidos_classe_unica/', '019-005-010906-010920-0.wav'), ('/content/drive/My Drive/UTFPR/videos/base_toda_ruidos_classe_unica/', '019-008-005825-010118-1.wav'), ('/content/drive/My Drive/UTFPR/videos/base_toda_ruidos_classe_unica/', '019-009-012422-013100-0.wav'), ('/content/drive/My Drive/UTFPR/videos/base_toda_ruidos_classe_unica/', '020-005-010920-011117-1.wav'), ('/content/drive/My Drive/UTFPR/videos/base_toda_ruidos_classe_unica/', '020-008-010118-010601-0.wav'), ('/content/drive/My Drive/UTFPR/videos/base_toda_ruidos_classe_unica/', '021-005-011117-011213-0.wav'), ('/content/drive/My Drive/UTFPR/videos/base_toda_ruidos_classe_unica/', '021-008-010601-010813-1.wav'), ('/content/drive/My Drive/UTFPR/videos/base_toda_ruidos_classe_unica/', '022-005-011213-011422-1.wav'), ('/content/drive/My Drive/UTFPR/videos/base_toda_ruidos_classe_unica/', '022-008-010813-011303-0.wav'), ('/content/drive/My Drive/UTFPR/videos/base_toda_ruidos_classe_unica/', '023-005-011422-012504-0.wav'), ('/content/drive/My Drive/UTFPR/videos/base_toda_ruidos_classe_unica/', '023-008-011303-011409-1.wav'), ('/content/drive/My Drive/UTFPR/videos/base_toda_ruidos_classe_unica/', '024-008-011409-011526-0.wav'), ('/content/drive/My Drive/UTFPR/videos/base_toda_ruidos_classe_unica/', '025-008-011526-011823-1.wav'), ('/content/drive/My Drive/UTFPR/videos/base_toda_ruidos_classe_unica/', '001-010-000000-000215-1.wav'), ('/content/drive/My Drive/UTFPR/videos/base_toda_ruidos_classe_unica/', '001-011-000000-000208-2.wav'), ('/content/drive/My Drive/UTFPR/videos/base_toda_ruidos_classe_unica/', '002-010-000215-000721-2.wav'), ('/content/drive/My Drive/UTFPR/videos/base_toda_ruidos_classe_unica/', '002-011-000208-000328-1.wav'), ('/content/drive/My Drive/UTFPR/videos/base_toda_ruidos_classe_unica/', '003-010-000721-001119-2.wav'), ('/content/drive/My Drive/UTFPR/videos/base_toda_ruidos_classe_unica/', '003-011-000328-000620-2.wav'), ('/content/drive/My Drive/UTFPR/videos/base_toda_ruidos_classe_unica/', '004-010-001119-001623-1.wav'), ('/content/drive/My Drive/UTFPR/videos/base_toda_ruidos_classe_unica/', '004-011-000620-001110-2.wav'), ('/content/drive/My Drive/UTFPR/videos/base_toda_ruidos_classe_unica/', '005-010-001623-002310-2.wav'), ('/content/drive/My Drive/UTFPR/videos/base_toda_ruidos_classe_unica/', '005-011-001110-001514-1.wav'), ('/content/drive/My Drive/UTFPR/videos/base_toda_ruidos_classe_unica/', '006-010-002310-002626-2.wav'), ('/content/drive/My Drive/UTFPR/videos/base_toda_ruidos_classe_unica/', '006-011-001514-001913-2.wav'), ('/content/drive/My Drive/UTFPR/videos/base_toda_ruidos_classe_unica/', '007-010-002626-003116-2.wav'), ('/content/drive/My Drive/UTFPR/videos/base_toda_ruidos_classe_unica/', '007-011-001913-002607-2.wav'), ('/content/drive/My Drive/UTFPR/videos/base_toda_ruidos_classe_unica/', '008-010-003116-004000-2.wav'), ('/content/drive/My Drive/UTFPR/videos/base_toda_ruidos_classe_unica/', '008-011-002607-002905-2.wav'), ('/content/drive/My Drive/UTFPR/videos/base_toda_ruidos_classe_unica/', '009-010-004000-004626-2.wav'), ('/content/drive/My Drive/UTFPR/videos/base_toda_ruidos_classe_unica/', '009-011-002905-003411-2.wav'), ('/content/drive/My Drive/UTFPR/videos/base_toda_ruidos_classe_unica/', '010-010-004626-005209-2.wav'), ('/content/drive/My Drive/UTFPR/videos/base_toda_ruidos_classe_unica/', '010-011-003411-003801-2.wav'), ('/content/drive/My Drive/UTFPR/videos/base_toda_ruidos_classe_unica/', '011-010-005209-005625-2.wav'), ('/content/drive/My Drive/UTFPR/videos/base_toda_ruidos_classe_unica/', '011-011-003801-004417-2.wav'), ('/content/drive/My Drive/UTFPR/videos/base_toda_ruidos_classe_unica/', '012-010-005625-010509-2.wav'), ('/content/drive/My Drive/UTFPR/videos/base_toda_ruidos_classe_unica/', '012-011-004417-004701-2.wav'), ('/content/drive/My Drive/UTFPR/videos/base_toda_ruidos_classe_unica/', '013-010-010509-011317-1.wav'), ('/content/drive/My Drive/UTFPR/videos/base_toda_ruidos_classe_unica/', '013-011-004701-005111-2.wav'), ('/content/drive/My Drive/UTFPR/videos/base_toda_ruidos_classe_unica/', '014-010-011317-012120-2.wav'), ('/content/drive/My Drive/UTFPR/videos/base_toda_ruidos_classe_unica/', '014-011-005111-005600-2.wav'), ('/content/drive/My Drive/UTFPR/videos/base_toda_ruidos_classe_unica/', '015-010-012120-012704-2.wav'), ('/content/drive/My Drive/UTFPR/videos/base_toda_ruidos_classe_unica/', '015-011-005600-005924-2.wav'), ('/content/drive/My Drive/UTFPR/videos/base_toda_ruidos_classe_unica/', '016-010-012704-013100-2.wav'), ('/content/drive/My Drive/UTFPR/videos/base_toda_ruidos_classe_unica/', '016-011-005924-010414-2.wav'), ('/content/drive/My Drive/UTFPR/videos/base_toda_ruidos_classe_unica/', '001-012-000000-000118-1.wav'), ('/content/drive/My Drive/UTFPR/videos/base_toda_ruidos_classe_unica/', '001-013-000000-000101-0.wav'), ('/content/drive/My Drive/UTFPR/videos/base_toda_ruidos_classe_unica/', '001-014-000114-000406-2.wav'), ('/content/drive/My Drive/UTFPR/videos/base_toda_ruidos_classe_unica/', '002-012-000118-000510-2.wav'), ('/content/drive/My Drive/UTFPR/videos/base_toda_ruidos_classe_unica/', '002-013-000101-000315-1.wav'), ('/content/drive/My Drive/UTFPR/videos/base_toda_ruidos_classe_unica/', '002-014-000406-000617-1.wav'), ('/content/drive/My Drive/UTFPR/videos/base_toda_ruidos_classe_unica/', '003-012-000510-000828-1.wav'), ('/content/drive/My Drive/UTFPR/videos/base_toda_ruidos_classe_unica/', '003-013-000315-000801-2.wav'), ('/content/drive/My Drive/UTFPR/videos/base_toda_ruidos_classe_unica/', '003-014-000925-001505-2.wav'), ('/content/drive/My Drive/UTFPR/videos/base_toda_ruidos_classe_unica/', '004-012-000828-001104-1.wav'), ('/content/drive/My Drive/UTFPR/videos/base_toda_ruidos_classe_unica/', '004-013-000801-000922-1.wav'), ('/content/drive/My Drive/UTFPR/videos/base_toda_ruidos_classe_unica/', '004-014-000617-000925-2.wav'), ('/content/drive/My Drive/UTFPR/videos/base_toda_ruidos_classe_unica/', '005-012-001004-001715-2.wav'), ('/content/drive/My Drive/UTFPR/videos/base_toda_ruidos_classe_unica/', '005-013-000922-001209-2.wav'), ('/content/drive/My Drive/UTFPR/videos/base_toda_ruidos_classe_unica/', '005-014-001505-001818-1.wav'), ('/content/drive/My Drive/UTFPR/videos/base_toda_ruidos_classe_unica/', '006-012-001715-002121-1.wav'), ('/content/drive/My Drive/UTFPR/videos/base_toda_ruidos_classe_unica/', '006-013-001209-001502-0.wav'), ('/content/drive/My Drive/UTFPR/videos/base_toda_ruidos_classe_unica/', '006-014-001818-002517-2.wav'), ('/content/drive/My Drive/UTFPR/videos/base_toda_ruidos_classe_unica/', '007-012-002121-002605-2.wav'), ('/content/drive/My Drive/UTFPR/videos/base_toda_ruidos_classe_unica/', '007-013-001502-001725-1.wav'), ('/content/drive/My Drive/UTFPR/videos/base_toda_ruidos_classe_unica/', '007-014-002517-002703-2.wav'), ('/content/drive/My Drive/UTFPR/videos/base_toda_ruidos_classe_unica/', '008-012-002605-003115-2.wav'), ('/content/drive/My Drive/UTFPR/videos/base_toda_ruidos_classe_unica/', '008-013-001725-002009-1.wav'), ('/content/drive/My Drive/UTFPR/videos/base_toda_ruidos_classe_unica/', '009-012-003115-003605-2.wav'), ('/content/drive/My Drive/UTFPR/videos/base_toda_ruidos_classe_unica/', '009-013-002009-002602-2.wav'), ('/content/drive/My Drive/UTFPR/videos/base_toda_ruidos_classe_unica/', '010-012-003605-004121-2.wav'), ('/content/drive/My Drive/UTFPR/videos/base_toda_ruidos_classe_unica/', '010-013-002602-002814-1.wav'), ('/content/drive/My Drive/UTFPR/videos/base_toda_ruidos_classe_unica/', '011-012-004121-004327-1.wav'), ('/content/drive/My Drive/UTFPR/videos/base_toda_ruidos_classe_unica/', '011-013-002814-002926-0.wav'), ('/content/drive/My Drive/UTFPR/videos/base_toda_ruidos_classe_unica/', '012-012-004327-004903-2.wav'), ('/content/drive/My Drive/UTFPR/videos/base_toda_ruidos_classe_unica/', '013-012-004903-005410-2.wav'), ('/content/drive/My Drive/UTFPR/videos/base_toda_ruidos_classe_unica/', '014-012-005410-005720-1.wav'), ('/content/drive/My Drive/UTFPR/videos/base_toda_ruidos_classe_unica/', '015-012-005720-010010-1.wav'), ('/content/drive/My Drive/UTFPR/videos/base_toda_ruidos_classe_unica/', '016-012-010010-010417-2.wav'), ('/content/drive/My Drive/UTFPR/videos/base_toda_ruidos_classe_unica/', '017-012-010417-011004-2.wav'), ('/content/drive/My Drive/UTFPR/videos/base_toda_ruidos_classe_unica/', '018-012-011004-011508-2.wav'), ('/content/drive/My Drive/UTFPR/videos/base_toda_ruidos_classe_unica/', '019-012-011508-011716-1.wav'), ('/content/drive/My Drive/UTFPR/videos/base_toda_ruidos_classe_unica/', '020-012-011716-012024-1.wav'), ('/content/drive/My Drive/UTFPR/videos/base_toda_ruidos_classe_unica/', '021-012-012024-012505-2.wav'), ('/content/drive/My Drive/UTFPR/videos/base_toda_ruidos_classe_unica/', '022-012-012505-013100-2.wav'), ('/content/drive/My Drive/UTFPR/videos/base_toda_ruidos_classe_unica/', '001-015-000415-001107-2.wav'), ('/content/drive/My Drive/UTFPR/videos/base_toda_ruidos_classe_unica/', '001-016-000000-001301-2.wav'), ('/content/drive/My Drive/UTFPR/videos/base_toda_ruidos_classe_unica/', '002-015-001107-001529-2.wav'), ('/content/drive/My Drive/UTFPR/videos/base_toda_ruidos_classe_unica/', '002-016-001301-001804-2.wav'), ('/content/drive/My Drive/UTFPR/videos/base_toda_ruidos_classe_unica/', '003-015-001529-002208-2.wav'), ('/content/drive/My Drive/UTFPR/videos/base_toda_ruidos_classe_unica/', '003-016-001804-002405-2.wav'), ('/content/drive/My Drive/UTFPR/videos/base_toda_ruidos_classe_unica/', '004-015-002208-002521-2.wav'), ('/content/drive/My Drive/UTFPR/videos/base_toda_ruidos_classe_unica/', '004-016-002405-002822-1.wav'), ('/content/drive/My Drive/UTFPR/videos/base_toda_ruidos_classe_unica/', '005-015-002521-002915-2.wav'), ('/content/drive/My Drive/UTFPR/videos/base_toda_ruidos_classe_unica/', '005-016-002822-003117-1.wav'), ('/content/drive/My Drive/UTFPR/videos/base_toda_ruidos_classe_unica/', '006-015-002915-003612-2.wav'), ('/content/drive/My Drive/UTFPR/videos/base_toda_ruidos_classe_unica/', '006-016-003117-003718-2.wav'), ('/content/drive/My Drive/UTFPR/videos/base_toda_ruidos_classe_unica/', '007-015-003612-003912-2.wav'), ('/content/drive/My Drive/UTFPR/videos/base_toda_ruidos_classe_unica/', '007-016-003718-004527-2.wav'), ('/content/drive/My Drive/UTFPR/videos/base_toda_ruidos_classe_unica/', '008-015-003912-004212-1.wav'), ('/content/drive/My Drive/UTFPR/videos/base_toda_ruidos_classe_unica/', '008-016-004527-004911-2.wav'), ('/content/drive/My Drive/UTFPR/videos/base_toda_ruidos_classe_unica/', '009-016-004921-005510-2.wav'), ('/content/drive/My Drive/UTFPR/videos/base_toda_ruidos_classe_unica/', '010-015-004522-004814-2.wav'), ('/content/drive/My Drive/UTFPR/videos/base_toda_ruidos_classe_unica/', '010-016-005510-005721-1.wav'), ('/content/drive/My Drive/UTFPR/videos/base_toda_ruidos_classe_unica/', '011-015-004814-005302-2.wav'), ('/content/drive/My Drive/UTFPR/videos/base_toda_ruidos_classe_unica/', '011-016-005721-010714-2.wav'), ('/content/drive/My Drive/UTFPR/videos/base_toda_ruidos_classe_unica/', '012-015-005302-010005-2.wav'), ('/content/drive/My Drive/UTFPR/videos/base_toda_ruidos_classe_unica/', '012-016-010714-011400-1.wav'), ('/content/drive/My Drive/UTFPR/videos/base_toda_ruidos_classe_unica/', '013-015-010005-010606-2.wav'), ('/content/drive/My Drive/UTFPR/videos/base_toda_ruidos_classe_unica/', '013-016-011400-011910-2.wav'), ('/content/drive/My Drive/UTFPR/videos/base_toda_ruidos_classe_unica/', '014-015-010606-010901-2.wav'), ('/content/drive/My Drive/UTFPR/videos/base_toda_ruidos_classe_unica/', '014-016-011910-013021-2.wav'), ('/content/drive/My Drive/UTFPR/videos/base_toda_ruidos_classe_unica/', '009-015-004212-004512-2.wav'), ('/content/drive/My Drive/UTFPR/videos/base_toda_ruidos_classe_unica/', '001-017-000000-000904-2.wav'), ('/content/drive/My Drive/UTFPR/videos/base_toda_ruidos_classe_unica/', '002-017-000904-001601-2.wav'), ('/content/drive/My Drive/UTFPR/videos/base_toda_ruidos_classe_unica/', '003-017-001601-002617-2.wav'), ('/content/drive/My Drive/UTFPR/videos/base_toda_ruidos_classe_unica/', '004-017-002617-003809-2.wav'), ('/content/drive/My Drive/UTFPR/videos/base_toda_ruidos_classe_unica/', '005-017-003809-005400-2.wav'), ('/content/drive/My Drive/UTFPR/videos/base_toda_ruidos_classe_unica/', '006-017-005400-010911-2.wav'), ('/content/drive/My Drive/UTFPR/videos/base_toda_ruidos_classe_unica/', '001-018-000000-000726-2.wav'), ('/content/drive/My Drive/UTFPR/videos/base_toda_ruidos_classe_unica/', '002-018-000726-001411-2.wav'), ('/content/drive/My Drive/UTFPR/videos/base_toda_ruidos_classe_unica/', '003-018-001411-001920-2.wav'), ('/content/drive/My Drive/UTFPR/videos/base_toda_ruidos_classe_unica/', '004-018-001920-003101-2.wav'), ('/content/drive/My Drive/UTFPR/videos/base_toda_ruidos_classe_unica/', '005-018-003101-003608-2.wav'), ('/content/drive/My Drive/UTFPR/videos/base_toda_ruidos_classe_unica/', '006-018-003608-004422-2.wav'), ('/content/drive/My Drive/UTFPR/videos/base_toda_ruidos_classe_unica/', '007-018-004422-005222-2.wav'), ('/content/drive/My Drive/UTFPR/videos/base_toda_ruidos_classe_unica/', '008-018-000522-005726-2.wav'), ('/content/drive/My Drive/UTFPR/videos/base_toda_ruidos_classe_unica/', '009-018-005726-010327-2.wav'), ('/content/drive/My Drive/UTFPR/videos/base_toda_ruidos_classe_unica/', '010-018-010327-010913-2.wav'), ('/content/drive/My Drive/UTFPR/videos/base_toda_ruidos_classe_unica/', '011-018-010913-011511-2.wav'), ('/content/drive/My Drive/UTFPR/videos/base_toda_ruidos_classe_unica/', '012-018-011511-012111-2.wav'), ('/content/drive/My Drive/UTFPR/videos/base_toda_ruidos_classe_unica/', '013-018-012111-013100-2.wav'), ('/content/drive/My Drive/UTFPR/videos/base_toda_ruidos_classe_unica/', '001-019-000119-000429-4.wav'), ('/content/drive/My Drive/UTFPR/videos/base_toda_ruidos_classe_unica/', '001-020-000119-000429-4.wav'), ('/content/drive/My Drive/UTFPR/videos/base_toda_ruidos_classe_unica/', '001-021-000119-000429-4.wav'), ('/content/drive/My Drive/UTFPR/videos/base_toda_ruidos_classe_unica/', '001-022-000119-000429-4.wav'), ('/content/drive/My Drive/UTFPR/videos/base_toda_ruidos_classe_unica/', '002-019-000429-001020-3.wav'), ('/content/drive/My Drive/UTFPR/videos/base_toda_ruidos_classe_unica/', '002-020-000429-001020-3.wav'), ('/content/drive/My Drive/UTFPR/videos/base_toda_ruidos_classe_unica/', '002-021-000429-001020-3.wav'), ('/content/drive/My Drive/UTFPR/videos/base_toda_ruidos_classe_unica/', '002-022-000429-001020-3.wav'), ('/content/drive/My Drive/UTFPR/videos/base_toda_ruidos_classe_unica/', '003-019-001020-001409-4.wav'), ('/content/drive/My Drive/UTFPR/videos/base_toda_ruidos_classe_unica/', '003-020-001020-001409-4.wav'), ('/content/drive/My Drive/UTFPR/videos/base_toda_ruidos_classe_unica/', '003-021-001020-001409-4.wav'), ('/content/drive/My Drive/UTFPR/videos/base_toda_ruidos_classe_unica/', '003-022-001020-001409-4.wav'), ('/content/drive/My Drive/UTFPR/videos/base_toda_ruidos_classe_unica/', '004-019-001409-001814-3.wav'), ('/content/drive/My Drive/UTFPR/videos/base_toda_ruidos_classe_unica/', '004-020-001409-001814-3.wav'), ('/content/drive/My Drive/UTFPR/videos/base_toda_ruidos_classe_unica/', '004-021-001409-001804-3.wav'), ('/content/drive/My Drive/UTFPR/videos/base_toda_ruidos_classe_unica/', '004-022-001409-001814-3.wav'), ('/content/drive/My Drive/UTFPR/videos/base_toda_ruidos_classe_unica/', '005-019-001814-002029-4.wav'), ('/content/drive/My Drive/UTFPR/videos/base_toda_ruidos_classe_unica/', '005-020-001814-002029-4.wav'), ('/content/drive/My Drive/UTFPR/videos/base_toda_ruidos_classe_unica/', '005-021-001814-002029-4.wav'), ('/content/drive/My Drive/UTFPR/videos/base_toda_ruidos_classe_unica/', '005-022-001814-002029-4.wav'), ('/content/drive/My Drive/UTFPR/videos/base_toda_ruidos_classe_unica/', '006-019-002029-002510-3.wav'), ('/content/drive/My Drive/UTFPR/videos/base_toda_ruidos_classe_unica/', '006-020-002029-002510-3.wav'), ('/content/drive/My Drive/UTFPR/videos/base_toda_ruidos_classe_unica/', '006-021-002029-002510-3.wav'), ('/content/drive/My Drive/UTFPR/videos/base_toda_ruidos_classe_unica/', '006-022-002029-002510-3.wav'), ('/content/drive/My Drive/UTFPR/videos/base_toda_ruidos_classe_unica/', '007-019-002510-002807-4.wav'), ('/content/drive/My Drive/UTFPR/videos/base_toda_ruidos_classe_unica/', '007-020-002510-002807-4.wav'), ('/content/drive/My Drive/UTFPR/videos/base_toda_ruidos_classe_unica/', '007-021-002510-002807-4.wav'), ('/content/drive/My Drive/UTFPR/videos/base_toda_ruidos_classe_unica/', '007-022-002510-002807-4.wav'), ('/content/drive/My Drive/UTFPR/videos/base_toda_ruidos_classe_unica/', '008-019-002807-003227-3.wav'), ('/content/drive/My Drive/UTFPR/videos/base_toda_ruidos_classe_unica/', '008-020-002807-003227-3.wav'), ('/content/drive/My Drive/UTFPR/videos/base_toda_ruidos_classe_unica/', '008-021-002807-003227-3.wav'), ('/content/drive/My Drive/UTFPR/videos/base_toda_ruidos_classe_unica/', '008-022-002807-003227-3.wav'), ('/content/drive/My Drive/UTFPR/videos/base_toda_ruidos_classe_unica/', '009-019-003621-004111-3.wav'), ('/content/drive/My Drive/UTFPR/videos/base_toda_ruidos_classe_unica/', '009-020-003227-003621-4.wav'), ('/content/drive/My Drive/UTFPR/videos/base_toda_ruidos_classe_unica/', '009-021-003227-003621-4.wav'), ('/content/drive/My Drive/UTFPR/videos/base_toda_ruidos_classe_unica/', '009-022-003227-003621-4.wav'), ('/content/drive/My Drive/UTFPR/videos/base_toda_ruidos_classe_unica/', '010-019-004111-004225-4.wav'), ('/content/drive/My Drive/UTFPR/videos/base_toda_ruidos_classe_unica/', '010-020-003621-004111-3.wav'), ('/content/drive/My Drive/UTFPR/videos/base_toda_ruidos_classe_unica/', '010-021-003621-004111-3.wav'), ('/content/drive/My Drive/UTFPR/videos/base_toda_ruidos_classe_unica/', '010-022-003621-004111-3.wav'), ('/content/drive/My Drive/UTFPR/videos/base_toda_ruidos_classe_unica/', '011-019-004225-004528-3.wav'), ('/content/drive/My Drive/UTFPR/videos/base_toda_ruidos_classe_unica/', '011-020-004111-004225-4.wav'), ('/content/drive/My Drive/UTFPR/videos/base_toda_ruidos_classe_unica/', '011-021-004111-004225-4.wav'), ('/content/drive/My Drive/UTFPR/videos/base_toda_ruidos_classe_unica/', '011-022-004111-004225-4.wav'), ('/content/drive/My Drive/UTFPR/videos/base_toda_ruidos_classe_unica/', '012-019-004528-004805-4.wav'), ('/content/drive/My Drive/UTFPR/videos/base_toda_ruidos_classe_unica/', '012-020-004225-004528-3.wav'), ('/content/drive/My Drive/UTFPR/videos/base_toda_ruidos_classe_unica/', '012-021-004225-004528-3.wav'), ('/content/drive/My Drive/UTFPR/videos/base_toda_ruidos_classe_unica/', '012-022-004225-004528-3.wav'), ('/content/drive/My Drive/UTFPR/videos/base_toda_ruidos_classe_unica/', '013-019-004805-005200-3.wav'), ('/content/drive/My Drive/UTFPR/videos/base_toda_ruidos_classe_unica/', '013-020-004528-04805-4.wav'), ('/content/drive/My Drive/UTFPR/videos/base_toda_ruidos_classe_unica/', '013-021-004528-004805-4.wav'), ('/content/drive/My Drive/UTFPR/videos/base_toda_ruidos_classe_unica/', '013-022-004528-004805-4.wav'), ('/content/drive/My Drive/UTFPR/videos/base_toda_ruidos_classe_unica/', '014-019-005200-005411-4.wav'), ('/content/drive/My Drive/UTFPR/videos/base_toda_ruidos_classe_unica/', '014-020-004805-005200-3.wav'), ('/content/drive/My Drive/UTFPR/videos/base_toda_ruidos_classe_unica/', '014-022-004805-005200-3.wav'), ('/content/drive/My Drive/UTFPR/videos/base_toda_ruidos_classe_unica/', '015-019-005411-005906-3.wav'), ('/content/drive/My Drive/UTFPR/videos/base_toda_ruidos_classe_unica/', '015-020-005200-005411-4.wav'), ('/content/drive/My Drive/UTFPR/videos/base_toda_ruidos_classe_unica/', '015-021-005200-005411-4.wav'), ('/content/drive/My Drive/UTFPR/videos/base_toda_ruidos_classe_unica/', '015-022-005200-005411-4.wav'), ('/content/drive/My Drive/UTFPR/videos/base_toda_ruidos_classe_unica/', '016-019-005906-010123-4.wav'), ('/content/drive/My Drive/UTFPR/videos/base_toda_ruidos_classe_unica/', '016-021-005411-005906-3.wav'), ('/content/drive/My Drive/UTFPR/videos/base_toda_ruidos_classe_unica/', '016-022-005411-005906-3.wav'), ('/content/drive/My Drive/UTFPR/videos/base_toda_ruidos_classe_unica/', '017-019-010123-010414-3.wav'), ('/content/drive/My Drive/UTFPR/videos/base_toda_ruidos_classe_unica/', '017-020-005906-010123-4.wav'), ('/content/drive/My Drive/UTFPR/videos/base_toda_ruidos_classe_unica/', '017-021-005906-010123-4.wav'), ('/content/drive/My Drive/UTFPR/videos/base_toda_ruidos_classe_unica/', '017-022-005906-010123-4.wav'), ('/content/drive/My Drive/UTFPR/videos/base_toda_ruidos_classe_unica/', '018-020-010123-010414-3.wav'), ('/content/drive/My Drive/UTFPR/videos/base_toda_ruidos_classe_unica/', '018-021-010123-010414-3.wav'), ('/content/drive/My Drive/UTFPR/videos/base_toda_ruidos_classe_unica/', '018-022-010123-010414-3.wav'), ('/content/drive/My Drive/UTFPR/videos/base_toda_ruidos_classe_unica/', '014-021-004805-005200-3.wav'), ('/content/drive/My Drive/UTFPR/videos/base_toda_ruidos_classe_unica/', '001-023-000119-000429-4.wav'), ('/content/drive/My Drive/UTFPR/videos/base_toda_ruidos_classe_unica/', '001-024-000000-000208-5.wav'), ('/content/drive/My Drive/UTFPR/videos/base_toda_ruidos_classe_unica/', '002-023-000429-001020-3.wav'), ('/content/drive/My Drive/UTFPR/videos/base_toda_ruidos_classe_unica/', '002-024-000208-000328-5.wav'), ('/content/drive/My Drive/UTFPR/videos/base_toda_ruidos_classe_unica/', '003-023-001020-001409-4.wav'), ('/content/drive/My Drive/UTFPR/videos/base_toda_ruidos_classe_unica/', '003-024-000328-000620-5.wav'), ('/content/drive/My Drive/UTFPR/videos/base_toda_ruidos_classe_unica/', '004-023-001409-001814-3.wav'), ('/content/drive/My Drive/UTFPR/videos/base_toda_ruidos_classe_unica/', '004-024-000620-001110-5.wav'), ('/content/drive/My Drive/UTFPR/videos/base_toda_ruidos_classe_unica/', '005-023-001814-002029-4.wav'), ('/content/drive/My Drive/UTFPR/videos/base_toda_ruidos_classe_unica/', '005-024-001110-001514-5.wav'), ('/content/drive/My Drive/UTFPR/videos/base_toda_ruidos_classe_unica/', '006-023-002029-002510-3.wav'), ('/content/drive/My Drive/UTFPR/videos/base_toda_ruidos_classe_unica/', '006-024-001514-001913-5.wav'), ('/content/drive/My Drive/UTFPR/videos/base_toda_ruidos_classe_unica/', '007-023-002510-002807-4.wav'), ('/content/drive/My Drive/UTFPR/videos/base_toda_ruidos_classe_unica/', '007-024-001913-002607-5.wav'), ('/content/drive/My Drive/UTFPR/videos/base_toda_ruidos_classe_unica/', '008-023-002807-003227-3.wav'), ('/content/drive/My Drive/UTFPR/videos/base_toda_ruidos_classe_unica/', '008-024-002607-002905-5.wav'), ('/content/drive/My Drive/UTFPR/videos/base_toda_ruidos_classe_unica/', '009-023-003227-003621-4.wav'), ('/content/drive/My Drive/UTFPR/videos/base_toda_ruidos_classe_unica/', '009-024-002905-003411-5.wav'), ('/content/drive/My Drive/UTFPR/videos/base_toda_ruidos_classe_unica/', '010-023-003621-004111-3.wav'), ('/content/drive/My Drive/UTFPR/videos/base_toda_ruidos_classe_unica/', '010-024-003411-003801-5.wav'), ('/content/drive/My Drive/UTFPR/videos/base_toda_ruidos_classe_unica/', '011-023-004111-004225-4.wav'), ('/content/drive/My Drive/UTFPR/videos/base_toda_ruidos_classe_unica/', '011-024-003801-004417-5.wav'), ('/content/drive/My Drive/UTFPR/videos/base_toda_ruidos_classe_unica/', '012-023-004225-004528-3.wav'), ('/content/drive/My Drive/UTFPR/videos/base_toda_ruidos_classe_unica/', '012-024-004417-004701-5.wav'), ('/content/drive/My Drive/UTFPR/videos/base_toda_ruidos_classe_unica/', '013-023-004528-004805-4.wav'), ('/content/drive/My Drive/UTFPR/videos/base_toda_ruidos_classe_unica/', '013-024-004701-005111-5.wav'), ('/content/drive/My Drive/UTFPR/videos/base_toda_ruidos_classe_unica/', '014-023-004805-005200-3.wav'), ('/content/drive/My Drive/UTFPR/videos/base_toda_ruidos_classe_unica/', '014-024-005111-005600-5.wav'), ('/content/drive/My Drive/UTFPR/videos/base_toda_ruidos_classe_unica/', '015-023-005200-005411-4.wav'), ('/content/drive/My Drive/UTFPR/videos/base_toda_ruidos_classe_unica/', '015-024-005600-005924-5.wav'), ('/content/drive/My Drive/UTFPR/videos/base_toda_ruidos_classe_unica/', '016-023-005411-005906-3.wav'), ('/content/drive/My Drive/UTFPR/videos/base_toda_ruidos_classe_unica/', '016-024-005924-010414-5.wav'), ('/content/drive/My Drive/UTFPR/videos/base_toda_ruidos_classe_unica/', '017-023-005906-010123-4.wav'), ('/content/drive/My Drive/UTFPR/videos/base_toda_ruidos_classe_unica/', '018-023-010123-010414-3.wav'), ('/content/drive/My Drive/UTFPR/videos/base_toda_ruidos_classe_unica/', '001-025-000000-000208-5.wav'), ('/content/drive/My Drive/UTFPR/videos/base_toda_ruidos_classe_unica/', '002-025-000208-000328-5.wav'), ('/content/drive/My Drive/UTFPR/videos/base_toda_ruidos_classe_unica/', '003-025-000328-000620-5.wav'), ('/content/drive/My Drive/UTFPR/videos/base_toda_ruidos_classe_unica/', '004-025-000620-001110-5.wav'), ('/content/drive/My Drive/UTFPR/videos/base_toda_ruidos_classe_unica/', '005-025-001110-001514-5.wav'), ('/content/drive/My Drive/UTFPR/videos/base_toda_ruidos_classe_unica/', '006-025-001514-001913-5.wav'), ('/content/drive/My Drive/UTFPR/videos/base_toda_ruidos_classe_unica/', '007-025-001913-002607-5.wav'), ('/content/drive/My Drive/UTFPR/videos/base_toda_ruidos_classe_unica/', '008-025-002607-002905-5.wav'), ('/content/drive/My Drive/UTFPR/videos/base_toda_ruidos_classe_unica/', '009-025-002905-003411-5.wav'), ('/content/drive/My Drive/UTFPR/videos/base_toda_ruidos_classe_unica/', '010-025-003411-003801-5.wav'), ('/content/drive/My Drive/UTFPR/videos/base_toda_ruidos_classe_unica/', '011-025-003801-004417-5.wav'), ('/content/drive/My Drive/UTFPR/videos/base_toda_ruidos_classe_unica/', '012-025-004417-004701-5.wav'), ('/content/drive/My Drive/UTFPR/videos/base_toda_ruidos_classe_unica/', '013-025-004701-005111-5.wav'), ('/content/drive/My Drive/UTFPR/videos/base_toda_ruidos_classe_unica/', '014-025-005111-005600-5.wav'), ('/content/drive/My Drive/UTFPR/videos/base_toda_ruidos_classe_unica/', '015-025-005600-005924-5.wav'), ('/content/drive/My Drive/UTFPR/videos/base_toda_ruidos_classe_unica/', '016-025-005924-010414-5.wav'), ('/content/drive/My Drive/UTFPR/videos/base_toda_ruidos_classe_unica/', '001-026-000000-000208-5.wav'), ('/content/drive/My Drive/UTFPR/videos/base_toda_ruidos_classe_unica/', '002-026-000208-000328-5.wav'), ('/content/drive/My Drive/UTFPR/videos/base_toda_ruidos_classe_unica/', '003-026-000328-000620-5.wav'), ('/content/drive/My Drive/UTFPR/videos/base_toda_ruidos_classe_unica/', '004-026-000620-001110-5.wav'), ('/content/drive/My Drive/UTFPR/videos/base_toda_ruidos_classe_unica/', '005-026-001110-001514-5.wav'), ('/content/drive/My Drive/UTFPR/videos/base_toda_ruidos_classe_unica/', '006-026-001514-001913-5.wav'), ('/content/drive/My Drive/UTFPR/videos/base_toda_ruidos_classe_unica/', '007-026-001913-002607-5.wav'), ('/content/drive/My Drive/UTFPR/videos/base_toda_ruidos_classe_unica/', '008-026-002607-002905-5.wav'), ('/content/drive/My Drive/UTFPR/videos/base_toda_ruidos_classe_unica/', '009-026-002905-003411-5.wav'), ('/content/drive/My Drive/UTFPR/videos/base_toda_ruidos_classe_unica/', '010-026-003411-003801-5.wav'), ('/content/drive/My Drive/UTFPR/videos/base_toda_ruidos_classe_unica/', '011-026-003801-004417-5.wav'), ('/content/drive/My Drive/UTFPR/videos/base_toda_ruidos_classe_unica/', '012-026-004417-004701-5.wav'), ('/content/drive/My Drive/UTFPR/videos/base_toda_ruidos_classe_unica/', '013-026-004701-005111-5.wav'), ('/content/drive/My Drive/UTFPR/videos/base_toda_ruidos_classe_unica/', '014-026-005111-005600-5.wav'), ('/content/drive/My Drive/UTFPR/videos/base_toda_ruidos_classe_unica/', '015-026-005600-005924-5.wav'), ('/content/drive/My Drive/UTFPR/videos/base_toda_ruidos_classe_unica/', '016-026-005924-010414-5.wav'), ('/content/drive/My Drive/UTFPR/videos/base_toda_ruidos_classe_unica/', '001-027-000000-000208-5.wav'), ('/content/drive/My Drive/UTFPR/videos/base_toda_ruidos_classe_unica/', '002-027-000208-000328-5.wav'), ('/content/drive/My Drive/UTFPR/videos/base_toda_ruidos_classe_unica/', '003-027-000328-000620-5.wav'), ('/content/drive/My Drive/UTFPR/videos/base_toda_ruidos_classe_unica/', '004-027-000620-001110-5.wav'), ('/content/drive/My Drive/UTFPR/videos/base_toda_ruidos_classe_unica/', '005-027-001110-001514-5.wav'), ('/content/drive/My Drive/UTFPR/videos/base_toda_ruidos_classe_unica/', '006-027-001514-001913-5.wav'), ('/content/drive/My Drive/UTFPR/videos/base_toda_ruidos_classe_unica/', '007-027-001913-002607-5.wav'), ('/content/drive/My Drive/UTFPR/videos/base_toda_ruidos_classe_unica/', '009-027-002905-003411-5.wav'), ('/content/drive/My Drive/UTFPR/videos/base_toda_ruidos_classe_unica/', '010-027-003411-003801-5.wav'), ('/content/drive/My Drive/UTFPR/videos/base_toda_ruidos_classe_unica/', '011-027-003801-004417-5.wav'), ('/content/drive/My Drive/UTFPR/videos/base_toda_ruidos_classe_unica/', '012-027-004417-004701-5.wav'), ('/content/drive/My Drive/UTFPR/videos/base_toda_ruidos_classe_unica/', '013-027-004701-005111-5.wav'), ('/content/drive/My Drive/UTFPR/videos/base_toda_ruidos_classe_unica/', '014-027-005111-005600-5.wav'), ('/content/drive/My Drive/UTFPR/videos/base_toda_ruidos_classe_unica/', '015-027-005600-005924-5.wav'), ('/content/drive/My Drive/UTFPR/videos/base_toda_ruidos_classe_unica/', '016-027-005924-010414-5.wav'), ('/content/drive/My Drive/UTFPR/videos/base_toda_ruidos_classe_unica/', '008-027-002607-002905-5.wav'), ('/content/drive/My Drive/UTFPR/videos/base_toda_ruidos_classe_unica/', '001-028-000000-000208-5.wav'), ('/content/drive/My Drive/UTFPR/videos/base_toda_ruidos_classe_unica/', '002-028-000208-000328-5.wav'), ('/content/drive/My Drive/UTFPR/videos/base_toda_ruidos_classe_unica/', '003-028-000328-000620-5.wav'), ('/content/drive/My Drive/UTFPR/videos/base_toda_ruidos_classe_unica/', '004-028-000620-001110-5.wav'), ('/content/drive/My Drive/UTFPR/videos/base_toda_ruidos_classe_unica/', '005-028-001110-001514-5.wav'), ('/content/drive/My Drive/UTFPR/videos/base_toda_ruidos_classe_unica/', '006-028-001514-001913-5.wav'), ('/content/drive/My Drive/UTFPR/videos/base_toda_ruidos_classe_unica/', '007-028-001913-002607-5.wav'), ('/content/drive/My Drive/UTFPR/videos/base_toda_ruidos_classe_unica/', '008-028-002607-002905-5.wav'), ('/content/drive/My Drive/UTFPR/videos/base_toda_ruidos_classe_unica/', '009-028-002905-0034411-5.wav'), ('/content/drive/My Drive/UTFPR/videos/base_toda_ruidos_classe_unica/', '010-028-003411-003801-5.wav'), ('/content/drive/My Drive/UTFPR/videos/base_toda_ruidos_classe_unica/', '011-028-003801-004417-5.wav'), ('/content/drive/My Drive/UTFPR/videos/base_toda_ruidos_classe_unica/', '012-028-004417-004701-5.wav'), ('/content/drive/My Drive/UTFPR/videos/base_toda_ruidos_classe_unica/', '013-028-004701-005111-5.wav'), ('/content/drive/My Drive/UTFPR/videos/base_toda_ruidos_classe_unica/', '014-028-005111-005600-5.wav'), ('/content/drive/My Drive/UTFPR/videos/base_toda_ruidos_classe_unica/', '015-028-005600-005924-5.wav'), ('/content/drive/My Drive/UTFPR/videos/base_toda_ruidos_classe_unica/', '016-028-005924-010414-5.wav'), ('/content/drive/My Drive/UTFPR/videos/base_toda_ruidos_classe_unica/', '001-029-000014-000505-4.wav'), ('/content/drive/My Drive/UTFPR/videos/base_toda_ruidos_classe_unica/', '001-030-000014-000505-4.wav'), ('/content/drive/My Drive/UTFPR/videos/base_toda_ruidos_classe_unica/', '001-031-000014-000505-4.wav'), ('/content/drive/My Drive/UTFPR/videos/base_toda_ruidos_classe_unica/', '001-032-000014-000505-4.wav'), ('/content/drive/My Drive/UTFPR/videos/base_toda_ruidos_classe_unica/', '001-033-000014-000505-4.wav'), ('/content/drive/My Drive/UTFPR/videos/base_toda_ruidos_classe_unica/', '002-029-000505-001022-3.wav'), ('/content/drive/My Drive/UTFPR/videos/base_toda_ruidos_classe_unica/', '002-030-000505-001022-3.wav'), ('/content/drive/My Drive/UTFPR/videos/base_toda_ruidos_classe_unica/', '002-031-000505-001022-3.wav'), ('/content/drive/My Drive/UTFPR/videos/base_toda_ruidos_classe_unica/', '002-032-000505-001022-3.wav'), ('/content/drive/My Drive/UTFPR/videos/base_toda_ruidos_classe_unica/', '002-033-000505-001022-3.wav'), ('/content/drive/My Drive/UTFPR/videos/base_toda_ruidos_classe_unica/', '003-029-001022-001518-4.wav'), ('/content/drive/My Drive/UTFPR/videos/base_toda_ruidos_classe_unica/', '003-030-001022-001518-4.wav'), ('/content/drive/My Drive/UTFPR/videos/base_toda_ruidos_classe_unica/', '003-031-001022-001518-4.wav'), ('/content/drive/My Drive/UTFPR/videos/base_toda_ruidos_classe_unica/', '003-032-001022-001518-4.wav'), ('/content/drive/My Drive/UTFPR/videos/base_toda_ruidos_classe_unica/', '003-033-001022-001518-4.wav'), ('/content/drive/My Drive/UTFPR/videos/base_toda_ruidos_classe_unica/', '004-029-001518-001601-3.wav'), ('/content/drive/My Drive/UTFPR/videos/base_toda_ruidos_classe_unica/', '004-030-001518-001601-3.wav'), ('/content/drive/My Drive/UTFPR/videos/base_toda_ruidos_classe_unica/', '004-031-001518-001601-3.wav'), ('/content/drive/My Drive/UTFPR/videos/base_toda_ruidos_classe_unica/', '004-032-001518-001601-3.wav'), ('/content/drive/My Drive/UTFPR/videos/base_toda_ruidos_classe_unica/', '004-033-001518-001601-3.wav'), ('/content/drive/My Drive/UTFPR/videos/base_toda_ruidos_classe_unica/', '005-029-001601-001923-4.wav'), ('/content/drive/My Drive/UTFPR/videos/base_toda_ruidos_classe_unica/', '005-030-001601-001923-4.wav'), ('/content/drive/My Drive/UTFPR/videos/base_toda_ruidos_classe_unica/', '005-031-001601-001923-4.wav'), ('/content/drive/My Drive/UTFPR/videos/base_toda_ruidos_classe_unica/', '005-032-001601-001923-4.wav'), ('/content/drive/My Drive/UTFPR/videos/base_toda_ruidos_classe_unica/', '005-033-001601-001923-4.wav'), ('/content/drive/My Drive/UTFPR/videos/base_toda_ruidos_classe_unica/', '006-029-001923-002506-3.wav'), ('/content/drive/My Drive/UTFPR/videos/base_toda_ruidos_classe_unica/', '006-030-001923-002506-3.wav'), ('/content/drive/My Drive/UTFPR/videos/base_toda_ruidos_classe_unica/', '006-031-001923-002506-3.wav'), ('/content/drive/My Drive/UTFPR/videos/base_toda_ruidos_classe_unica/', '006-032-001923-002506-3.wav'), ('/content/drive/My Drive/UTFPR/videos/base_toda_ruidos_classe_unica/', '006-033-001923-002506-3.wav'), ('/content/drive/My Drive/UTFPR/videos/base_toda_ruidos_classe_unica/', '007-029-002506-002718-4.wav'), ('/content/drive/My Drive/UTFPR/videos/base_toda_ruidos_classe_unica/', '007-030-002506-002718-4.wav'), ('/content/drive/My Drive/UTFPR/videos/base_toda_ruidos_classe_unica/', '007-031-002506-002718-4.wav'), ('/content/drive/My Drive/UTFPR/videos/base_toda_ruidos_classe_unica/', '007-032-002506-002718-4.wav'), ('/content/drive/My Drive/UTFPR/videos/base_toda_ruidos_classe_unica/', '007-033-002506-002718-4.wav'), ('/content/drive/My Drive/UTFPR/videos/base_toda_ruidos_classe_unica/', '008-029-002718-002803-3.wav'), ('/content/drive/My Drive/UTFPR/videos/base_toda_ruidos_classe_unica/', '008-030-002718-002803-3.wav'), ('/content/drive/My Drive/UTFPR/videos/base_toda_ruidos_classe_unica/', '008-031-002718-002803-3.wav'), ('/content/drive/My Drive/UTFPR/videos/base_toda_ruidos_classe_unica/', '008-032-002718-002803-3.wav'), ('/content/drive/My Drive/UTFPR/videos/base_toda_ruidos_classe_unica/', '008-033-002718-002803-3.wav'), ('/content/drive/My Drive/UTFPR/videos/base_toda_ruidos_classe_unica/', '009-029-002803-002925-4.wav'), ('/content/drive/My Drive/UTFPR/videos/base_toda_ruidos_classe_unica/', '009-030-002803-002925-4.wav'), ('/content/drive/My Drive/UTFPR/videos/base_toda_ruidos_classe_unica/', '009-031-002803-002925-4.wav'), ('/content/drive/My Drive/UTFPR/videos/base_toda_ruidos_classe_unica/', '009-032-002803-002925-4.wav'), ('/content/drive/My Drive/UTFPR/videos/base_toda_ruidos_classe_unica/', '009-033-002803-002925-4.wav'), ('/content/drive/My Drive/UTFPR/videos/base_toda_ruidos_classe_unica/', '010-029-002925-003711-3.wav'), ('/content/drive/My Drive/UTFPR/videos/base_toda_ruidos_classe_unica/', '010-030-002925-003711-3.wav'), ('/content/drive/My Drive/UTFPR/videos/base_toda_ruidos_classe_unica/', '010-031-002925-003711-3.wav'), ('/content/drive/My Drive/UTFPR/videos/base_toda_ruidos_classe_unica/', '010-032-002925-003711-3.wav'), ('/content/drive/My Drive/UTFPR/videos/base_toda_ruidos_classe_unica/', '010-033-002925-003711-3.wav'), ('/content/drive/My Drive/UTFPR/videos/base_toda_ruidos_classe_unica/', '011-029-003711-004216-4.wav'), ('/content/drive/My Drive/UTFPR/videos/base_toda_ruidos_classe_unica/', '011-030-003711-004216-4.wav'), ('/content/drive/My Drive/UTFPR/videos/base_toda_ruidos_classe_unica/', '011-031-003711-004216-4.wav'), ('/content/drive/My Drive/UTFPR/videos/base_toda_ruidos_classe_unica/', '011-032-003711-004216-4.wav'), ('/content/drive/My Drive/UTFPR/videos/base_toda_ruidos_classe_unica/', '011-033-003711-004216-4.wav'), ('/content/drive/My Drive/UTFPR/videos/base_toda_ruidos_classe_unica/', '012-029-004216-004901-3.wav'), ('/content/drive/My Drive/UTFPR/videos/base_toda_ruidos_classe_unica/', '012-030-004216-004901-3.wav'), ('/content/drive/My Drive/UTFPR/videos/base_toda_ruidos_classe_unica/', '012-031-004216-004901-3.wav'), ('/content/drive/My Drive/UTFPR/videos/base_toda_ruidos_classe_unica/', '012-032-004216-004901-3.wav'), ('/content/drive/My Drive/UTFPR/videos/base_toda_ruidos_classe_unica/', '012-033-004216-004901-3.wav'), ('/content/drive/My Drive/UTFPR/videos/base_toda_ruidos_classe_unica/', '013-029-004901-005314-4.wav'), ('/content/drive/My Drive/UTFPR/videos/base_toda_ruidos_classe_unica/', '013-030-004901-005314-4.wav'), ('/content/drive/My Drive/UTFPR/videos/base_toda_ruidos_classe_unica/', '013-031-004901-005314-4.wav'), ('/content/drive/My Drive/UTFPR/videos/base_toda_ruidos_classe_unica/', '013-032-004901-005314-4.wav'), ('/content/drive/My Drive/UTFPR/videos/base_toda_ruidos_classe_unica/', '013-033-004901-005314-4.wav'), ('/content/drive/My Drive/UTFPR/videos/base_toda_ruidos_classe_unica/', '014-029-005314-010021-3.wav'), ('/content/drive/My Drive/UTFPR/videos/base_toda_ruidos_classe_unica/', '014-030-005314-010021-3.wav'), ('/content/drive/My Drive/UTFPR/videos/base_toda_ruidos_classe_unica/', '014-031-005314-010021-3.wav'), ('/content/drive/My Drive/UTFPR/videos/base_toda_ruidos_classe_unica/', '014-032-005314-010021-3.wav'), ('/content/drive/My Drive/UTFPR/videos/base_toda_ruidos_classe_unica/', '014-033-005314-010021-3.wav'), ('/content/drive/My Drive/UTFPR/videos/base_toda_ruidos_classe_unica/', '015-029-010021-010224-4.wav'), ('/content/drive/My Drive/UTFPR/videos/base_toda_ruidos_classe_unica/', '015-030-010021-010224-4.wav'), ('/content/drive/My Drive/UTFPR/videos/base_toda_ruidos_classe_unica/', '015-031-010021-010224-4.wav'), ('/content/drive/My Drive/UTFPR/videos/base_toda_ruidos_classe_unica/', '015-032-010021-010224-4.wav'), ('/content/drive/My Drive/UTFPR/videos/base_toda_ruidos_classe_unica/', '015-033-010021-010224-4.wav'), ('/content/drive/My Drive/UTFPR/videos/base_toda_ruidos_classe_unica/', '016-029-010224-010320-3.wav'), ('/content/drive/My Drive/UTFPR/videos/base_toda_ruidos_classe_unica/', '016-030-010224-010320-3.wav'), ('/content/drive/My Drive/UTFPR/videos/base_toda_ruidos_classe_unica/', '016-031-010224-010320-3.wav'), ('/content/drive/My Drive/UTFPR/videos/base_toda_ruidos_classe_unica/', '016-032-010224-010320-3.wav'), ('/content/drive/My Drive/UTFPR/videos/base_toda_ruidos_classe_unica/', '016-033-010224-010320-3.wav'), ('/content/drive/My Drive/UTFPR/videos/base_toda_ruidos_classe_unica/', '017-029-010320-010906-4.wav'), ('/content/drive/My Drive/UTFPR/videos/base_toda_ruidos_classe_unica/', '017-030-010320-010906-4.wav'), ('/content/drive/My Drive/UTFPR/videos/base_toda_ruidos_classe_unica/', '017-031-010320-010906-4.wav'), ('/content/drive/My Drive/UTFPR/videos/base_toda_ruidos_classe_unica/', '017-032-010320-010906-4.wav'), ('/content/drive/My Drive/UTFPR/videos/base_toda_ruidos_classe_unica/', '017-033-010320-010906-4.wav'), ('/content/drive/My Drive/UTFPR/videos/base_toda_ruidos_classe_unica/', '018-029-010906-010920-3.wav'), ('/content/drive/My Drive/UTFPR/videos/base_toda_ruidos_classe_unica/', '018-030-010906-010920-3.wav'), ('/content/drive/My Drive/UTFPR/videos/base_toda_ruidos_classe_unica/', '018-031-010906-010920-3.wav'), ('/content/drive/My Drive/UTFPR/videos/base_toda_ruidos_classe_unica/', '018-032-010906-010920-3.wav'), ('/content/drive/My Drive/UTFPR/videos/base_toda_ruidos_classe_unica/', '018-033-010906-010920-3.wav'), ('/content/drive/My Drive/UTFPR/videos/base_toda_ruidos_classe_unica/', '019-029-010920-011117-4.wav'), ('/content/drive/My Drive/UTFPR/videos/base_toda_ruidos_classe_unica/', '019-030-010920-011117-4.wav'), ('/content/drive/My Drive/UTFPR/videos/base_toda_ruidos_classe_unica/', '019-031-010920-011117-4.wav'), ('/content/drive/My Drive/UTFPR/videos/base_toda_ruidos_classe_unica/', '019-032-010920-011117-4.wav'), ('/content/drive/My Drive/UTFPR/videos/base_toda_ruidos_classe_unica/', '019-033-010920-011117-4.wav'), ('/content/drive/My Drive/UTFPR/videos/base_toda_ruidos_classe_unica/', '020-029-011117-011213-3.wav'), ('/content/drive/My Drive/UTFPR/videos/base_toda_ruidos_classe_unica/', '020-030-011117-012113-3.wav'), ('/content/drive/My Drive/UTFPR/videos/base_toda_ruidos_classe_unica/', '020-031-011117-011213-3.wav'), ('/content/drive/My Drive/UTFPR/videos/base_toda_ruidos_classe_unica/', '020-032-011117-011213-3.wav'), ('/content/drive/My Drive/UTFPR/videos/base_toda_ruidos_classe_unica/', '020-033-011117-011213-3.wav'), ('/content/drive/My Drive/UTFPR/videos/base_toda_ruidos_classe_unica/', '021-029-011213-011422-4.wav'), ('/content/drive/My Drive/UTFPR/videos/base_toda_ruidos_classe_unica/', '021-030-011213-011422-4.wav'), ('/content/drive/My Drive/UTFPR/videos/base_toda_ruidos_classe_unica/', '021-031-011213-011422-4.wav'), ('/content/drive/My Drive/UTFPR/videos/base_toda_ruidos_classe_unica/', '021-032-011213-011422-4.wav'), ('/content/drive/My Drive/UTFPR/videos/base_toda_ruidos_classe_unica/', '021-033-011213-011422-4.wav'), ('/content/drive/My Drive/UTFPR/videos/base_toda_ruidos_classe_unica/', '022-029-011422-012504-3.wav'), ('/content/drive/My Drive/UTFPR/videos/base_toda_ruidos_classe_unica/', '022-030-011422-012504-3.wav'), ('/content/drive/My Drive/UTFPR/videos/base_toda_ruidos_classe_unica/', '022-031-011422-012504-3.wav'), ('/content/drive/My Drive/UTFPR/videos/base_toda_ruidos_classe_unica/', '022-032-011422-012504-3.wav'), ('/content/drive/My Drive/UTFPR/videos/base_toda_ruidos_classe_unica/', '022-033-011422-012504-3.wav'), ('/content/drive/My Drive/UTFPR/videos/base_toda_ruidos_classe_unica/', '023-029-012504-012904-4.wav'), ('/content/drive/My Drive/UTFPR/videos/base_toda_ruidos_classe_unica/', '023-030-012504-012904-4.wav'), ('/content/drive/My Drive/UTFPR/videos/base_toda_ruidos_classe_unica/', '023-031-012504-012904-4.wav'), ('/content/drive/My Drive/UTFPR/videos/base_toda_ruidos_classe_unica/', '023-032-012504-012904-4.wav'), ('/content/drive/My Drive/UTFPR/videos/base_toda_ruidos_classe_unica/', '023-033-012504-012904-4.wav'), ('/content/drive/My Drive/UTFPR/videos/base_toda_ruidos_classe_unica/', '024-029-012904-013029-3.wav'), ('/content/drive/My Drive/UTFPR/videos/base_toda_ruidos_classe_unica/', '024-030-012904-013029-3.wav'), ('/content/drive/My Drive/UTFPR/videos/base_toda_ruidos_classe_unica/', '024-031-012904-013029-3.wav'), ('/content/drive/My Drive/UTFPR/videos/base_toda_ruidos_classe_unica/', '024-032-012904-013029-3.wav'), ('/content/drive/My Drive/UTFPR/videos/base_toda_ruidos_classe_unica/', '024-033-012904-013029-3.wav'), ('/content/drive/My Drive/UTFPR/videos/base_toda_ruidos_classe_unica/', '001-034-000000-000721-5.wav'), ('/content/drive/My Drive/UTFPR/videos/base_toda_ruidos_classe_unica/', '001-035-000000-000721-5.wav'), ('/content/drive/My Drive/UTFPR/videos/base_toda_ruidos_classe_unica/', '001-036-000000-000721-5.wav'), ('/content/drive/My Drive/UTFPR/videos/base_toda_ruidos_classe_unica/', '001-037-000000-000721-5.wav'), ('/content/drive/My Drive/UTFPR/videos/base_toda_ruidos_classe_unica/', '001-038-000000-000721-5.wav'), ('/content/drive/My Drive/UTFPR/videos/base_toda_ruidos_classe_unica/', '002-034-000721-001623-5.wav'), ('/content/drive/My Drive/UTFPR/videos/base_toda_ruidos_classe_unica/', '002-035-000721-001623-5.wav'), ('/content/drive/My Drive/UTFPR/videos/base_toda_ruidos_classe_unica/', '002-036-000721-001623-5.wav'), ('/content/drive/My Drive/UTFPR/videos/base_toda_ruidos_classe_unica/', '002-037-000721-001623-5.wav'), ('/content/drive/My Drive/UTFPR/videos/base_toda_ruidos_classe_unica/', '002-038-000721-001623-5.wav'), ('/content/drive/My Drive/UTFPR/videos/base_toda_ruidos_classe_unica/', '003-034-001623-002626-5.wav'), ('/content/drive/My Drive/UTFPR/videos/base_toda_ruidos_classe_unica/', '003-035-001623-002626-5.wav'), ('/content/drive/My Drive/UTFPR/videos/base_toda_ruidos_classe_unica/', '003-036-001623-002626-5.wav'), ('/content/drive/My Drive/UTFPR/videos/base_toda_ruidos_classe_unica/', '003-037-001623-002626-5.wav'), ('/content/drive/My Drive/UTFPR/videos/base_toda_ruidos_classe_unica/', '003-038-001623-002626-5.wav'), ('/content/drive/My Drive/UTFPR/videos/base_toda_ruidos_classe_unica/', '004-034-002626-003600-5.wav'), ('/content/drive/My Drive/UTFPR/videos/base_toda_ruidos_classe_unica/', '004-035-002626-003600-5.wav'), ('/content/drive/My Drive/UTFPR/videos/base_toda_ruidos_classe_unica/', '004-036-002626-003600-5.wav'), ('/content/drive/My Drive/UTFPR/videos/base_toda_ruidos_classe_unica/', '004-037-002626-003600-5.wav'), ('/content/drive/My Drive/UTFPR/videos/base_toda_ruidos_classe_unica/', '004-038-002626-003600-5.wav')]\n"
          ]
        }
      ]
    },
    {
      "cell_type": "markdown",
      "source": [
        "Criando o dicionário de classe"
      ],
      "metadata": {
        "id": "8e0tf1AxrRcV"
      }
    },
    {
      "cell_type": "code",
      "source": [
        "sound_list = ['sem-fala', 'com-fala', 'misto', \n",
        "              'sem-fala-ruido', 'com-fala-ruido', 'misto-ruido']\n",
        "sound_dict = {em[0]:em[1] for em in enumerate(sound_list)}\n",
        "print(sound_dict)"
      ],
      "metadata": {
        "colab": {
          "base_uri": "https://localhost:8080/"
        },
        "id": "dQmWF2sXrT_R",
        "outputId": "11c7bad8-d5c5-4e57-a881-39a71a8237b8"
      },
      "execution_count": null,
      "outputs": [
        {
          "output_type": "stream",
          "name": "stdout",
          "text": [
            "{0: 'sem-fala', 1: 'com-fala', 2: 'misto', 3: 'sem-fala-ruido', 4: 'com-fala-ruido', 5: 'misto-ruido'}\n"
          ]
        }
      ]
    },
    {
      "cell_type": "code",
      "source": [
        "# Data frame \n",
        "df = pd.DataFrame([nome_list, video_id, class_id, full_path]).T\n",
        "df.columns = ['trecho', 'video_id', 'class_id', 'path']"
      ],
      "metadata": {
        "id": "0XExKBD6rgJ5"
      },
      "execution_count": null,
      "outputs": []
    },
    {
      "cell_type": "code",
      "source": [
        "df['class_id'] = df['class_id'].map(sound_dict)\n",
        "df['path'] = df['path'].apply(lambda x: x[0] + '/' + x[1])"
      ],
      "metadata": {
        "id": "VVjvznN6r0hC"
      },
      "execution_count": null,
      "outputs": []
    },
    {
      "cell_type": "code",
      "source": [
        "df['class_id'].value_counts()"
      ],
      "metadata": {
        "colab": {
          "base_uri": "https://localhost:8080/"
        },
        "id": "PmLvAaV6sBGz",
        "outputId": "bcbbdea4-aaca-46f2-dee2-d249cfc78426"
      },
      "execution_count": null,
      "outputs": [
        {
          "output_type": "execute_result",
          "data": {
            "text/plain": [
              "com-fala-ruido    104\n",
              "sem-fala-ruido    104\n",
              "com-fala          103\n",
              "misto-ruido       100\n",
              "misto              90\n",
              "sem-fala           86\n",
              "Name: class_id, dtype: int64"
            ]
          },
          "metadata": {},
          "execution_count": 6
        }
      ]
    },
    {
      "cell_type": "code",
      "source": [
        "plt.figure(figsize=(18,7))\n",
        "sns.countplot(df['class_id']);"
      ],
      "metadata": {
        "colab": {
          "base_uri": "https://localhost:8080/",
          "height": 448
        },
        "id": "AfotHcb5sF6b",
        "outputId": "48ba16cb-e2d3-439c-9b5e-fa35945e5f23"
      },
      "execution_count": null,
      "outputs": [
        {
          "output_type": "display_data",
          "data": {
            "text/plain": [
              "<Figure size 1296x504 with 1 Axes>"
            ],
            "image/png": "[encoded data removed]"
          },
          "metadata": {}
        }
      ]
    },
    {
      "cell_type": "markdown",
      "source": [
        "##Pré-processamento"
      ],
      "metadata": {
        "id": "sYeO_jl4YYEy"
      }
    },
    {
      "cell_type": "markdown",
      "source": [
        "Extraindo recursos/características MFCC's de cada arquivo de áudio"
      ],
      "metadata": {
        "id": "hH3l6ngkwhtK"
      }
    },
    {
      "cell_type": "code",
      "source": [
        "def features_extractor(file_name):\n",
        "  # res_type pode ser 'kaiser_best', 'kaiser_fast', 'scipy', 'polyphase'\n",
        "  data, sample_rate = librosa.load(file_name, sr = None, res_type = 'kaiser_best')\n",
        "  mfccs_features = librosa.feature.mfcc(y = data, sr = sample_rate, n_mfcc=40)\n",
        "  mfcss_features_scaled = np.mean(mfccs_features.T, axis = 0)\n",
        "  return mfcss_features_scaled"
      ],
      "metadata": {
        "id": "xTRvs-3vYZPb"
      },
      "execution_count": null,
      "outputs": []
    },
    {
      "cell_type": "code",
      "source": [
        "extracted_features = []\n",
        "for path in tqdm(df['path'].values):\n",
        "  data = features_extractor(path)\n",
        "  extracted_features.append([data])"
      ],
      "metadata": {
        "id": "b0bDa4pUT8ZY",
        "colab": {
          "base_uri": "https://localhost:8080/"
        },
        "outputId": "9538fefe-8a13-4dac-f041-303d087d2444"
      },
      "execution_count": null,
      "outputs": [
        {
          "output_type": "stream",
          "name": "stderr",
          "text": [
            "100%|██████████| 587/587 [00:07<00:00, 76.94it/s]\n"
          ]
        }
      ]
    },
    {
      "cell_type": "code",
      "source": [
        "print(\"Quantidade de arquivos de audio: \",len(extracted_features))\n",
        "print(np.array(extracted_features[0]).shape)"
      ],
      "metadata": {
        "colab": {
          "base_uri": "https://localhost:8080/"
        },
        "id": "33PjaV70w_t4",
        "outputId": "b3a4b557-f637-4700-8646-a9536f5260b7"
      },
      "execution_count": null,
      "outputs": [
        {
          "output_type": "stream",
          "name": "stdout",
          "text": [
            "Quantidade de arquivos de audio:  587\n",
            "(1, 40)\n"
          ]
        }
      ]
    },
    {
      "cell_type": "code",
      "source": [
        "extracted_features_df = pd.DataFrame(extracted_features, columns = ['feature'])"
      ],
      "metadata": {
        "id": "7dFHUDoukX0i"
      },
      "execution_count": null,
      "outputs": []
    },
    {
      "cell_type": "markdown",
      "source": [
        "##Dividindo entre atributos classe(class) e atributos previsores(features)"
      ],
      "metadata": {
        "id": "eHM0jTmgxfAG"
      }
    },
    {
      "cell_type": "code",
      "source": [
        "X = np.array(extracted_features_df['feature'].tolist())\n",
        "y = np.array(df['class_id'].tolist())"
      ],
      "metadata": {
        "id": "5P2557-axgyE"
      },
      "execution_count": null,
      "outputs": []
    },
    {
      "cell_type": "markdown",
      "source": [
        "Converter os valore de y que estão em string para numérico"
      ],
      "metadata": {
        "id": "co5xXuzwzvnj"
      }
    },
    {
      "cell_type": "code",
      "source": [
        "labelencoder = LabelEncoder()\n",
        "y = to_categorical(labelencoder.fit_transform(y))"
      ],
      "metadata": {
        "id": "j3jKQ4WnzVpT"
      },
      "execution_count": null,
      "outputs": []
    },
    {
      "cell_type": "markdown",
      "source": [
        "##divisão entre base de treino e base de teste"
      ],
      "metadata": {
        "id": "2VwnsP5ExyRL"
      }
    },
    {
      "cell_type": "code",
      "source": [
        "X_train, X_test, y_train, y_test = train_test_split(X, y, test_size = 0.5, random_state = 1)\n",
        "X_test, X_val, y_test, y_val = train_test_split(X_test, y_test, test_size = 0.5, random_state=1)"
      ],
      "metadata": {
        "id": "J9_9vqJtxx9F"
      },
      "execution_count": null,
      "outputs": []
    },
    {
      "cell_type": "code",
      "source": [
        "X_train.shape, X_val.shape"
      ],
      "metadata": {
        "colab": {
          "base_uri": "https://localhost:8080/"
        },
        "id": "2nKIH9PnZmBs",
        "outputId": "3485e605-80ed-41c2-eaf4-e64c2663baf2"
      },
      "execution_count": null,
      "outputs": [
        {
          "output_type": "execute_result",
          "data": {
            "text/plain": [
              "((293, 40), (147, 40))"
            ]
          },
          "metadata": {},
          "execution_count": 18
        }
      ]
    },
    {
      "cell_type": "code",
      "source": [
        "X_train = X_train[:,:,np.newaxis]\n",
        "X_test = X_test[:,:,np.newaxis]\n",
        "X_val = X_val[:,:,np.newaxis]"
      ],
      "metadata": {
        "id": "7QBIVdr5x-ES"
      },
      "execution_count": null,
      "outputs": []
    },
    {
      "cell_type": "code",
      "source": [
        "X_train.shape, X_test.shape, X_val.shape"
      ],
      "metadata": {
        "colab": {
          "base_uri": "https://localhost:8080/"
        },
        "id": "jfLtTBl7yCgx",
        "outputId": "ee9d0df2-c14b-4fdd-a7a1-436a61fabf20"
      },
      "execution_count": null,
      "outputs": [
        {
          "output_type": "execute_result",
          "data": {
            "text/plain": [
              "((293, 40, 1), (147, 40, 1), (147, 40, 1))"
            ]
          },
          "metadata": {},
          "execution_count": 20
        }
      ]
    },
    {
      "cell_type": "markdown",
      "source": [
        "##Criação do modelo"
      ],
      "metadata": {
        "id": "ryXNe73izcEX"
      }
    },
    {
      "cell_type": "markdown",
      "source": [
        "Rede neural convulacional"
      ],
      "metadata": {
        "id": "O3rIedAd0vfi"
      }
    },
    {
      "cell_type": "code",
      "source": [
        "model = Sequential()\n",
        "\n",
        "model.add(Conv1D(64, kernel_size=(10), activation='relu', input_shape=(X_train.shape[1], 1)))\n",
        "model.add(Dropout(0.4))\n",
        "model.add(MaxPooling1D(pool_size=(4)))\n",
        "\n",
        "model.add(Conv1D(128, 10, padding='same',))\n",
        "model.add(Activation('relu'))\n",
        "model.add(Dropout(0.4))\n",
        "model.add(MaxPooling1D(pool_size=(4)))\n",
        "\n",
        "model.add(Flatten())\n",
        "\n",
        "model.add(Dense(units = 64))\n",
        "model.add(Dropout(0.4))\n",
        "model.add(Dense(units = 6)) #quantidade de classes\n",
        "model.add(Activation('softmax'))"
      ],
      "metadata": {
        "id": "LWws_KztzeUL"
      },
      "execution_count": null,
      "outputs": []
    },
    {
      "cell_type": "code",
      "source": [
        "model.compile(loss='binary_crossentropy', metrics = ['accuracy'], optimizer = 'adam')\n",
        "model.summary()"
      ],
      "metadata": {
        "id": "ZAwGkfBJ2Wbe",
        "colab": {
          "base_uri": "https://localhost:8080/"
        },
        "outputId": "80a67463-57e5-4422-dfd5-6fd294064bbf"
      },
      "execution_count": null,
      "outputs": [
        {
          "output_type": "stream",
          "name": "stdout",
          "text": [
            "Model: \"sequential\"\n",
            "_________________________________________________________________\n",
            " Layer (type)                Output Shape              Param #   \n",
            "=================================================================\n",
            " conv1d (Conv1D)             (None, 31, 64)            704       \n",
            "                                                                 \n",
            " dropout (Dropout)           (None, 31, 64)            0         \n",
            "                                                                 \n",
            " max_pooling1d (MaxPooling1D  (None, 7, 64)            0         \n",
            " )                                                               \n",
            "                                                                 \n",
            " conv1d_1 (Conv1D)           (None, 7, 128)            82048     \n",
            "                                                                 \n",
            " activation (Activation)     (None, 7, 128)            0         \n",
            "                                                                 \n",
            " dropout_1 (Dropout)         (None, 7, 128)            0         \n",
            "                                                                 \n",
            " max_pooling1d_1 (MaxPooling  (None, 1, 128)           0         \n",
            " 1D)                                                             \n",
            "                                                                 \n",
            " flatten (Flatten)           (None, 128)               0         \n",
            "                                                                 \n",
            " dense (Dense)               (None, 64)                8256      \n",
            "                                                                 \n",
            " dropout_2 (Dropout)         (None, 64)                0         \n",
            "                                                                 \n",
            " dense_1 (Dense)             (None, 6)                 390       \n",
            "                                                                 \n",
            " activation_1 (Activation)   (None, 6)                 0         \n",
            "                                                                 \n",
            "=================================================================\n",
            "Total params: 91,398\n",
            "Trainable params: 91,398\n",
            "Non-trainable params: 0\n",
            "_________________________________________________________________\n"
          ]
        }
      ]
    },
    {
      "cell_type": "code",
      "source": [
        "num_epochs = 150\n",
        "num_batch_size = 32\n",
        "\n",
        "checkpointer = ModelCheckpoint(filepath = 'saved_models/classification.hdf5',\n",
        "                               verbose = 1, save_best_only = True)\n",
        "start = datetime.now()\n",
        "history = model.fit(X_train, y_train, batch_size = num_batch_size, epochs = num_epochs,\n",
        "                    validation_data = (X_val, y_val), callbacks = [checkpointer], verbose = 1)\n",
        "duration = datetime.now() - start\n",
        "print('Duração do treinamento: ', duration)"
      ],
      "metadata": {
        "colab": {
          "base_uri": "https://localhost:8080/"
        },
        "id": "TRAtSZpwuVsC",
        "outputId": "2ac7004b-5921-4ab5-ba56-3249da82ea7c"
      },
      "execution_count": null,
      "outputs": [
        {
          "output_type": "stream",
          "name": "stdout",
          "text": [
            "Epoch 1/150\n",
            "10/10 [==============================] - ETA: 0s - loss: 4.6633 - accuracy: 0.1877 \n",
            "Epoch 1: val_loss improved from inf to 1.40746, saving model to saved_models/classification.hdf5\n",
            "10/10 [==============================] - 1s 29ms/step - loss: 4.6633 - accuracy: 0.1877 - val_loss: 1.4075 - val_accuracy: 0.3129\n",
            "Epoch 2/150\n",
            " 8/10 [=======================>......] - ETA: 0s - loss: 2.2440 - accuracy: 0.3281\n",
            "Epoch 2: val_loss improved from 1.40746 to 0.48365, saving model to saved_models/classification.hdf5\n",
            "10/10 [==============================] - 0s 14ms/step - loss: 2.1272 - accuracy: 0.3413 - val_loss: 0.4836 - val_accuracy: 0.5034\n",
            "Epoch 3/150\n",
            " 8/10 [=======================>......] - ETA: 0s - loss: 1.4296 - accuracy: 0.4141\n",
            "Epoch 3: val_loss improved from 0.48365 to 0.47552, saving model to saved_models/classification.hdf5\n",
            "10/10 [==============================] - 0s 12ms/step - loss: 1.4230 - accuracy: 0.3993 - val_loss: 0.4755 - val_accuracy: 0.4286\n",
            "Epoch 4/150\n",
            " 9/10 [==========================>...] - ETA: 0s - loss: 1.0896 - accuracy: 0.4444\n",
            "Epoch 4: val_loss improved from 0.47552 to 0.35514, saving model to saved_models/classification.hdf5\n",
            "10/10 [==============================] - 0s 12ms/step - loss: 1.0732 - accuracy: 0.4505 - val_loss: 0.3551 - val_accuracy: 0.5170\n",
            "Epoch 5/150\n",
            " 9/10 [==========================>...] - ETA: 0s - loss: 0.8494 - accuracy: 0.4722\n",
            "Epoch 5: val_loss improved from 0.35514 to 0.27869, saving model to saved_models/classification.hdf5\n",
            "10/10 [==============================] - 0s 12ms/step - loss: 0.8540 - accuracy: 0.4642 - val_loss: 0.2787 - val_accuracy: 0.5782\n",
            "Epoch 6/150\n",
            " 9/10 [==========================>...] - ETA: 0s - loss: 0.7242 - accuracy: 0.5104\n",
            "Epoch 6: val_loss improved from 0.27869 to 0.24481, saving model to saved_models/classification.hdf5\n",
            "10/10 [==============================] - 0s 14ms/step - loss: 0.7149 - accuracy: 0.5154 - val_loss: 0.2448 - val_accuracy: 0.7891\n",
            "Epoch 7/150\n",
            " 9/10 [==========================>...] - ETA: 0s - loss: 0.5287 - accuracy: 0.5764\n",
            "Epoch 7: val_loss did not improve from 0.24481\n",
            "10/10 [==============================] - 0s 12ms/step - loss: 0.5311 - accuracy: 0.5734 - val_loss: 0.2487 - val_accuracy: 0.7075\n",
            "Epoch 8/150\n",
            " 1/10 [==>...........................] - ETA: 0s - loss: 0.6496 - accuracy: 0.4375\n",
            "Epoch 8: val_loss did not improve from 0.24481\n",
            "10/10 [==============================] - 0s 8ms/step - loss: 0.5340 - accuracy: 0.5119 - val_loss: 0.2548 - val_accuracy: 0.7551\n",
            "Epoch 9/150\n",
            " 8/10 [=======================>......] - ETA: 0s - loss: 0.4416 - accuracy: 0.5547\n",
            "Epoch 9: val_loss did not improve from 0.24481\n",
            "10/10 [==============================] - 0s 10ms/step - loss: 0.4381 - accuracy: 0.5666 - val_loss: 0.2615 - val_accuracy: 0.6327\n",
            "Epoch 10/150\n",
            " 9/10 [==========================>...] - ETA: 0s - loss: 0.4175 - accuracy: 0.5868\n",
            "Epoch 10: val_loss did not improve from 0.24481\n",
            "10/10 [==============================] - 0s 10ms/step - loss: 0.4184 - accuracy: 0.5870 - val_loss: 0.2607 - val_accuracy: 0.7007\n",
            "Epoch 11/150\n",
            " 9/10 [==========================>...] - ETA: 0s - loss: 0.3583 - accuracy: 0.6285\n",
            "Epoch 11: val_loss did not improve from 0.24481\n",
            "10/10 [==============================] - 0s 10ms/step - loss: 0.3554 - accuracy: 0.6348 - val_loss: 0.2543 - val_accuracy: 0.7347\n",
            "Epoch 12/150\n",
            " 9/10 [==========================>...] - ETA: 0s - loss: 0.3790 - accuracy: 0.5764\n",
            "Epoch 12: val_loss did not improve from 0.24481\n",
            "10/10 [==============================] - 0s 11ms/step - loss: 0.3763 - accuracy: 0.5836 - val_loss: 0.2562 - val_accuracy: 0.7211\n",
            "Epoch 13/150\n",
            " 9/10 [==========================>...] - ETA: 0s - loss: 0.3491 - accuracy: 0.6493\n",
            "Epoch 13: val_loss did not improve from 0.24481\n",
            "10/10 [==============================] - 0s 10ms/step - loss: 0.3461 - accuracy: 0.6519 - val_loss: 0.2500 - val_accuracy: 0.7143\n",
            "Epoch 14/150\n",
            " 9/10 [==========================>...] - ETA: 0s - loss: 0.3215 - accuracy: 0.6528\n",
            "Epoch 14: val_loss improved from 0.24481 to 0.24471, saving model to saved_models/classification.hdf5\n",
            "10/10 [==============================] - 0s 14ms/step - loss: 0.3230 - accuracy: 0.6553 - val_loss: 0.2447 - val_accuracy: 0.7551\n",
            "Epoch 15/150\n",
            " 9/10 [==========================>...] - ETA: 0s - loss: 0.2975 - accuracy: 0.6632\n",
            "Epoch 15: val_loss did not improve from 0.24471\n",
            "10/10 [==============================] - 0s 10ms/step - loss: 0.2969 - accuracy: 0.6655 - val_loss: 0.2577 - val_accuracy: 0.7891\n",
            "Epoch 16/150\n",
            " 9/10 [==========================>...] - ETA: 0s - loss: 0.2709 - accuracy: 0.7118\n",
            "Epoch 16: val_loss did not improve from 0.24471\n",
            "10/10 [==============================] - 0s 10ms/step - loss: 0.2684 - accuracy: 0.7167 - val_loss: 0.2453 - val_accuracy: 0.7755\n",
            "Epoch 17/150\n",
            " 9/10 [==========================>...] - ETA: 0s - loss: 0.2442 - accuracy: 0.7431\n",
            "Epoch 17: val_loss improved from 0.24471 to 0.23331, saving model to saved_models/classification.hdf5\n",
            "10/10 [==============================] - 0s 14ms/step - loss: 0.2467 - accuracy: 0.7406 - val_loss: 0.2333 - val_accuracy: 0.7347\n",
            "Epoch 18/150\n",
            " 8/10 [=======================>......] - ETA: 0s - loss: 0.2508 - accuracy: 0.7148\n",
            "Epoch 18: val_loss improved from 0.23331 to 0.22940, saving model to saved_models/classification.hdf5\n",
            "10/10 [==============================] - 0s 14ms/step - loss: 0.2538 - accuracy: 0.7133 - val_loss: 0.2294 - val_accuracy: 0.7075\n",
            "Epoch 19/150\n",
            " 9/10 [==========================>...] - ETA: 0s - loss: 0.2548 - accuracy: 0.7222\n",
            "Epoch 19: val_loss improved from 0.22940 to 0.22134, saving model to saved_models/classification.hdf5\n",
            "10/10 [==============================] - 0s 12ms/step - loss: 0.2561 - accuracy: 0.7201 - val_loss: 0.2213 - val_accuracy: 0.7619\n",
            "Epoch 20/150\n",
            " 9/10 [==========================>...] - ETA: 0s - loss: 0.2302 - accuracy: 0.7778\n",
            "Epoch 20: val_loss improved from 0.22134 to 0.22122, saving model to saved_models/classification.hdf5\n",
            "10/10 [==============================] - 0s 13ms/step - loss: 0.2284 - accuracy: 0.7816 - val_loss: 0.2212 - val_accuracy: 0.7415\n",
            "Epoch 21/150\n",
            " 9/10 [==========================>...] - ETA: 0s - loss: 0.2190 - accuracy: 0.7882\n",
            "Epoch 21: val_loss improved from 0.22122 to 0.21005, saving model to saved_models/classification.hdf5\n",
            "10/10 [==============================] - 0s 12ms/step - loss: 0.2182 - accuracy: 0.7884 - val_loss: 0.2100 - val_accuracy: 0.8027\n",
            "Epoch 22/150\n",
            " 8/10 [=======================>......] - ETA: 0s - loss: 0.2342 - accuracy: 0.7148\n",
            "Epoch 22: val_loss improved from 0.21005 to 0.20836, saving model to saved_models/classification.hdf5\n",
            "10/10 [==============================] - 0s 14ms/step - loss: 0.2276 - accuracy: 0.7406 - val_loss: 0.2084 - val_accuracy: 0.7551\n",
            "Epoch 23/150\n",
            " 9/10 [==========================>...] - ETA: 0s - loss: 0.2292 - accuracy: 0.7326\n",
            "Epoch 23: val_loss did not improve from 0.20836\n",
            "10/10 [==============================] - 0s 10ms/step - loss: 0.2306 - accuracy: 0.7304 - val_loss: 0.2141 - val_accuracy: 0.7551\n",
            "Epoch 24/150\n",
            " 9/10 [==========================>...] - ETA: 0s - loss: 0.2366 - accuracy: 0.7500\n",
            "Epoch 24: val_loss did not improve from 0.20836\n",
            "10/10 [==============================] - 0s 11ms/step - loss: 0.2347 - accuracy: 0.7543 - val_loss: 0.2288 - val_accuracy: 0.7483\n",
            "Epoch 25/150\n",
            " 8/10 [=======================>......] - ETA: 0s - loss: 0.2204 - accuracy: 0.7695\n",
            "Epoch 25: val_loss did not improve from 0.20836\n",
            "10/10 [==============================] - 0s 10ms/step - loss: 0.2194 - accuracy: 0.7679 - val_loss: 0.2089 - val_accuracy: 0.7687\n",
            "Epoch 26/150\n",
            " 7/10 [====================>.........] - ETA: 0s - loss: 0.2167 - accuracy: 0.7634\n",
            "Epoch 26: val_loss did not improve from 0.20836\n",
            "10/10 [==============================] - 0s 13ms/step - loss: 0.2161 - accuracy: 0.7645 - val_loss: 0.2143 - val_accuracy: 0.7823\n",
            "Epoch 27/150\n",
            " 9/10 [==========================>...] - ETA: 0s - loss: 0.2056 - accuracy: 0.7847\n",
            "Epoch 27: val_loss improved from 0.20836 to 0.20792, saving model to saved_models/classification.hdf5\n",
            "10/10 [==============================] - 0s 13ms/step - loss: 0.2052 - accuracy: 0.7884 - val_loss: 0.2079 - val_accuracy: 0.7415\n",
            "Epoch 28/150\n",
            " 1/10 [==>...........................] - ETA: 0s - loss: 0.2244 - accuracy: 0.6875\n",
            "Epoch 28: val_loss improved from 0.20792 to 0.19086, saving model to saved_models/classification.hdf5\n",
            "10/10 [==============================] - 0s 10ms/step - loss: 0.1972 - accuracy: 0.7884 - val_loss: 0.1909 - val_accuracy: 0.8027\n",
            "Epoch 29/150\n",
            " 1/10 [==>...........................] - ETA: 0s - loss: 0.2277 - accuracy: 0.6250\n",
            "Epoch 29: val_loss did not improve from 0.19086\n",
            "10/10 [==============================] - 0s 10ms/step - loss: 0.1917 - accuracy: 0.7645 - val_loss: 0.2021 - val_accuracy: 0.7483\n",
            "Epoch 30/150\n",
            "10/10 [==============================] - ETA: 0s - loss: 0.2035 - accuracy: 0.7679\n",
            "Epoch 30: val_loss did not improve from 0.19086\n",
            "10/10 [==============================] - 0s 9ms/step - loss: 0.2035 - accuracy: 0.7679 - val_loss: 0.2031 - val_accuracy: 0.7619\n",
            "Epoch 31/150\n",
            " 1/10 [==>...........................] - ETA: 0s - loss: 0.1548 - accuracy: 0.9062\n",
            "Epoch 31: val_loss did not improve from 0.19086\n",
            "10/10 [==============================] - 0s 8ms/step - loss: 0.1814 - accuracy: 0.8191 - val_loss: 0.1939 - val_accuracy: 0.7823\n",
            "Epoch 32/150\n",
            " 8/10 [=======================>......] - ETA: 0s - loss: 0.1764 - accuracy: 0.8008\n",
            "Epoch 32: val_loss improved from 0.19086 to 0.17910, saving model to saved_models/classification.hdf5\n",
            "10/10 [==============================] - 0s 13ms/step - loss: 0.1825 - accuracy: 0.7884 - val_loss: 0.1791 - val_accuracy: 0.8027\n",
            "Epoch 33/150\n",
            " 9/10 [==========================>...] - ETA: 0s - loss: 0.1835 - accuracy: 0.7847\n",
            "Epoch 33: val_loss did not improve from 0.17910\n",
            "10/10 [==============================] - 0s 11ms/step - loss: 0.1874 - accuracy: 0.7850 - val_loss: 0.1825 - val_accuracy: 0.8163\n",
            "Epoch 34/150\n",
            "10/10 [==============================] - ETA: 0s - loss: 0.1840 - accuracy: 0.7918\n",
            "Epoch 34: val_loss did not improve from 0.17910\n",
            "10/10 [==============================] - 0s 9ms/step - loss: 0.1840 - accuracy: 0.7918 - val_loss: 0.1948 - val_accuracy: 0.8844\n",
            "Epoch 35/150\n",
            " 1/10 [==>...........................] - ETA: 0s - loss: 0.1619 - accuracy: 0.8125\n",
            "Epoch 35: val_loss did not improve from 0.17910\n",
            "10/10 [==============================] - 0s 10ms/step - loss: 0.1914 - accuracy: 0.8020 - val_loss: 0.1946 - val_accuracy: 0.7823\n",
            "Epoch 36/150\n",
            "10/10 [==============================] - ETA: 0s - loss: 0.1996 - accuracy: 0.7850\n",
            "Epoch 36: val_loss did not improve from 0.17910\n",
            "10/10 [==============================] - 0s 9ms/step - loss: 0.1996 - accuracy: 0.7850 - val_loss: 0.1881 - val_accuracy: 0.7619\n",
            "Epoch 37/150\n",
            " 9/10 [==========================>...] - ETA: 0s - loss: 0.1648 - accuracy: 0.8299\n",
            "Epoch 37: val_loss improved from 0.17910 to 0.17884, saving model to saved_models/classification.hdf5\n",
            "10/10 [==============================] - 0s 12ms/step - loss: 0.1635 - accuracy: 0.8294 - val_loss: 0.1788 - val_accuracy: 0.7891\n",
            "Epoch 38/150\n",
            " 8/10 [=======================>......] - ETA: 0s - loss: 0.1703 - accuracy: 0.8125\n",
            "Epoch 38: val_loss improved from 0.17884 to 0.17184, saving model to saved_models/classification.hdf5\n",
            "10/10 [==============================] - 0s 13ms/step - loss: 0.1691 - accuracy: 0.8089 - val_loss: 0.1718 - val_accuracy: 0.8707\n",
            "Epoch 39/150\n",
            " 9/10 [==========================>...] - ETA: 0s - loss: 0.1740 - accuracy: 0.7986\n",
            "Epoch 39: val_loss did not improve from 0.17184\n",
            "10/10 [==============================] - 0s 10ms/step - loss: 0.1771 - accuracy: 0.7986 - val_loss: 0.1748 - val_accuracy: 0.8912\n",
            "Epoch 40/150\n",
            " 8/10 [=======================>......] - ETA: 0s - loss: 0.1576 - accuracy: 0.8516\n",
            "Epoch 40: val_loss did not improve from 0.17184\n",
            "10/10 [==============================] - 0s 12ms/step - loss: 0.1602 - accuracy: 0.8464 - val_loss: 0.1970 - val_accuracy: 0.7415\n",
            "Epoch 41/150\n",
            " 1/10 [==>...........................] - ETA: 0s - loss: 0.1710 - accuracy: 0.8438\n",
            "Epoch 41: val_loss did not improve from 0.17184\n",
            "10/10 [==============================] - 0s 9ms/step - loss: 0.1802 - accuracy: 0.8157 - val_loss: 0.1972 - val_accuracy: 0.7619\n",
            "Epoch 42/150\n",
            "10/10 [==============================] - ETA: 0s - loss: 0.1640 - accuracy: 0.8328\n",
            "Epoch 42: val_loss did not improve from 0.17184\n",
            "10/10 [==============================] - 0s 11ms/step - loss: 0.1640 - accuracy: 0.8328 - val_loss: 0.1808 - val_accuracy: 0.8095\n",
            "Epoch 43/150\n",
            " 8/10 [=======================>......] - ETA: 0s - loss: 0.1561 - accuracy: 0.8320\n",
            "Epoch 43: val_loss did not improve from 0.17184\n",
            "10/10 [==============================] - 0s 10ms/step - loss: 0.1614 - accuracy: 0.8157 - val_loss: 0.1736 - val_accuracy: 0.7959\n",
            "Epoch 44/150\n",
            " 8/10 [=======================>......] - ETA: 0s - loss: 0.1505 - accuracy: 0.8398\n",
            "Epoch 44: val_loss did not improve from 0.17184\n",
            "10/10 [==============================] - 0s 11ms/step - loss: 0.1582 - accuracy: 0.8294 - val_loss: 0.1741 - val_accuracy: 0.8095\n",
            "Epoch 45/150\n",
            " 8/10 [=======================>......] - ETA: 0s - loss: 0.1607 - accuracy: 0.8008\n",
            "Epoch 45: val_loss did not improve from 0.17184\n",
            "10/10 [==============================] - 0s 10ms/step - loss: 0.1670 - accuracy: 0.7952 - val_loss: 0.1800 - val_accuracy: 0.8027\n",
            "Epoch 46/150\n",
            " 8/10 [=======================>......] - ETA: 0s - loss: 0.1714 - accuracy: 0.8047\n",
            "Epoch 46: val_loss did not improve from 0.17184\n",
            "10/10 [==============================] - 0s 10ms/step - loss: 0.1686 - accuracy: 0.8089 - val_loss: 0.1873 - val_accuracy: 0.8367\n",
            "Epoch 47/150\n",
            " 9/10 [==========================>...] - ETA: 0s - loss: 0.1518 - accuracy: 0.8299\n",
            "Epoch 47: val_loss improved from 0.17184 to 0.16278, saving model to saved_models/classification.hdf5\n",
            "10/10 [==============================] - 0s 13ms/step - loss: 0.1511 - accuracy: 0.8294 - val_loss: 0.1628 - val_accuracy: 0.8571\n",
            "Epoch 48/150\n",
            " 9/10 [==========================>...] - ETA: 0s - loss: 0.1564 - accuracy: 0.8576\n",
            "Epoch 48: val_loss improved from 0.16278 to 0.16237, saving model to saved_models/classification.hdf5\n",
            "10/10 [==============================] - 0s 12ms/step - loss: 0.1573 - accuracy: 0.8567 - val_loss: 0.1624 - val_accuracy: 0.8435\n",
            "Epoch 49/150\n",
            " 9/10 [==========================>...] - ETA: 0s - loss: 0.1452 - accuracy: 0.8576\n",
            "Epoch 49: val_loss did not improve from 0.16237\n",
            "10/10 [==============================] - 0s 10ms/step - loss: 0.1452 - accuracy: 0.8567 - val_loss: 0.1719 - val_accuracy: 0.8435\n",
            "Epoch 50/150\n",
            " 9/10 [==========================>...] - ETA: 0s - loss: 0.1357 - accuracy: 0.8333\n",
            "Epoch 50: val_loss did not improve from 0.16237\n",
            "10/10 [==============================] - 0s 10ms/step - loss: 0.1378 - accuracy: 0.8259 - val_loss: 0.1635 - val_accuracy: 0.8912\n",
            "Epoch 51/150\n",
            " 9/10 [==========================>...] - ETA: 0s - loss: 0.1369 - accuracy: 0.8507\n",
            "Epoch 51: val_loss improved from 0.16237 to 0.16077, saving model to saved_models/classification.hdf5\n",
            "10/10 [==============================] - 0s 13ms/step - loss: 0.1360 - accuracy: 0.8532 - val_loss: 0.1608 - val_accuracy: 0.8707\n",
            "Epoch 52/150\n",
            " 9/10 [==========================>...] - ETA: 0s - loss: 0.1349 - accuracy: 0.8542\n",
            "Epoch 52: val_loss did not improve from 0.16077\n",
            "10/10 [==============================] - 0s 10ms/step - loss: 0.1331 - accuracy: 0.8567 - val_loss: 0.1614 - val_accuracy: 0.8163\n",
            "Epoch 53/150\n",
            " 7/10 [====================>.........] - ETA: 0s - loss: 0.1440 - accuracy: 0.8482\n",
            "Epoch 53: val_loss did not improve from 0.16077\n",
            "10/10 [==============================] - 0s 14ms/step - loss: 0.1430 - accuracy: 0.8601 - val_loss: 0.1676 - val_accuracy: 0.8435\n",
            "Epoch 54/150\n",
            " 8/10 [=======================>......] - ETA: 0s - loss: 0.1315 - accuracy: 0.8633\n",
            "Epoch 54: val_loss improved from 0.16077 to 0.15640, saving model to saved_models/classification.hdf5\n",
            "10/10 [==============================] - 0s 13ms/step - loss: 0.1265 - accuracy: 0.8703 - val_loss: 0.1564 - val_accuracy: 0.8639\n",
            "Epoch 55/150\n",
            " 9/10 [==========================>...] - ETA: 0s - loss: 0.1397 - accuracy: 0.8403\n",
            "Epoch 55: val_loss improved from 0.15640 to 0.14562, saving model to saved_models/classification.hdf5\n",
            "10/10 [==============================] - 0s 12ms/step - loss: 0.1393 - accuracy: 0.8396 - val_loss: 0.1456 - val_accuracy: 0.9048\n",
            "Epoch 56/150\n",
            " 9/10 [==========================>...] - ETA: 0s - loss: 0.1230 - accuracy: 0.8924\n",
            "Epoch 56: val_loss did not improve from 0.14562\n",
            "10/10 [==============================] - 0s 10ms/step - loss: 0.1276 - accuracy: 0.8840 - val_loss: 0.1571 - val_accuracy: 0.8367\n",
            "Epoch 57/150\n",
            " 9/10 [==========================>...] - ETA: 0s - loss: 0.1358 - accuracy: 0.8785\n",
            "Epoch 57: val_loss did not improve from 0.14562\n",
            "10/10 [==============================] - 0s 9ms/step - loss: 0.1433 - accuracy: 0.8771 - val_loss: 0.1660 - val_accuracy: 0.8707\n",
            "Epoch 58/150\n",
            " 9/10 [==========================>...] - ETA: 0s - loss: 0.1407 - accuracy: 0.8646\n",
            "Epoch 58: val_loss did not improve from 0.14562\n",
            "10/10 [==============================] - 0s 9ms/step - loss: 0.1425 - accuracy: 0.8601 - val_loss: 0.1676 - val_accuracy: 0.8776\n",
            "Epoch 59/150\n",
            "10/10 [==============================] - ETA: 0s - loss: 0.1459 - accuracy: 0.8430\n",
            "Epoch 59: val_loss did not improve from 0.14562\n",
            "10/10 [==============================] - 0s 9ms/step - loss: 0.1459 - accuracy: 0.8430 - val_loss: 0.1653 - val_accuracy: 0.8707\n",
            "Epoch 60/150\n",
            " 8/10 [=======================>......] - ETA: 0s - loss: 0.1486 - accuracy: 0.8477\n",
            "Epoch 60: val_loss did not improve from 0.14562\n",
            "10/10 [==============================] - 0s 10ms/step - loss: 0.1435 - accuracy: 0.8567 - val_loss: 0.1559 - val_accuracy: 0.8912\n",
            "Epoch 61/150\n",
            " 9/10 [==========================>...] - ETA: 0s - loss: 0.1351 - accuracy: 0.8299\n",
            "Epoch 61: val_loss did not improve from 0.14562\n",
            "10/10 [==============================] - 0s 10ms/step - loss: 0.1335 - accuracy: 0.8328 - val_loss: 0.1521 - val_accuracy: 0.8639\n",
            "Epoch 62/150\n",
            " 8/10 [=======================>......] - ETA: 0s - loss: 0.1209 - accuracy: 0.8672\n",
            "Epoch 62: val_loss did not improve from 0.14562\n",
            "10/10 [==============================] - 0s 11ms/step - loss: 0.1327 - accuracy: 0.8498 - val_loss: 0.1512 - val_accuracy: 0.8639\n",
            "Epoch 63/150\n",
            " 9/10 [==========================>...] - ETA: 0s - loss: 0.1600 - accuracy: 0.8368\n",
            "Epoch 63: val_loss did not improve from 0.14562\n",
            "10/10 [==============================] - 0s 11ms/step - loss: 0.1583 - accuracy: 0.8396 - val_loss: 0.1612 - val_accuracy: 0.8980\n",
            "Epoch 64/150\n",
            " 9/10 [==========================>...] - ETA: 0s - loss: 0.1291 - accuracy: 0.8889\n",
            "Epoch 64: val_loss did not improve from 0.14562\n",
            "10/10 [==============================] - 0s 10ms/step - loss: 0.1281 - accuracy: 0.8908 - val_loss: 0.1574 - val_accuracy: 0.8776\n",
            "Epoch 65/150\n",
            " 8/10 [=======================>......] - ETA: 0s - loss: 0.1295 - accuracy: 0.8867\n",
            "Epoch 65: val_loss did not improve from 0.14562\n",
            "10/10 [==============================] - 0s 11ms/step - loss: 0.1287 - accuracy: 0.8840 - val_loss: 0.1549 - val_accuracy: 0.8571\n",
            "Epoch 66/150\n",
            " 9/10 [==========================>...] - ETA: 0s - loss: 0.1428 - accuracy: 0.8438\n",
            "Epoch 66: val_loss did not improve from 0.14562\n",
            "10/10 [==============================] - 0s 10ms/step - loss: 0.1423 - accuracy: 0.8430 - val_loss: 0.1565 - val_accuracy: 0.8776\n",
            "Epoch 67/150\n",
            " 9/10 [==========================>...] - ETA: 0s - loss: 0.1436 - accuracy: 0.8438\n",
            "Epoch 67: val_loss did not improve from 0.14562\n",
            "10/10 [==============================] - 0s 10ms/step - loss: 0.1423 - accuracy: 0.8430 - val_loss: 0.1584 - val_accuracy: 0.8980\n",
            "Epoch 68/150\n",
            "10/10 [==============================] - ETA: 0s - loss: 0.1405 - accuracy: 0.8464\n",
            "Epoch 68: val_loss did not improve from 0.14562\n",
            "10/10 [==============================] - 0s 9ms/step - loss: 0.1405 - accuracy: 0.8464 - val_loss: 0.1519 - val_accuracy: 0.8980\n",
            "Epoch 69/150\n",
            " 9/10 [==========================>...] - ETA: 0s - loss: 0.1451 - accuracy: 0.8507\n",
            "Epoch 69: val_loss did not improve from 0.14562\n",
            "10/10 [==============================] - 0s 11ms/step - loss: 0.1430 - accuracy: 0.8532 - val_loss: 0.1569 - val_accuracy: 0.8707\n",
            "Epoch 70/150\n",
            " 9/10 [==========================>...] - ETA: 0s - loss: 0.1299 - accuracy: 0.8646\n",
            "Epoch 70: val_loss did not improve from 0.14562\n",
            "10/10 [==============================] - 0s 11ms/step - loss: 0.1304 - accuracy: 0.8635 - val_loss: 0.1612 - val_accuracy: 0.8299\n",
            "Epoch 71/150\n",
            " 9/10 [==========================>...] - ETA: 0s - loss: 0.1324 - accuracy: 0.8438\n",
            "Epoch 71: val_loss did not improve from 0.14562\n",
            "10/10 [==============================] - 0s 12ms/step - loss: 0.1315 - accuracy: 0.8430 - val_loss: 0.1460 - val_accuracy: 0.9116\n",
            "Epoch 72/150\n",
            " 9/10 [==========================>...] - ETA: 0s - loss: 0.1194 - accuracy: 0.8889\n",
            "Epoch 72: val_loss did not improve from 0.14562\n",
            "10/10 [==============================] - 0s 10ms/step - loss: 0.1195 - accuracy: 0.8874 - val_loss: 0.1558 - val_accuracy: 0.8844\n",
            "Epoch 73/150\n",
            " 1/10 [==>...........................] - ETA: 0s - loss: 0.1660 - accuracy: 0.8438\n",
            "Epoch 73: val_loss did not improve from 0.14562\n",
            "10/10 [==============================] - 0s 9ms/step - loss: 0.1118 - accuracy: 0.8805 - val_loss: 0.1510 - val_accuracy: 0.8367\n",
            "Epoch 74/150\n",
            " 9/10 [==========================>...] - ETA: 0s - loss: 0.1304 - accuracy: 0.8542\n",
            "Epoch 74: val_loss improved from 0.14562 to 0.14529, saving model to saved_models/classification.hdf5\n",
            "10/10 [==============================] - 0s 12ms/step - loss: 0.1286 - accuracy: 0.8567 - val_loss: 0.1453 - val_accuracy: 0.8912\n",
            "Epoch 75/150\n",
            " 8/10 [=======================>......] - ETA: 0s - loss: 0.1198 - accuracy: 0.8750\n",
            "Epoch 75: val_loss improved from 0.14529 to 0.14277, saving model to saved_models/classification.hdf5\n",
            "10/10 [==============================] - 0s 13ms/step - loss: 0.1188 - accuracy: 0.8669 - val_loss: 0.1428 - val_accuracy: 0.9116\n",
            "Epoch 76/150\n",
            "10/10 [==============================] - ETA: 0s - loss: 0.1210 - accuracy: 0.8771\n",
            "Epoch 76: val_loss improved from 0.14277 to 0.14068, saving model to saved_models/classification.hdf5\n",
            "10/10 [==============================] - 0s 11ms/step - loss: 0.1210 - accuracy: 0.8771 - val_loss: 0.1407 - val_accuracy: 0.8707\n",
            "Epoch 77/150\n",
            "10/10 [==============================] - ETA: 0s - loss: 0.1238 - accuracy: 0.8601\n",
            "Epoch 77: val_loss did not improve from 0.14068\n",
            "10/10 [==============================] - 0s 9ms/step - loss: 0.1238 - accuracy: 0.8601 - val_loss: 0.1452 - val_accuracy: 0.8912\n",
            "Epoch 78/150\n",
            " 1/10 [==>...........................] - ETA: 0s - loss: 0.0726 - accuracy: 0.9375\n",
            "Epoch 78: val_loss did not improve from 0.14068\n",
            "10/10 [==============================] - 0s 8ms/step - loss: 0.1203 - accuracy: 0.8669 - val_loss: 0.1453 - val_accuracy: 0.8912\n",
            "Epoch 79/150\n",
            " 1/10 [==>...........................] - ETA: 0s - loss: 0.0801 - accuracy: 0.9375\n",
            "Epoch 79: val_loss did not improve from 0.14068\n",
            "10/10 [==============================] - 0s 9ms/step - loss: 0.1121 - accuracy: 0.8908 - val_loss: 0.1493 - val_accuracy: 0.8776\n",
            "Epoch 80/150\n",
            " 1/10 [==>...........................] - ETA: 0s - loss: 0.0916 - accuracy: 0.9062\n",
            "Epoch 80: val_loss improved from 0.14068 to 0.13672, saving model to saved_models/classification.hdf5\n",
            "10/10 [==============================] - 0s 12ms/step - loss: 0.1359 - accuracy: 0.8532 - val_loss: 0.1367 - val_accuracy: 0.9116\n",
            "Epoch 81/150\n",
            "10/10 [==============================] - ETA: 0s - loss: 0.1032 - accuracy: 0.8703\n",
            "Epoch 81: val_loss did not improve from 0.13672\n",
            "10/10 [==============================] - 0s 9ms/step - loss: 0.1032 - accuracy: 0.8703 - val_loss: 0.1442 - val_accuracy: 0.8912\n",
            "Epoch 82/150\n",
            " 8/10 [=======================>......] - ETA: 0s - loss: 0.1157 - accuracy: 0.8711\n",
            "Epoch 82: val_loss did not improve from 0.13672\n",
            "10/10 [==============================] - 0s 11ms/step - loss: 0.1113 - accuracy: 0.8805 - val_loss: 0.1428 - val_accuracy: 0.8980\n",
            "Epoch 83/150\n",
            " 9/10 [==========================>...] - ETA: 0s - loss: 0.1209 - accuracy: 0.8611\n",
            "Epoch 83: val_loss did not improve from 0.13672\n",
            "10/10 [==============================] - 0s 10ms/step - loss: 0.1214 - accuracy: 0.8601 - val_loss: 0.1389 - val_accuracy: 0.8980\n",
            "Epoch 84/150\n",
            " 9/10 [==========================>...] - ETA: 0s - loss: 0.1150 - accuracy: 0.8854\n",
            "Epoch 84: val_loss did not improve from 0.13672\n",
            "10/10 [==============================] - 0s 11ms/step - loss: 0.1148 - accuracy: 0.8840 - val_loss: 0.1428 - val_accuracy: 0.8912\n",
            "Epoch 85/150\n",
            " 9/10 [==========================>...] - ETA: 0s - loss: 0.1147 - accuracy: 0.9062\n",
            "Epoch 85: val_loss did not improve from 0.13672\n",
            "10/10 [==============================] - 0s 10ms/step - loss: 0.1134 - accuracy: 0.9078 - val_loss: 0.1419 - val_accuracy: 0.8639\n",
            "Epoch 86/150\n",
            " 9/10 [==========================>...] - ETA: 0s - loss: 0.1111 - accuracy: 0.8819\n",
            "Epoch 86: val_loss improved from 0.13672 to 0.13439, saving model to saved_models/classification.hdf5\n",
            "10/10 [==============================] - 0s 13ms/step - loss: 0.1124 - accuracy: 0.8805 - val_loss: 0.1344 - val_accuracy: 0.8980\n",
            "Epoch 87/150\n",
            " 8/10 [=======================>......] - ETA: 0s - loss: 0.1170 - accuracy: 0.8906\n",
            "Epoch 87: val_loss did not improve from 0.13439\n",
            "10/10 [==============================] - 0s 11ms/step - loss: 0.1137 - accuracy: 0.8874 - val_loss: 0.1415 - val_accuracy: 0.9116\n",
            "Epoch 88/150\n",
            " 8/10 [=======================>......] - ETA: 0s - loss: 0.1198 - accuracy: 0.8711\n",
            "Epoch 88: val_loss did not improve from 0.13439\n",
            "10/10 [==============================] - 0s 11ms/step - loss: 0.1202 - accuracy: 0.8737 - val_loss: 0.1446 - val_accuracy: 0.8912\n",
            "Epoch 89/150\n",
            " 9/10 [==========================>...] - ETA: 0s - loss: 0.1078 - accuracy: 0.8958\n",
            "Epoch 89: val_loss did not improve from 0.13439\n",
            "10/10 [==============================] - 0s 13ms/step - loss: 0.1069 - accuracy: 0.8976 - val_loss: 0.1353 - val_accuracy: 0.9252\n",
            "Epoch 90/150\n",
            " 9/10 [==========================>...] - ETA: 0s - loss: 0.1160 - accuracy: 0.8681\n",
            "Epoch 90: val_loss did not improve from 0.13439\n",
            "10/10 [==============================] - 0s 9ms/step - loss: 0.1157 - accuracy: 0.8669 - val_loss: 0.1455 - val_accuracy: 0.8639\n",
            "Epoch 91/150\n",
            "10/10 [==============================] - ETA: 0s - loss: 0.1101 - accuracy: 0.8976\n",
            "Epoch 91: val_loss did not improve from 0.13439\n",
            "10/10 [==============================] - 0s 9ms/step - loss: 0.1101 - accuracy: 0.8976 - val_loss: 0.1407 - val_accuracy: 0.8912\n",
            "Epoch 92/150\n",
            " 9/10 [==========================>...] - ETA: 0s - loss: 0.1171 - accuracy: 0.8750\n",
            "Epoch 92: val_loss did not improve from 0.13439\n",
            "10/10 [==============================] - 0s 11ms/step - loss: 0.1158 - accuracy: 0.8771 - val_loss: 0.1419 - val_accuracy: 0.8912\n",
            "Epoch 93/150\n",
            " 8/10 [=======================>......] - ETA: 0s - loss: 0.1210 - accuracy: 0.8828\n",
            "Epoch 93: val_loss improved from 0.13439 to 0.13144, saving model to saved_models/classification.hdf5\n",
            "10/10 [==============================] - 0s 14ms/step - loss: 0.1172 - accuracy: 0.8874 - val_loss: 0.1314 - val_accuracy: 0.9048\n",
            "Epoch 94/150\n",
            " 9/10 [==========================>...] - ETA: 0s - loss: 0.1206 - accuracy: 0.8819\n",
            "Epoch 94: val_loss did not improve from 0.13144\n",
            "10/10 [==============================] - 0s 9ms/step - loss: 0.1189 - accuracy: 0.8840 - val_loss: 0.1365 - val_accuracy: 0.9252\n",
            "Epoch 95/150\n",
            " 9/10 [==========================>...] - ETA: 0s - loss: 0.1106 - accuracy: 0.9028\n",
            "Epoch 95: val_loss improved from 0.13144 to 0.12626, saving model to saved_models/classification.hdf5\n",
            "10/10 [==============================] - 0s 14ms/step - loss: 0.1090 - accuracy: 0.9044 - val_loss: 0.1263 - val_accuracy: 0.9116\n",
            "Epoch 96/150\n",
            " 9/10 [==========================>...] - ETA: 0s - loss: 0.0933 - accuracy: 0.9167\n",
            "Epoch 96: val_loss did not improve from 0.12626\n",
            "10/10 [==============================] - 0s 11ms/step - loss: 0.0930 - accuracy: 0.9181 - val_loss: 0.1293 - val_accuracy: 0.8776\n",
            "Epoch 97/150\n",
            " 9/10 [==========================>...] - ETA: 0s - loss: 0.1059 - accuracy: 0.8854\n",
            "Epoch 97: val_loss improved from 0.12626 to 0.11857, saving model to saved_models/classification.hdf5\n",
            "10/10 [==============================] - 0s 13ms/step - loss: 0.1043 - accuracy: 0.8874 - val_loss: 0.1186 - val_accuracy: 0.9320\n",
            "Epoch 98/150\n",
            " 6/10 [=================>............] - ETA: 0s - loss: 0.0913 - accuracy: 0.9115\n",
            "Epoch 98: val_loss improved from 0.11857 to 0.11760, saving model to saved_models/classification.hdf5\n",
            "10/10 [==============================] - 0s 14ms/step - loss: 0.0982 - accuracy: 0.8976 - val_loss: 0.1176 - val_accuracy: 0.9320\n",
            "Epoch 99/150\n",
            " 9/10 [==========================>...] - ETA: 0s - loss: 0.1210 - accuracy: 0.8715\n",
            "Epoch 99: val_loss did not improve from 0.11760\n",
            "10/10 [==============================] - 0s 11ms/step - loss: 0.1229 - accuracy: 0.8703 - val_loss: 0.1263 - val_accuracy: 0.9184\n",
            "Epoch 100/150\n",
            " 9/10 [==========================>...] - ETA: 0s - loss: 0.1007 - accuracy: 0.9236\n",
            "Epoch 100: val_loss did not improve from 0.11760\n",
            "10/10 [==============================] - 0s 11ms/step - loss: 0.1028 - accuracy: 0.9181 - val_loss: 0.1323 - val_accuracy: 0.8912\n",
            "Epoch 101/150\n",
            " 8/10 [=======================>......] - ETA: 0s - loss: 0.1077 - accuracy: 0.8906\n",
            "Epoch 101: val_loss did not improve from 0.11760\n",
            "10/10 [==============================] - 0s 11ms/step - loss: 0.1095 - accuracy: 0.8908 - val_loss: 0.1275 - val_accuracy: 0.9116\n",
            "Epoch 102/150\n",
            " 9/10 [==========================>...] - ETA: 0s - loss: 0.1008 - accuracy: 0.9062\n",
            "Epoch 102: val_loss did not improve from 0.11760\n",
            "10/10 [==============================] - 0s 10ms/step - loss: 0.1007 - accuracy: 0.9078 - val_loss: 0.1398 - val_accuracy: 0.9320\n",
            "Epoch 103/150\n",
            " 7/10 [====================>.........] - ETA: 0s - loss: 0.0952 - accuracy: 0.9018\n",
            "Epoch 103: val_loss did not improve from 0.11760\n",
            "10/10 [==============================] - 0s 11ms/step - loss: 0.0942 - accuracy: 0.9044 - val_loss: 0.1264 - val_accuracy: 0.9252\n",
            "Epoch 104/150\n",
            " 9/10 [==========================>...] - ETA: 0s - loss: 0.1003 - accuracy: 0.8993\n",
            "Epoch 104: val_loss did not improve from 0.11760\n",
            "10/10 [==============================] - 0s 10ms/step - loss: 0.1003 - accuracy: 0.8976 - val_loss: 0.1257 - val_accuracy: 0.9048\n",
            "Epoch 105/150\n",
            " 8/10 [=======================>......] - ETA: 0s - loss: 0.1009 - accuracy: 0.9141\n",
            "Epoch 105: val_loss did not improve from 0.11760\n",
            "10/10 [==============================] - 0s 12ms/step - loss: 0.1082 - accuracy: 0.9010 - val_loss: 0.1328 - val_accuracy: 0.9252\n",
            "Epoch 106/150\n",
            " 1/10 [==>...........................] - ETA: 0s - loss: 0.1026 - accuracy: 0.8438\n",
            "Epoch 106: val_loss did not improve from 0.11760\n",
            "10/10 [==============================] - 0s 8ms/step - loss: 0.1157 - accuracy: 0.8669 - val_loss: 0.1346 - val_accuracy: 0.9184\n",
            "Epoch 107/150\n",
            " 9/10 [==========================>...] - ETA: 0s - loss: 0.1093 - accuracy: 0.9097\n",
            "Epoch 107: val_loss did not improve from 0.11760\n",
            "10/10 [==============================] - 0s 10ms/step - loss: 0.1101 - accuracy: 0.9078 - val_loss: 0.1376 - val_accuracy: 0.8776\n",
            "Epoch 108/150\n",
            " 8/10 [=======================>......] - ETA: 0s - loss: 0.1012 - accuracy: 0.8867\n",
            "Epoch 108: val_loss did not improve from 0.11760\n",
            "10/10 [==============================] - 0s 11ms/step - loss: 0.0985 - accuracy: 0.8840 - val_loss: 0.1218 - val_accuracy: 0.9184\n",
            "Epoch 109/150\n",
            "10/10 [==============================] - ETA: 0s - loss: 0.1027 - accuracy: 0.8874\n",
            "Epoch 109: val_loss did not improve from 0.11760\n",
            "10/10 [==============================] - 0s 9ms/step - loss: 0.1027 - accuracy: 0.8874 - val_loss: 0.1258 - val_accuracy: 0.8912\n",
            "Epoch 110/150\n",
            " 9/10 [==========================>...] - ETA: 0s - loss: 0.0991 - accuracy: 0.9097\n",
            "Epoch 110: val_loss did not improve from 0.11760\n",
            "10/10 [==============================] - 0s 12ms/step - loss: 0.0980 - accuracy: 0.9113 - val_loss: 0.1259 - val_accuracy: 0.8912\n",
            "Epoch 111/150\n",
            " 1/10 [==>...........................] - ETA: 0s - loss: 0.0696 - accuracy: 0.9062\n",
            "Epoch 111: val_loss did not improve from 0.11760\n",
            "10/10 [==============================] - 0s 8ms/step - loss: 0.1010 - accuracy: 0.8976 - val_loss: 0.1200 - val_accuracy: 0.9116\n",
            "Epoch 112/150\n",
            " 1/10 [==>...........................] - ETA: 0s - loss: 0.1157 - accuracy: 0.9062\n",
            "Epoch 112: val_loss did not improve from 0.11760\n",
            "10/10 [==============================] - 0s 8ms/step - loss: 0.1116 - accuracy: 0.9044 - val_loss: 0.1291 - val_accuracy: 0.9116\n",
            "Epoch 113/150\n",
            "10/10 [==============================] - ETA: 0s - loss: 0.0996 - accuracy: 0.8942\n",
            "Epoch 113: val_loss did not improve from 0.11760\n",
            "10/10 [==============================] - 0s 10ms/step - loss: 0.0996 - accuracy: 0.8942 - val_loss: 0.1421 - val_accuracy: 0.8776\n",
            "Epoch 114/150\n",
            "10/10 [==============================] - ETA: 0s - loss: 0.1050 - accuracy: 0.8874\n",
            "Epoch 114: val_loss did not improve from 0.11760\n",
            "10/10 [==============================] - 0s 9ms/step - loss: 0.1050 - accuracy: 0.8874 - val_loss: 0.1340 - val_accuracy: 0.9048\n",
            "Epoch 115/150\n",
            "10/10 [==============================] - ETA: 0s - loss: 0.1043 - accuracy: 0.8840\n",
            "Epoch 115: val_loss did not improve from 0.11760\n",
            "10/10 [==============================] - 0s 9ms/step - loss: 0.1043 - accuracy: 0.8840 - val_loss: 0.1235 - val_accuracy: 0.9184\n",
            "Epoch 116/150\n",
            " 1/10 [==>...........................] - ETA: 0s - loss: 0.0858 - accuracy: 0.8750\n",
            "Epoch 116: val_loss did not improve from 0.11760\n",
            "10/10 [==============================] - 0s 8ms/step - loss: 0.0973 - accuracy: 0.9010 - val_loss: 0.1506 - val_accuracy: 0.8231\n",
            "Epoch 117/150\n",
            " 8/10 [=======================>......] - ETA: 0s - loss: 0.1099 - accuracy: 0.8984\n",
            "Epoch 117: val_loss did not improve from 0.11760\n",
            "10/10 [==============================] - 0s 11ms/step - loss: 0.1135 - accuracy: 0.8874 - val_loss: 0.1234 - val_accuracy: 0.9388\n",
            "Epoch 118/150\n",
            " 8/10 [=======================>......] - ETA: 0s - loss: 0.1148 - accuracy: 0.8906\n",
            "Epoch 118: val_loss did not improve from 0.11760\n",
            "10/10 [==============================] - 0s 12ms/step - loss: 0.1120 - accuracy: 0.8874 - val_loss: 0.1301 - val_accuracy: 0.9116\n",
            "Epoch 119/150\n",
            " 1/10 [==>...........................] - ETA: 0s - loss: 0.0862 - accuracy: 0.8750\n",
            "Epoch 119: val_loss did not improve from 0.11760\n",
            "10/10 [==============================] - 0s 9ms/step - loss: 0.0947 - accuracy: 0.8874 - val_loss: 0.1272 - val_accuracy: 0.8844\n",
            "Epoch 120/150\n",
            "10/10 [==============================] - ETA: 0s - loss: 0.0955 - accuracy: 0.8805\n",
            "Epoch 120: val_loss did not improve from 0.11760\n",
            "10/10 [==============================] - 0s 9ms/step - loss: 0.0955 - accuracy: 0.8805 - val_loss: 0.1186 - val_accuracy: 0.9252\n",
            "Epoch 121/150\n",
            " 1/10 [==>...........................] - ETA: 0s - loss: 0.0684 - accuracy: 0.9375\n",
            "Epoch 121: val_loss did not improve from 0.11760\n",
            "10/10 [==============================] - 0s 9ms/step - loss: 0.1042 - accuracy: 0.8840 - val_loss: 0.1257 - val_accuracy: 0.9116\n",
            "Epoch 122/150\n",
            " 8/10 [=======================>......] - ETA: 0s - loss: 0.0988 - accuracy: 0.8867\n",
            "Epoch 122: val_loss did not improve from 0.11760\n",
            "10/10 [==============================] - 0s 11ms/step - loss: 0.1006 - accuracy: 0.8840 - val_loss: 0.1324 - val_accuracy: 0.9184\n",
            "Epoch 123/150\n",
            " 1/10 [==>...........................] - ETA: 0s - loss: 0.1000 - accuracy: 0.9375\n",
            "Epoch 123: val_loss did not improve from 0.11760\n",
            "10/10 [==============================] - 0s 8ms/step - loss: 0.0929 - accuracy: 0.9147 - val_loss: 0.1250 - val_accuracy: 0.9116\n",
            "Epoch 124/150\n",
            " 9/10 [==========================>...] - ETA: 0s - loss: 0.0933 - accuracy: 0.9167\n",
            "Epoch 124: val_loss did not improve from 0.11760\n",
            "10/10 [==============================] - 0s 10ms/step - loss: 0.0935 - accuracy: 0.9147 - val_loss: 0.1302 - val_accuracy: 0.8707\n",
            "Epoch 125/150\n",
            " 1/10 [==>...........................] - ETA: 0s - loss: 0.0906 - accuracy: 0.9375\n",
            "Epoch 125: val_loss did not improve from 0.11760\n",
            "10/10 [==============================] - 0s 8ms/step - loss: 0.0905 - accuracy: 0.9010 - val_loss: 0.1384 - val_accuracy: 0.8571\n",
            "Epoch 126/150\n",
            " 1/10 [==>...........................] - ETA: 0s - loss: 0.0692 - accuracy: 0.9688\n",
            "Epoch 126: val_loss did not improve from 0.11760\n",
            "10/10 [==============================] - 0s 9ms/step - loss: 0.1008 - accuracy: 0.8976 - val_loss: 0.1210 - val_accuracy: 0.9252\n",
            "Epoch 127/150\n",
            " 9/10 [==========================>...] - ETA: 0s - loss: 0.0837 - accuracy: 0.9097\n",
            "Epoch 127: val_loss did not improve from 0.11760\n",
            "10/10 [==============================] - 0s 10ms/step - loss: 0.0860 - accuracy: 0.9078 - val_loss: 0.1213 - val_accuracy: 0.9116\n",
            "Epoch 128/150\n",
            " 9/10 [==========================>...] - ETA: 0s - loss: 0.0828 - accuracy: 0.9340\n",
            "Epoch 128: val_loss did not improve from 0.11760\n",
            "10/10 [==============================] - 0s 11ms/step - loss: 0.0830 - accuracy: 0.9317 - val_loss: 0.1242 - val_accuracy: 0.9320\n",
            "Epoch 129/150\n",
            " 8/10 [=======================>......] - ETA: 0s - loss: 0.0859 - accuracy: 0.9102\n",
            "Epoch 129: val_loss did not improve from 0.11760\n",
            "10/10 [==============================] - 0s 10ms/step - loss: 0.0921 - accuracy: 0.9044 - val_loss: 0.1203 - val_accuracy: 0.8980\n",
            "Epoch 130/150\n",
            " 9/10 [==========================>...] - ETA: 0s - loss: 0.0807 - accuracy: 0.9062\n",
            "Epoch 130: val_loss did not improve from 0.11760\n",
            "10/10 [==============================] - 0s 9ms/step - loss: 0.0800 - accuracy: 0.9078 - val_loss: 0.1198 - val_accuracy: 0.9320\n",
            "Epoch 131/150\n",
            " 9/10 [==========================>...] - ETA: 0s - loss: 0.0914 - accuracy: 0.9132\n",
            "Epoch 131: val_loss did not improve from 0.11760\n",
            "10/10 [==============================] - 0s 11ms/step - loss: 0.0898 - accuracy: 0.9147 - val_loss: 0.1179 - val_accuracy: 0.9184\n",
            "Epoch 132/150\n",
            "10/10 [==============================] - ETA: 0s - loss: 0.0956 - accuracy: 0.9078\n",
            "Epoch 132: val_loss did not improve from 0.11760\n",
            "10/10 [==============================] - 0s 10ms/step - loss: 0.0956 - accuracy: 0.9078 - val_loss: 0.1211 - val_accuracy: 0.9184\n",
            "Epoch 133/150\n",
            "10/10 [==============================] - ETA: 0s - loss: 0.0951 - accuracy: 0.9010\n",
            "Epoch 133: val_loss did not improve from 0.11760\n",
            "10/10 [==============================] - 0s 9ms/step - loss: 0.0951 - accuracy: 0.9010 - val_loss: 0.1193 - val_accuracy: 0.9184\n",
            "Epoch 134/150\n",
            " 8/10 [=======================>......] - ETA: 0s - loss: 0.0919 - accuracy: 0.9023\n",
            "Epoch 134: val_loss did not improve from 0.11760\n",
            "10/10 [==============================] - 0s 12ms/step - loss: 0.0879 - accuracy: 0.9078 - val_loss: 0.1181 - val_accuracy: 0.9116\n",
            "Epoch 135/150\n",
            " 8/10 [=======================>......] - ETA: 0s - loss: 0.1009 - accuracy: 0.9180\n",
            "Epoch 135: val_loss improved from 0.11760 to 0.10697, saving model to saved_models/classification.hdf5\n",
            "10/10 [==============================] - 0s 14ms/step - loss: 0.0973 - accuracy: 0.9181 - val_loss: 0.1070 - val_accuracy: 0.9048\n",
            "Epoch 136/150\n",
            " 9/10 [==========================>...] - ETA: 0s - loss: 0.0803 - accuracy: 0.9097\n",
            "Epoch 136: val_loss did not improve from 0.10697\n",
            "10/10 [==============================] - 0s 11ms/step - loss: 0.0803 - accuracy: 0.9078 - val_loss: 0.1165 - val_accuracy: 0.9184\n",
            "Epoch 137/150\n",
            " 9/10 [==========================>...] - ETA: 0s - loss: 0.0770 - accuracy: 0.9201\n",
            "Epoch 137: val_loss did not improve from 0.10697\n",
            "10/10 [==============================] - 0s 11ms/step - loss: 0.0826 - accuracy: 0.9147 - val_loss: 0.1080 - val_accuracy: 0.9184\n",
            "Epoch 138/150\n",
            " 9/10 [==========================>...] - ETA: 0s - loss: 0.0900 - accuracy: 0.8819\n",
            "Epoch 138: val_loss did not improve from 0.10697\n",
            "10/10 [==============================] - 0s 11ms/step - loss: 0.0896 - accuracy: 0.8840 - val_loss: 0.1222 - val_accuracy: 0.9116\n",
            "Epoch 139/150\n",
            " 1/10 [==>...........................] - ETA: 0s - loss: 0.1095 - accuracy: 0.9062\n",
            "Epoch 139: val_loss did not improve from 0.10697\n",
            "10/10 [==============================] - 0s 8ms/step - loss: 0.0856 - accuracy: 0.9317 - val_loss: 0.1143 - val_accuracy: 0.9116\n",
            "Epoch 140/150\n",
            " 9/10 [==========================>...] - ETA: 0s - loss: 0.0711 - accuracy: 0.9306\n",
            "Epoch 140: val_loss did not improve from 0.10697\n",
            "10/10 [==============================] - 0s 10ms/step - loss: 0.0713 - accuracy: 0.9283 - val_loss: 0.1332 - val_accuracy: 0.9184\n",
            "Epoch 141/150\n",
            " 9/10 [==========================>...] - ETA: 0s - loss: 0.0789 - accuracy: 0.9306\n",
            "Epoch 141: val_loss did not improve from 0.10697\n",
            "10/10 [==============================] - 0s 11ms/step - loss: 0.0832 - accuracy: 0.9283 - val_loss: 0.1119 - val_accuracy: 0.8912\n",
            "Epoch 142/150\n",
            " 9/10 [==========================>...] - ETA: 0s - loss: 0.1119 - accuracy: 0.8819\n",
            "Epoch 142: val_loss did not improve from 0.10697\n",
            "10/10 [==============================] - 0s 12ms/step - loss: 0.1108 - accuracy: 0.8840 - val_loss: 0.1273 - val_accuracy: 0.9184\n",
            "Epoch 143/150\n",
            " 9/10 [==========================>...] - ETA: 0s - loss: 0.0936 - accuracy: 0.8924\n",
            "Epoch 143: val_loss did not improve from 0.10697\n",
            "10/10 [==============================] - 0s 10ms/step - loss: 0.0927 - accuracy: 0.8942 - val_loss: 0.1309 - val_accuracy: 0.8776\n",
            "Epoch 144/150\n",
            " 9/10 [==========================>...] - ETA: 0s - loss: 0.0747 - accuracy: 0.9236\n",
            "Epoch 144: val_loss did not improve from 0.10697\n",
            "10/10 [==============================] - 0s 11ms/step - loss: 0.0755 - accuracy: 0.9215 - val_loss: 0.1102 - val_accuracy: 0.9184\n",
            "Epoch 145/150\n",
            " 8/10 [=======================>......] - ETA: 0s - loss: 0.0759 - accuracy: 0.9375\n",
            "Epoch 145: val_loss did not improve from 0.10697\n",
            "10/10 [==============================] - 0s 12ms/step - loss: 0.0755 - accuracy: 0.9352 - val_loss: 0.1136 - val_accuracy: 0.9184\n",
            "Epoch 146/150\n",
            " 9/10 [==========================>...] - ETA: 0s - loss: 0.0848 - accuracy: 0.9062\n",
            "Epoch 146: val_loss did not improve from 0.10697\n",
            "10/10 [==============================] - 0s 11ms/step - loss: 0.0846 - accuracy: 0.9044 - val_loss: 0.1164 - val_accuracy: 0.9320\n",
            "Epoch 147/150\n",
            " 8/10 [=======================>......] - ETA: 0s - loss: 0.0738 - accuracy: 0.9297\n",
            "Epoch 147: val_loss improved from 0.10697 to 0.10594, saving model to saved_models/classification.hdf5\n",
            "10/10 [==============================] - 0s 13ms/step - loss: 0.0730 - accuracy: 0.9317 - val_loss: 0.1059 - val_accuracy: 0.9184\n",
            "Epoch 148/150\n",
            " 9/10 [==========================>...] - ETA: 0s - loss: 0.0780 - accuracy: 0.9201\n",
            "Epoch 148: val_loss improved from 0.10594 to 0.10587, saving model to saved_models/classification.hdf5\n",
            "10/10 [==============================] - 0s 14ms/step - loss: 0.0777 - accuracy: 0.9215 - val_loss: 0.1059 - val_accuracy: 0.9320\n",
            "Epoch 149/150\n",
            " 9/10 [==========================>...] - ETA: 0s - loss: 0.0813 - accuracy: 0.9375\n",
            "Epoch 149: val_loss did not improve from 0.10587\n",
            "10/10 [==============================] - 0s 11ms/step - loss: 0.0806 - accuracy: 0.9386 - val_loss: 0.1074 - val_accuracy: 0.9320\n",
            "Epoch 150/150\n",
            " 9/10 [==========================>...] - ETA: 0s - loss: 0.0749 - accuracy: 0.9306\n",
            "Epoch 150: val_loss improved from 0.10587 to 0.10488, saving model to saved_models/classification.hdf5\n",
            "10/10 [==============================] - 0s 13ms/step - loss: 0.0752 - accuracy: 0.9317 - val_loss: 0.1049 - val_accuracy: 0.9252\n",
            "Duração do treinamento:  0:00:21.311722\n"
          ]
        }
      ]
    },
    {
      "cell_type": "code",
      "source": [
        "score = model.evaluate(X_test, y_test)\n",
        "score"
      ],
      "metadata": {
        "colab": {
          "base_uri": "https://localhost:8080/"
        },
        "id": "JLCkz4jzyh9G",
        "outputId": "47a45d0d-bd2c-4aab-e8b4-fe5f4d0c4b22"
      },
      "execution_count": null,
      "outputs": [
        {
          "output_type": "stream",
          "name": "stdout",
          "text": [
            "5/5 [==============================] - 0s 3ms/step - loss: 0.0982 - accuracy: 0.9252\n"
          ]
        },
        {
          "output_type": "execute_result",
          "data": {
            "text/plain": [
              "[0.09824635088443756, 0.9251700639724731]"
            ]
          },
          "metadata": {},
          "execution_count": 25
        }
      ]
    },
    {
      "cell_type": "code",
      "source": [
        "history.history.keys()"
      ],
      "metadata": {
        "colab": {
          "base_uri": "https://localhost:8080/"
        },
        "id": "bmwXLYcKylYh",
        "outputId": "a7cb3cc1-2cb8-4f6e-aa52-53e72524e6ac"
      },
      "execution_count": null,
      "outputs": [
        {
          "output_type": "execute_result",
          "data": {
            "text/plain": [
              "dict_keys(['loss', 'accuracy', 'val_loss', 'val_accuracy'])"
            ]
          },
          "metadata": {},
          "execution_count": 26
        }
      ]
    },
    {
      "cell_type": "code",
      "source": [
        "plt.plot(history.history['accuracy'])\n",
        "plt.plot(history.history['val_accuracy'])\n",
        "plt.ylabel('Precisão')\n",
        "plt.xlabel('Épocas')\n",
        "plt.legend(['treino', 'validação']);"
      ],
      "metadata": {
        "colab": {
          "base_uri": "https://localhost:8080/",
          "height": 286
        },
        "id": "0010elwgyqA1",
        "outputId": "c575611e-02c8-46c6-e86b-d3dbd28b4b05"
      },
      "execution_count": null,
      "outputs": [
        {
          "output_type": "display_data",
          "data": {
            "text/plain": [
              "<Figure size 432x288 with 1 Axes>"
            ],
            "image/png": "[encoded data removed]"
          },
          "metadata": {}
        }
      ]
    },
    {
      "cell_type": "code",
      "source": [
        "plt.plot(history.history['loss'])\n",
        "plt.plot(history.history['val_loss'])\n",
        "plt.ylabel('Perda')\n",
        "plt.xlabel('Épocas')\n",
        "plt.legend(['train', 'validation']);"
      ],
      "metadata": {
        "colab": {
          "base_uri": "https://localhost:8080/",
          "height": 286
        },
        "id": "0KXxvtnHyv3G",
        "outputId": "552394d1-bbe3-4351-9465-02a4b20b48e2"
      },
      "execution_count": null,
      "outputs": [
        {
          "output_type": "display_data",
          "data": {
            "text/plain": [
              "<Figure size 432x288 with 1 Axes>"
            ],
            "image/png": "[encoded data removed]"
          },
          "metadata": {}
        }
      ]
    },
    {
      "cell_type": "code",
      "source": [
        "predictions = model.predict(X_test)"
      ],
      "metadata": {
        "colab": {
          "base_uri": "https://localhost:8080/"
        },
        "id": "N69tCIi3yz-Y",
        "outputId": "e900c389-79f6-4bb8-fb99-06370d01fa30"
      },
      "execution_count": null,
      "outputs": [
        {
          "output_type": "stream",
          "name": "stdout",
          "text": [
            "5/5 [==============================] - 0s 3ms/step\n"
          ]
        }
      ]
    },
    {
      "cell_type": "code",
      "source": [
        "predictions = predictions.argmax(axis = 1)"
      ],
      "metadata": {
        "id": "t6trde8Py34e"
      },
      "execution_count": null,
      "outputs": []
    },
    {
      "cell_type": "code",
      "source": [
        "predictions = predictions.astype(int).flatten()\n",
        "predictions = (labelencoder.inverse_transform((predictions)))"
      ],
      "metadata": {
        "id": "AA2G9MC0y6gS"
      },
      "execution_count": null,
      "outputs": []
    },
    {
      "cell_type": "code",
      "source": [
        "predictions = pd.DataFrame({'Classes previstas': predictions})\n"
      ],
      "metadata": {
        "id": "_oyN4VaLzAwT"
      },
      "execution_count": null,
      "outputs": []
    },
    {
      "cell_type": "code",
      "source": [
        "actual = y_test.argmax(axis = 1)\n",
        "actual = actual.astype(int).flatten()\n",
        "actual = labelencoder.inverse_transform(actual)\n",
        "actual = pd.DataFrame({'Classes reais': actual})"
      ],
      "metadata": {
        "id": "PsoLGaZDzG5t"
      },
      "execution_count": null,
      "outputs": []
    },
    {
      "cell_type": "code",
      "source": [
        "final_df = actual.join(predictions)\n",
        "final_df"
      ],
      "metadata": {
        "colab": {
          "base_uri": "https://localhost:8080/",
          "height": 423
        },
        "id": "3fbtEYNozJZk",
        "outputId": "55d2cb1a-2f12-4621-a76d-9ee5ac04b821"
      },
      "execution_count": null,
      "outputs": [
        {
          "output_type": "execute_result",
          "data": {
            "text/plain": [
              "      Classes reais Classes previstas\n",
              "0          com-fala          com-fala\n",
              "1          com-fala          com-fala\n",
              "2             misto             misto\n",
              "3    com-fala-ruido    com-fala-ruido\n",
              "4       misto-ruido       misto-ruido\n",
              "..              ...               ...\n",
              "142  sem-fala-ruido    sem-fala-ruido\n",
              "143           misto             misto\n",
              "144  com-fala-ruido    com-fala-ruido\n",
              "145     misto-ruido       misto-ruido\n",
              "146        com-fala          com-fala\n",
              "\n",
              "[147 rows x 2 columns]"
            ],
            "text/html": [
              "\n",
              "  <div id=\"df-32a60a35-5b03-4b05-85cb-e67feebdf886\">\n",
              "    <div class=\"colab-df-container\">\n",
              "      <div>\n",
              "<style scoped>\n",
              "    .dataframe tbody tr th:only-of-type {\n",
              "        vertical-align: middle;\n",
              "    }\n",
              "\n",
              "    .dataframe tbody tr th {\n",
              "        vertical-align: top;\n",
              "    }\n",
              "\n",
              "    .dataframe thead th {\n",
              "        text-align: right;\n",
              "    }\n",
              "</style>\n",
              "<table border=\"1\" class=\"dataframe\">\n",
              "  <thead>\n",
              "    <tr style=\"text-align: right;\">\n",
              "      <th></th>\n",
              "      <th>Classes reais</th>\n",
              "      <th>Classes previstas</th>\n",
              "    </tr>\n",
              "  </thead>\n",
              "  <tbody>\n",
              "    <tr>\n",
              "      <th>0</th>\n",
              "      <td>com-fala</td>\n",
              "      <td>com-fala</td>\n",
              "    </tr>\n",
              "    <tr>\n",
              "      <th>1</th>\n",
              "      <td>com-fala</td>\n",
              "      <td>com-fala</td>\n",
              "    </tr>\n",
              "    <tr>\n",
              "      <th>2</th>\n",
              "      <td>misto</td>\n",
              "      <td>misto</td>\n",
              "    </tr>\n",
              "    <tr>\n",
              "      <th>3</th>\n",
              "      <td>com-fala-ruido</td>\n",
              "      <td>com-fala-ruido</td>\n",
              "    </tr>\n",
              "    <tr>\n",
              "      <th>4</th>\n",
              "      <td>misto-ruido</td>\n",
              "      <td>misto-ruido</td>\n",
              "    </tr>\n",
              "    <tr>\n",
              "      <th>...</th>\n",
              "      <td>...</td>\n",
              "      <td>...</td>\n",
              "    </tr>\n",
              "    <tr>\n",
              "      <th>142</th>\n",
              "      <td>sem-fala-ruido</td>\n",
              "      <td>sem-fala-ruido</td>\n",
              "    </tr>\n",
              "    <tr>\n",
              "      <th>143</th>\n",
              "      <td>misto</td>\n",
              "      <td>misto</td>\n",
              "    </tr>\n",
              "    <tr>\n",
              "      <th>144</th>\n",
              "      <td>com-fala-ruido</td>\n",
              "      <td>com-fala-ruido</td>\n",
              "    </tr>\n",
              "    <tr>\n",
              "      <th>145</th>\n",
              "      <td>misto-ruido</td>\n",
              "      <td>misto-ruido</td>\n",
              "    </tr>\n",
              "    <tr>\n",
              "      <th>146</th>\n",
              "      <td>com-fala</td>\n",
              "      <td>com-fala</td>\n",
              "    </tr>\n",
              "  </tbody>\n",
              "</table>\n",
              "<p>147 rows × 2 columns</p>\n",
              "</div>\n",
              "      <button class=\"colab-df-convert\" onclick=\"convertToInteractive('df-32a60a35-5b03-4b05-85cb-e67feebdf886')\"\n",
              "              title=\"Convert this dataframe to an interactive table.\"\n",
              "              style=\"display:none;\">\n",
              "        \n",
              "  <svg xmlns=\"http://www.w3.org/2000/svg\" height=\"24px\"viewBox=\"0 0 24 24\"\n",
              "       width=\"24px\">\n",
              "    <path d=\"M0 0h24v24H0V0z\" fill=\"none\"/>\n",
              "    <path d=\"M18.56 5.44l.94 2.06.94-2.06 2.06-.94-2.06-.94-.94-2.06-.94 2.06-2.06.94zm-11 1L8.5 8.5l.94-2.06 2.06-.94-2.06-.94L8.5 2.5l-.94 2.06-2.06.94zm10 10l.94 2.06.94-2.06 2.06-.94-2.06-.94-.94-2.06-.94 2.06-2.06.94z\"/><path d=\"M17.41 7.96l-1.37-1.37c-.4-.4-.92-.59-1.43-.59-.52 0-1.04.2-1.43.59L10.3 9.45l-7.72 7.72c-.78.78-.78 2.05 0 2.83L4 21.41c.39.39.9.59 1.41.59.51 0 1.02-.2 1.41-.59l7.78-7.78 2.81-2.81c.8-.78.8-2.07 0-2.86zM5.41 20L4 18.59l7.72-7.72 1.47 1.35L5.41 20z\"/>\n",
              "  </svg>\n",
              "      </button>\n",
              "      \n",
              "  <style>\n",
              "    .colab-df-container {\n",
              "      display:flex;\n",
              "      flex-wrap:wrap;\n",
              "      gap: 12px;\n",
              "    }\n",
              "\n",
              "    .colab-df-convert {\n",
              "      background-color: #E8F0FE;\n",
              "      border: none;\n",
              "      border-radius: 50%;\n",
              "      cursor: pointer;\n",
              "      display: none;\n",
              "      fill: #1967D2;\n",
              "      height: 32px;\n",
              "      padding: 0 0 0 0;\n",
              "      width: 32px;\n",
              "    }\n",
              "\n",
              "    .colab-df-convert:hover {\n",
              "      background-color: #E2EBFA;\n",
              "      box-shadow: 0px 1px 2px rgba(60, 64, 67, 0.3), 0px 1px 3px 1px rgba(60, 64, 67, 0.15);\n",
              "      fill: #174EA6;\n",
              "    }\n",
              "\n",
              "    [theme=dark] .colab-df-convert {\n",
              "      background-color: #3B4455;\n",
              "      fill: #D2E3FC;\n",
              "    }\n",
              "\n",
              "    [theme=dark] .colab-df-convert:hover {\n",
              "      background-color: #434B5C;\n",
              "      box-shadow: 0px 1px 3px 1px rgba(0, 0, 0, 0.15);\n",
              "      filter: drop-shadow(0px 1px 2px rgba(0, 0, 0, 0.3));\n",
              "      fill: #FFFFFF;\n",
              "    }\n",
              "  </style>\n",
              "\n",
              "      <script>\n",
              "        const buttonEl =\n",
              "          document.querySelector('#df-32a60a35-5b03-4b05-85cb-e67feebdf886 button.colab-df-convert');\n",
              "        buttonEl.style.display =\n",
              "          google.colab.kernel.accessAllowed ? 'block' : 'none';\n",
              "\n",
              "        async function convertToInteractive(key) {\n",
              "          const element = document.querySelector('#df-32a60a35-5b03-4b05-85cb-e67feebdf886');\n",
              "          const dataTable =\n",
              "            await google.colab.kernel.invokeFunction('convertToInteractive',\n",
              "                                                     [key], {});\n",
              "          if (!dataTable) return;\n",
              "\n",
              "          const docLinkHtml = 'Like what you see? Visit the ' +\n",
              "            '<a target=\"_blank\" href=https://colab.research.google.com/notebooks/data_table.ipynb>data table notebook</a>'\n",
              "            + ' to learn more about interactive tables.';\n",
              "          element.innerHTML = '';\n",
              "          dataTable['output_type'] = 'display_data';\n",
              "          await google.colab.output.renderOutput(dataTable, element);\n",
              "          const docLink = document.createElement('div');\n",
              "          docLink.innerHTML = docLinkHtml;\n",
              "          element.appendChild(docLink);\n",
              "        }\n",
              "      </script>\n",
              "    </div>\n",
              "  </div>\n",
              "  "
            ]
          },
          "metadata": {},
          "execution_count": 34
        }
      ]
    },
    {
      "cell_type": "code",
      "source": [
        "cm = confusion_matrix(actual, predictions)\n",
        "cm = pd.DataFrame(cm, index = [i for i in labelencoder.classes_], columns = [i for i in labelencoder.classes_])\n",
        "cm"
      ],
      "metadata": {
        "colab": {
          "base_uri": "https://localhost:8080/",
          "height": 237
        },
        "id": "ZgUa421nzR8J",
        "outputId": "de723301-a826-4be8-db94-48611e8c27d4"
      },
      "execution_count": null,
      "outputs": [
        {
          "output_type": "execute_result",
          "data": {
            "text/plain": [
              "                com-fala  com-fala-ruido  misto  misto-ruido  sem-fala  \\\n",
              "com-fala              26               0      4            0         0   \n",
              "com-fala-ruido         0              24      0            1         0   \n",
              "misto                  0               0     26            0         0   \n",
              "misto-ruido            0               1      0           22         0   \n",
              "sem-fala               0               0      0            0        16   \n",
              "sem-fala-ruido         0               0      0            0         0   \n",
              "\n",
              "                sem-fala-ruido  \n",
              "com-fala                     0  \n",
              "com-fala-ruido               0  \n",
              "misto                        0  \n",
              "misto-ruido                  5  \n",
              "sem-fala                     0  \n",
              "sem-fala-ruido              22  "
            ],
            "text/html": [
              "\n",
              "  <div id=\"df-7c5581ca-59e2-420d-ae7f-59e6816087be\">\n",
              "    <div class=\"colab-df-container\">\n",
              "      <div>\n",
              "<style scoped>\n",
              "    .dataframe tbody tr th:only-of-type {\n",
              "        vertical-align: middle;\n",
              "    }\n",
              "\n",
              "    .dataframe tbody tr th {\n",
              "        vertical-align: top;\n",
              "    }\n",
              "\n",
              "    .dataframe thead th {\n",
              "        text-align: right;\n",
              "    }\n",
              "</style>\n",
              "<table border=\"1\" class=\"dataframe\">\n",
              "  <thead>\n",
              "    <tr style=\"text-align: right;\">\n",
              "      <th></th>\n",
              "      <th>com-fala</th>\n",
              "      <th>com-fala-ruido</th>\n",
              "      <th>misto</th>\n",
              "      <th>misto-ruido</th>\n",
              "      <th>sem-fala</th>\n",
              "      <th>sem-fala-ruido</th>\n",
              "    </tr>\n",
              "  </thead>\n",
              "  <tbody>\n",
              "    <tr>\n",
              "      <th>com-fala</th>\n",
              "      <td>26</td>\n",
              "      <td>0</td>\n",
              "      <td>4</td>\n",
              "      <td>0</td>\n",
              "      <td>0</td>\n",
              "      <td>0</td>\n",
              "    </tr>\n",
              "    <tr>\n",
              "      <th>com-fala-ruido</th>\n",
              "      <td>0</td>\n",
              "      <td>24</td>\n",
              "      <td>0</td>\n",
              "      <td>1</td>\n",
              "      <td>0</td>\n",
              "      <td>0</td>\n",
              "    </tr>\n",
              "    <tr>\n",
              "      <th>misto</th>\n",
              "      <td>0</td>\n",
              "      <td>0</td>\n",
              "      <td>26</td>\n",
              "      <td>0</td>\n",
              "      <td>0</td>\n",
              "      <td>0</td>\n",
              "    </tr>\n",
              "    <tr>\n",
              "      <th>misto-ruido</th>\n",
              "      <td>0</td>\n",
              "      <td>1</td>\n",
              "      <td>0</td>\n",
              "      <td>22</td>\n",
              "      <td>0</td>\n",
              "      <td>5</td>\n",
              "    </tr>\n",
              "    <tr>\n",
              "      <th>sem-fala</th>\n",
              "      <td>0</td>\n",
              "      <td>0</td>\n",
              "      <td>0</td>\n",
              "      <td>0</td>\n",
              "      <td>16</td>\n",
              "      <td>0</td>\n",
              "    </tr>\n",
              "    <tr>\n",
              "      <th>sem-fala-ruido</th>\n",
              "      <td>0</td>\n",
              "      <td>0</td>\n",
              "      <td>0</td>\n",
              "      <td>0</td>\n",
              "      <td>0</td>\n",
              "      <td>22</td>\n",
              "    </tr>\n",
              "  </tbody>\n",
              "</table>\n",
              "</div>\n",
              "      <button class=\"colab-df-convert\" onclick=\"convertToInteractive('df-7c5581ca-59e2-420d-ae7f-59e6816087be')\"\n",
              "              title=\"Convert this dataframe to an interactive table.\"\n",
              "              style=\"display:none;\">\n",
              "        \n",
              "  <svg xmlns=\"http://www.w3.org/2000/svg\" height=\"24px\"viewBox=\"0 0 24 24\"\n",
              "       width=\"24px\">\n",
              "    <path d=\"M0 0h24v24H0V0z\" fill=\"none\"/>\n",
              "    <path d=\"M18.56 5.44l.94 2.06.94-2.06 2.06-.94-2.06-.94-.94-2.06-.94 2.06-2.06.94zm-11 1L8.5 8.5l.94-2.06 2.06-.94-2.06-.94L8.5 2.5l-.94 2.06-2.06.94zm10 10l.94 2.06.94-2.06 2.06-.94-2.06-.94-.94-2.06-.94 2.06-2.06.94z\"/><path d=\"M17.41 7.96l-1.37-1.37c-.4-.4-.92-.59-1.43-.59-.52 0-1.04.2-1.43.59L10.3 9.45l-7.72 7.72c-.78.78-.78 2.05 0 2.83L4 21.41c.39.39.9.59 1.41.59.51 0 1.02-.2 1.41-.59l7.78-7.78 2.81-2.81c.8-.78.8-2.07 0-2.86zM5.41 20L4 18.59l7.72-7.72 1.47 1.35L5.41 20z\"/>\n",
              "  </svg>\n",
              "      </button>\n",
              "      \n",
              "  <style>\n",
              "    .colab-df-container {\n",
              "      display:flex;\n",
              "      flex-wrap:wrap;\n",
              "      gap: 12px;\n",
              "    }\n",
              "\n",
              "    .colab-df-convert {\n",
              "      background-color: #E8F0FE;\n",
              "      border: none;\n",
              "      border-radius: 50%;\n",
              "      cursor: pointer;\n",
              "      display: none;\n",
              "      fill: #1967D2;\n",
              "      height: 32px;\n",
              "      padding: 0 0 0 0;\n",
              "      width: 32px;\n",
              "    }\n",
              "\n",
              "    .colab-df-convert:hover {\n",
              "      background-color: #E2EBFA;\n",
              "      box-shadow: 0px 1px 2px rgba(60, 64, 67, 0.3), 0px 1px 3px 1px rgba(60, 64, 67, 0.15);\n",
              "      fill: #174EA6;\n",
              "    }\n",
              "\n",
              "    [theme=dark] .colab-df-convert {\n",
              "      background-color: #3B4455;\n",
              "      fill: #D2E3FC;\n",
              "    }\n",
              "\n",
              "    [theme=dark] .colab-df-convert:hover {\n",
              "      background-color: #434B5C;\n",
              "      box-shadow: 0px 1px 3px 1px rgba(0, 0, 0, 0.15);\n",
              "      filter: drop-shadow(0px 1px 2px rgba(0, 0, 0, 0.3));\n",
              "      fill: #FFFFFF;\n",
              "    }\n",
              "  </style>\n",
              "\n",
              "      <script>\n",
              "        const buttonEl =\n",
              "          document.querySelector('#df-7c5581ca-59e2-420d-ae7f-59e6816087be button.colab-df-convert');\n",
              "        buttonEl.style.display =\n",
              "          google.colab.kernel.accessAllowed ? 'block' : 'none';\n",
              "\n",
              "        async function convertToInteractive(key) {\n",
              "          const element = document.querySelector('#df-7c5581ca-59e2-420d-ae7f-59e6816087be');\n",
              "          const dataTable =\n",
              "            await google.colab.kernel.invokeFunction('convertToInteractive',\n",
              "                                                     [key], {});\n",
              "          if (!dataTable) return;\n",
              "\n",
              "          const docLinkHtml = 'Like what you see? Visit the ' +\n",
              "            '<a target=\"_blank\" href=https://colab.research.google.com/notebooks/data_table.ipynb>data table notebook</a>'\n",
              "            + ' to learn more about interactive tables.';\n",
              "          element.innerHTML = '';\n",
              "          dataTable['output_type'] = 'display_data';\n",
              "          await google.colab.output.renderOutput(dataTable, element);\n",
              "          const docLink = document.createElement('div');\n",
              "          docLink.innerHTML = docLinkHtml;\n",
              "          element.appendChild(docLink);\n",
              "        }\n",
              "      </script>\n",
              "    </div>\n",
              "  </div>\n",
              "  "
            ]
          },
          "metadata": {},
          "execution_count": 35
        }
      ]
    },
    {
      "cell_type": "code",
      "source": [
        "plt.figure(figsize = (12,10))\n",
        "ax = sns.heatmap(cm, linecolor = 'white', cmap = 'Greys_r', linewidth=1, annot = True, fmt = '')\n",
        "bottom, top = ax.get_ylim()\n",
        "ax.set_ylim(bottom + 0.5, top - 0.5)\n",
        "plt.title('Matriz de confusão', size = 20)\n",
        "plt.xlabel('Classes previstas', size = 14)\n",
        "plt.ylabel('Classes reais', size = 14)"
      ],
      "metadata": {
        "colab": {
          "base_uri": "https://localhost:8080/",
          "height": 651
        },
        "id": "_pzjKtdSzTo4",
        "outputId": "10a2efe9-04c2-459c-c1f1-93ecc931f623"
      },
      "execution_count": null,
      "outputs": [
        {
          "output_type": "execute_result",
          "data": {
            "text/plain": [
              "Text(84.5, 0.5, 'Classes reais')"
            ]
          },
          "metadata": {},
          "execution_count": 36
        },
        {
          "output_type": "display_data",
          "data": {
            "text/plain": [
              "<Figure size 864x720 with 2 Axes>"
            ],
            "image/png": "[encoded data removed]"
          },
          "metadata": {}
        }
      ]
    },
    {
      "cell_type": "code",
      "source": [
        "print(classification_report(actual, predictions))"
      ],
      "metadata": {
        "colab": {
          "base_uri": "https://localhost:8080/"
        },
        "id": "FvyKzbGSzdR3",
        "outputId": "db3f0deb-4dee-4a4b-f585-e1449e5ee866"
      },
      "execution_count": null,
      "outputs": [
        {
          "output_type": "stream",
          "name": "stdout",
          "text": [
            "                precision    recall  f1-score   support\n",
            "\n",
            "      com-fala       1.00      0.87      0.93        30\n",
            "com-fala-ruido       0.96      0.96      0.96        25\n",
            "         misto       0.87      1.00      0.93        26\n",
            "   misto-ruido       0.96      0.79      0.86        28\n",
            "      sem-fala       1.00      1.00      1.00        16\n",
            "sem-fala-ruido       0.81      1.00      0.90        22\n",
            "\n",
            "      accuracy                           0.93       147\n",
            "     macro avg       0.93      0.94      0.93       147\n",
            "  weighted avg       0.93      0.93      0.92       147\n",
            "\n"
          ]
        }
      ]
    },
    {
      "cell_type": "markdown",
      "source": [
        "##Testando o modelo"
      ],
      "metadata": {
        "id": "xQADEdGVziBl"
      }
    },
    {
      "cell_type": "code",
      "source": [
        "def predict_sound(arquivo_audio):\n",
        "  audio, sample_rate = librosa.load(arquivo_audio, sr = None, res_type = 'kaiser_best')\n",
        "  mfccs_features = librosa.feature.mfcc(y = audio, sr = sample_rate, n_mfcc=40)\n",
        "  mfccs_scaled_features = np.mean(mfccs_features.T, axis = 0)\n",
        "  mfccs_scaled_features = mfccs_scaled_features.reshape(1,-1)\n",
        "  mfccs_scaled_features = mfccs_scaled_features[:,:,np.newaxis]\n",
        "\n",
        "  prediction = model.predict(mfccs_scaled_features)\n",
        "  prediction = prediction.argmax(axis=1)\n",
        "  prediction = prediction.astype(int).flatten()\n",
        "  prediction = labelencoder.inverse_transform((prediction))\n",
        "\n",
        "  print('Classificação/resultado: ', prediction)"
      ],
      "metadata": {
        "id": "PwgD8QFDzoN9"
      },
      "execution_count": null,
      "outputs": []
    },
    {
      "cell_type": "code",
      "source": [
        "caminho = '/content/drive/My Drive/UTFPR/videos/video_final/'\n",
        "caminho_final = []\n",
        "classe_real = []\n",
        "for root, dirs, files in os.walk(caminho):\n",
        "  for file in files:\n",
        "    try:\n",
        "      concat = caminho + file\n",
        "      caminho_final.append((concat))\n",
        "      classe = file.split('-')[1]\n",
        "      classe = int(classe.split('.')[0])\n",
        "      classe_real.append(classe)\n",
        "    except ValueError:\n",
        "      continue\n",
        "\n",
        "classe_real_dict = []\n",
        "for classe in classe_real:\n",
        "      if classe == 0:\n",
        "        classe = 'sem-fala'\n",
        "      if classe == 1:\n",
        "        classe = 'com-fala'\n",
        "      if classe == 2:\n",
        "        classe = 'misto'\n",
        "      if classe == 3:\n",
        "        classe = 'sem-fala-ruido'\n",
        "      if classe == 4:\n",
        "        classe = 'com-fala-ruido'\n",
        "      if classe == 5:\n",
        "        classe = 'misto-ruido'\n",
        "      classe_real_dict.append(classe)\n",
        "      \n",
        "print(classe_real)\n",
        "print(classe_real_dict)"
      ],
      "metadata": {
        "colab": {
          "base_uri": "https://localhost:8080/"
        },
        "id": "FwPfjH4VvkyK",
        "outputId": "09a0e9dd-13d5-4484-aba5-6f1cdca1d919"
      },
      "execution_count": null,
      "outputs": [
        {
          "output_type": "stream",
          "name": "stdout",
          "text": [
            "[0, 0, 1, 2, 0, 1, 2, 0, 1, 1, 2, 3, 4, 4, 3, 3, 4, 5, 0, 1, 1, 2, 0, 1]\n",
            "['sem-fala', 'sem-fala', 'com-fala', 'misto', 'sem-fala', 'com-fala', 'misto', 'sem-fala', 'com-fala', 'com-fala', 'misto', 'sem-fala-ruido', 'com-fala-ruido', 'com-fala-ruido', 'sem-fala-ruido', 'sem-fala-ruido', 'com-fala-ruido', 'misto-ruido', 'sem-fala', 'com-fala', 'com-fala', 'misto', 'sem-fala', 'com-fala']\n"
          ]
        }
      ]
    },
    {
      "cell_type": "code",
      "source": [
        "i = 0\n",
        "for caminho in caminho_final:\n",
        "  print(caminho)\n",
        "  print(\"Classe real do trecho de vídeo: \", classe_real_dict[i])\n",
        "  predict_sound(caminho)\n",
        "  print('\\n')\n",
        "  i = i + 1"
      ],
      "metadata": {
        "colab": {
          "base_uri": "https://localhost:8080/"
        },
        "id": "duM8ObBMwI6p",
        "outputId": "3872eb72-7b19-4b50-8d5d-756cfbd9c48a"
      },
      "execution_count": null,
      "outputs": [
        {
          "output_type": "stream",
          "name": "stdout",
          "text": [
            "/content/drive/My Drive/UTFPR/videos/video_final/001-0.wav\n",
            "Classe real do trecho de vídeo:  sem-fala\n",
            "1/1 [==============================] - 0s 17ms/step\n",
            "Classificação/resultado:  ['sem-fala']\n",
            "\n",
            "\n",
            "/content/drive/My Drive/UTFPR/videos/video_final/002-0.wav\n",
            "Classe real do trecho de vídeo:  sem-fala\n",
            "1/1 [==============================] - 0s 22ms/step\n",
            "Classificação/resultado:  ['sem-fala']\n",
            "\n",
            "\n",
            "/content/drive/My Drive/UTFPR/videos/video_final/003-1.wav\n",
            "Classe real do trecho de vídeo:  com-fala\n",
            "1/1 [==============================] - 0s 19ms/step\n",
            "Classificação/resultado:  ['com-fala']\n",
            "\n",
            "\n",
            "/content/drive/My Drive/UTFPR/videos/video_final/004-2.wav\n",
            "Classe real do trecho de vídeo:  misto\n",
            "1/1 [==============================] - 0s 20ms/step\n",
            "Classificação/resultado:  ['misto']\n",
            "\n",
            "\n",
            "/content/drive/My Drive/UTFPR/videos/video_final/005-0.wav\n",
            "Classe real do trecho de vídeo:  sem-fala\n",
            "1/1 [==============================] - 0s 18ms/step\n",
            "Classificação/resultado:  ['sem-fala']\n",
            "\n",
            "\n",
            "/content/drive/My Drive/UTFPR/videos/video_final/006-1.wav\n",
            "Classe real do trecho de vídeo:  com-fala\n",
            "1/1 [==============================] - 0s 23ms/step\n",
            "Classificação/resultado:  ['com-fala']\n",
            "\n",
            "\n",
            "/content/drive/My Drive/UTFPR/videos/video_final/007-2.wav\n",
            "Classe real do trecho de vídeo:  misto\n",
            "1/1 [==============================] - 0s 27ms/step\n",
            "Classificação/resultado:  ['sem-fala']\n",
            "\n",
            "\n",
            "/content/drive/My Drive/UTFPR/videos/video_final/008-0.wav\n",
            "Classe real do trecho de vídeo:  sem-fala\n",
            "1/1 [==============================] - 0s 17ms/step\n",
            "Classificação/resultado:  ['sem-fala']\n",
            "\n",
            "\n",
            "/content/drive/My Drive/UTFPR/videos/video_final/009-1.wav\n",
            "Classe real do trecho de vídeo:  com-fala\n",
            "1/1 [==============================] - 0s 22ms/step\n",
            "Classificação/resultado:  ['com-fala']\n",
            "\n",
            "\n",
            "/content/drive/My Drive/UTFPR/videos/video_final/010-1.wav\n",
            "Classe real do trecho de vídeo:  com-fala\n",
            "1/1 [==============================] - 0s 18ms/step\n",
            "Classificação/resultado:  ['com-fala']\n",
            "\n",
            "\n",
            "/content/drive/My Drive/UTFPR/videos/video_final/011-2.wav\n",
            "Classe real do trecho de vídeo:  misto\n",
            "1/1 [==============================] - 0s 17ms/step\n",
            "Classificação/resultado:  ['misto']\n",
            "\n",
            "\n",
            "/content/drive/My Drive/UTFPR/videos/video_final/012-3.wav\n",
            "Classe real do trecho de vídeo:  sem-fala-ruido\n",
            "1/1 [==============================] - 0s 19ms/step\n",
            "Classificação/resultado:  ['sem-fala-ruido']\n",
            "\n",
            "\n",
            "/content/drive/My Drive/UTFPR/videos/video_final/013-4.wav\n",
            "Classe real do trecho de vídeo:  com-fala-ruido\n",
            "1/1 [==============================] - 0s 21ms/step\n",
            "Classificação/resultado:  ['com-fala']\n",
            "\n",
            "\n",
            "/content/drive/My Drive/UTFPR/videos/video_final/014-4.wav\n",
            "Classe real do trecho de vídeo:  com-fala-ruido\n",
            "1/1 [==============================] - 0s 78ms/step\n",
            "Classificação/resultado:  ['com-fala']\n",
            "\n",
            "\n",
            "/content/drive/My Drive/UTFPR/videos/video_final/015-3.wav\n",
            "Classe real do trecho de vídeo:  sem-fala-ruido\n",
            "1/1 [==============================] - 0s 18ms/step\n",
            "Classificação/resultado:  ['sem-fala-ruido']\n",
            "\n",
            "\n",
            "/content/drive/My Drive/UTFPR/videos/video_final/016-3.wav\n",
            "Classe real do trecho de vídeo:  sem-fala-ruido\n",
            "1/1 [==============================] - 0s 54ms/step\n",
            "Classificação/resultado:  ['sem-fala-ruido']\n",
            "\n",
            "\n",
            "/content/drive/My Drive/UTFPR/videos/video_final/017-4.wav\n",
            "Classe real do trecho de vídeo:  com-fala-ruido\n",
            "1/1 [==============================] - 0s 21ms/step\n",
            "Classificação/resultado:  ['misto-ruido']\n",
            "\n",
            "\n",
            "/content/drive/My Drive/UTFPR/videos/video_final/018-5.wav\n",
            "Classe real do trecho de vídeo:  misto-ruido\n",
            "1/1 [==============================] - 0s 32ms/step\n",
            "Classificação/resultado:  ['misto-ruido']\n",
            "\n",
            "\n",
            "/content/drive/My Drive/UTFPR/videos/video_final/019-0.wav\n",
            "Classe real do trecho de vídeo:  sem-fala\n",
            "1/1 [==============================] - 0s 16ms/step\n",
            "Classificação/resultado:  ['sem-fala']\n",
            "\n",
            "\n",
            "/content/drive/My Drive/UTFPR/videos/video_final/020-1.wav\n",
            "Classe real do trecho de vídeo:  com-fala\n",
            "1/1 [==============================] - 0s 25ms/step\n",
            "Classificação/resultado:  ['com-fala']\n",
            "\n",
            "\n",
            "/content/drive/My Drive/UTFPR/videos/video_final/021-1.wav\n",
            "Classe real do trecho de vídeo:  com-fala\n",
            "1/1 [==============================] - 0s 21ms/step\n",
            "Classificação/resultado:  ['com-fala']\n",
            "\n",
            "\n",
            "/content/drive/My Drive/UTFPR/videos/video_final/022-2.wav\n",
            "Classe real do trecho de vídeo:  misto\n",
            "1/1 [==============================] - 0s 17ms/step\n",
            "Classificação/resultado:  ['misto']\n",
            "\n",
            "\n",
            "/content/drive/My Drive/UTFPR/videos/video_final/023-0.wav\n",
            "Classe real do trecho de vídeo:  sem-fala\n",
            "1/1 [==============================] - 0s 22ms/step\n",
            "Classificação/resultado:  ['sem-fala']\n",
            "\n",
            "\n",
            "/content/drive/My Drive/UTFPR/videos/video_final/024-1.wav\n",
            "Classe real do trecho de vídeo:  com-fala\n",
            "1/1 [==============================] - 0s 19ms/step\n",
            "Classificação/resultado:  ['com-fala']\n",
            "\n",
            "\n"
          ]
        }
      ]
    }
  ]
}