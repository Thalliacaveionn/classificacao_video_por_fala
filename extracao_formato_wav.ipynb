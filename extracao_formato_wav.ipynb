{
  "cells": [
    {
      "cell_type": "markdown",
      "metadata": {
        "id": "view-in-github",
        "colab_type": "text"
      },
      "source": [
        "<a href=\"https://colab.research.google.com/github/Thalliacaveionn/classificacao_video_por_fala/blob/main/extracao_formato_wav.ipynb\" target=\"_parent\"><img src=\"https://colab.research.google.com/assets/colab-badge.svg\" alt=\"Open In Colab\"/></a>"
      ]
    },
    {
      "cell_type": "markdown",
      "metadata": {
        "id": "la_QBT6bPV6_"
      },
      "source": [
        "##Instalando as bibliotecas necessárias para o projeto"
      ]
    },
    {
      "cell_type": "code",
      "execution_count": null,
      "metadata": {
        "colab": {
          "base_uri": "https://localhost:8080/"
        },
        "id": "_Y7CsnBNCciq",
        "outputId": "25bf67a7-e1ab-4e42-9b10-95d71be7698d"
      },
      "outputs": [
        {
          "output_type": "stream",
          "name": "stdout",
          "text": [
            "Looking in indexes: https://pypi.org/simple, https://us-python.pkg.dev/colab-wheels/public/simple/\n",
            "Collecting ffmpy\n",
            "  Downloading ffmpy-0.3.0.tar.gz (4.8 kB)\n",
            "Building wheels for collected packages: ffmpy\n",
            "  Building wheel for ffmpy (setup.py) ... \u001b[?25l\u001b[?25hdone\n",
            "  Created wheel for ffmpy: filename=ffmpy-0.3.0-py3-none-any.whl size=4709 sha256=394a0d064e8fd89db96d01355ad8822e6bf325cc567d73be84dad01950657a5d\n",
            "  Stored in directory: /root/.cache/pip/wheels/13/e4/6c/e8059816e86796a597c6e6b0d4c880630f51a1fcfa0befd5e6\n",
            "Successfully built ffmpy\n",
            "Installing collected packages: ffmpy\n",
            "Successfully installed ffmpy-0.3.0\n"
          ]
        }
      ],
      "source": [
        "!pip install ffmpy"
      ]
    },
    {
      "cell_type": "markdown",
      "metadata": {
        "id": "JFmi20A4PaOX"
      },
      "source": [
        "##Importando as bibliotecas necessárias"
      ]
    },
    {
      "cell_type": "code",
      "execution_count": null,
      "metadata": {
        "id": "rpL1B0gSCu_f"
      },
      "outputs": [],
      "source": [
        "import os\n",
        "import ffmpy"
      ]
    },
    {
      "cell_type": "markdown",
      "metadata": {
        "id": "Xdl_pMOwPjIz"
      },
      "source": [
        "##Pegando cada vídeo da base de dados e transformando em .wav"
      ]
    },
    {
      "cell_type": "code",
      "execution_count": null,
      "metadata": {
        "id": "3HRUnb0RCwNU"
      },
      "outputs": [],
      "source": [
        "inputdir = '/content'\n",
        "\n",
        "for filename in os.listdir(inputdir):\n",
        "    actual_filename = filename[:-4]\n",
        "    if(filename.endswith(\".wmv\")):\n",
        "        os.system('ffmpeg -i {} -acodec pcm_s16le -ar 16000 {}.wav'.format(filename, actual_filename))\n",
        "    else:\n",
        "        continue"
      ]
    }
  ],
  "metadata": {
    "colab": {
      "provenance": [],
      "authorship_tag": "ABX9TyN+EnamUi2L6fMW+t27rQZh",
      "include_colab_link": true
    },
    "kernelspec": {
      "display_name": "Python 3",
      "name": "python3"
    },
    "language_info": {
      "name": "python"
    }
  },
  "nbformat": 4,
  "nbformat_minor": 0
}